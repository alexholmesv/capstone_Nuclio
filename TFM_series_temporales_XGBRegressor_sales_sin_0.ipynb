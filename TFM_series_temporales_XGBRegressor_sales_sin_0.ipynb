{
  "cells": [
    {
      "cell_type": "code",
      "execution_count": 270,
      "id": "4e242cfb",
      "metadata": {
        "colab": {
          "base_uri": "https://localhost:8080/"
        },
        "id": "4e242cfb",
        "outputId": "532f02c2-9d22-425d-8ae3-6f5d25a0eb33"
      },
      "outputs": [],
      "source": [
        "import os\n",
        "\n",
        "import pandas as pd\n",
        "import xgboost as xgb"
      ]
    },
    {
      "cell_type": "code",
      "execution_count": 271,
      "id": "722bdbf8",
      "metadata": {
        "colab": {
          "base_uri": "https://localhost:8080/"
        },
        "id": "722bdbf8",
        "outputId": "32a4ab67-c8a5-4a43-b473-cf4f851a93ea"
      },
      "outputs": [
        {
          "name": "stdout",
          "output_type": "stream",
          "text": [
            "pandas version: 1.5.1\n",
            "xgboost version: 1.3.3\n"
          ]
        }
      ],
      "source": [
        "print(f\"pandas version: {pd.__version__}\")\n",
        "print(f\"xgboost version: {xgb.__version__}\")"
      ]
    },
    {
      "cell_type": "code",
      "execution_count": 272,
      "id": "63c67172",
      "metadata": {
        "id": "63c67172"
      },
      "outputs": [],
      "source": [
        "if pd.__version__ != \"1.5.1\":\n",
        "    os.system(\"pip install pandas==1.5.1\")"
      ]
    },
    {
      "cell_type": "code",
      "execution_count": 273,
      "id": "73ddd751",
      "metadata": {
        "id": "73ddd751"
      },
      "outputs": [],
      "source": [
        "if xgb.__version__ != \"1.3.3\":\n",
        "    os.system(\"pip install xgboost==1.3.3\")"
      ]
    },
    {
      "cell_type": "code",
      "execution_count": 274,
      "id": "707e81f5",
      "metadata": {
        "id": "707e81f5"
      },
      "outputs": [],
      "source": [
        "import pickle\n",
        "import os\n",
        "\n",
        "from datetime import datetime\n",
        "import pandas as pd\n",
        "import numpy as np\n",
        "\n",
        "import matplotlib.pyplot as plt\n",
        "%matplotlib inline\n",
        "\n",
        "from sklearn.metrics import mean_squared_error\n",
        "from sklearn.preprocessing import OrdinalEncoder\n",
        "\n",
        "import xgboost as xgb\n",
        "\n",
        "from statsmodels.graphics.tsaplots import plot_acf, plot_pacf"
      ]
    },
    {
      "cell_type": "code",
      "execution_count": 275,
      "id": "7a8730e3",
      "metadata": {
        "colab": {
          "base_uri": "https://localhost:8080/"
        },
        "id": "7a8730e3",
        "outputId": "64cbfe57-fe87-46bb-a9bc-b6436dbe8792"
      },
      "outputs": [],
      "source": [
        "#from google.colab import drive\n",
        "#drive.mount('/content/drive')"
      ]
    },
    {
      "cell_type": "code",
      "execution_count": 276,
      "id": "9b14e281",
      "metadata": {
        "id": "9b14e281"
      },
      "outputs": [],
      "source": [
        "#! pip install xgboost==1.3.3"
      ]
    },
    {
      "cell_type": "code",
      "execution_count": 277,
      "id": "3a1b2c41",
      "metadata": {
        "id": "3a1b2c41"
      },
      "outputs": [],
      "source": [
        "if xgb.__version__ != \"1.3.3\":\n",
        "    os.system(\"pip install xgboost==1.3.3\")"
      ]
    },
    {
      "cell_type": "code",
      "execution_count": 278,
      "id": "97219cf7",
      "metadata": {
        "colab": {
          "base_uri": "https://localhost:8080/"
        },
        "id": "97219cf7",
        "outputId": "94d44999-6692-4366-a014-e1d3a000458c"
      },
      "outputs": [
        {
          "name": "stdout",
          "output_type": "stream",
          "text": [
            "Working with these versions of libraries\n",
            "\n",
            "--------------------------------------------------\n",
            "Numpy version 1.26.2\n",
            "Pandas version 1.5.1\n",
            "XGBoost version 1.3.3\n"
          ]
        }
      ],
      "source": [
        "print(\"Working with these versions of libraries\\n\")\n",
        "print(\"-\"*50)\n",
        "print(f\"Numpy version {np.__version__}\")\n",
        "print(f\"Pandas version {pd.__version__}\")\n",
        "print(f\"XGBoost version {xgb.__version__}\")"
      ]
    },
    {
      "cell_type": "markdown",
      "id": "30253d6d",
      "metadata": {
        "id": "30253d6d"
      },
      "source": [
        "<a id='data_load'></a>\n",
        "### Data Loading\n",
        "[Volver al índice](#index)\n",
        "\n",
        "Vamos a cargar nuestro dataset para comenzar con el EDA."
      ]
    },
    {
      "cell_type": "code",
      "execution_count": 279,
      "id": "Z_hyJZFcCTE7",
      "metadata": {
        "id": "Z_hyJZFcCTE7"
      },
      "outputs": [],
      "source": [
        "#google colab\n",
        "\n",
        "#df = pd.read_csv('/content/drive/MyDrive/Colab Notebooks/TFM/Predict_5.csv')\n",
        "#df.sample(5)"
      ]
    },
    {
      "cell_type": "code",
      "execution_count": null,
      "id": "FhxIkYm5tERb",
      "metadata": {
        "id": "FhxIkYm5tERb"
      },
      "outputs": [],
      "source": []
    },
    {
      "cell_type": "code",
      "execution_count": 280,
      "id": "fd354680",
      "metadata": {
        "id": "fd354680"
      },
      "outputs": [
        {
          "data": {
            "text/html": [
              "<div>\n",
              "<style scoped>\n",
              "    .dataframe tbody tr th:only-of-type {\n",
              "        vertical-align: middle;\n",
              "    }\n",
              "\n",
              "    .dataframe tbody tr th {\n",
              "        vertical-align: top;\n",
              "    }\n",
              "\n",
              "    .dataframe thead th {\n",
              "        text-align: right;\n",
              "    }\n",
              "</style>\n",
              "<table border=\"1\" class=\"dataframe\">\n",
              "  <thead>\n",
              "    <tr style=\"text-align: right;\">\n",
              "      <th></th>\n",
              "      <th>id</th>\n",
              "      <th>yearweek</th>\n",
              "      <th>sales</th>\n",
              "      <th>item</th>\n",
              "      <th>category</th>\n",
              "      <th>store</th>\n",
              "      <th>region</th>\n",
              "      <th>sell_price</th>\n",
              "      <th>date</th>\n",
              "      <th>date_week</th>\n",
              "      <th>...</th>\n",
              "      <th>indicator_sales_week</th>\n",
              "      <th>product_rotation_weekly</th>\n",
              "      <th>rotation_category</th>\n",
              "      <th>total_sales_week</th>\n",
              "      <th>participacion_ventas</th>\n",
              "      <th>sales_pct_change</th>\n",
              "      <th>gama</th>\n",
              "      <th>cat_gama</th>\n",
              "      <th>sales_item_region</th>\n",
              "      <th>sales_store_region</th>\n",
              "    </tr>\n",
              "  </thead>\n",
              "  <tbody>\n",
              "    <tr>\n",
              "      <th>7804063</th>\n",
              "      <td>SUPERMARKET_3_573_BOS_2</td>\n",
              "      <td>201352.0</td>\n",
              "      <td>0.0</td>\n",
              "      <td>773.0</td>\n",
              "      <td>1.0</td>\n",
              "      <td>2.0</td>\n",
              "      <td>2.0</td>\n",
              "      <td>1.2000</td>\n",
              "      <td>2013-12-31</td>\n",
              "      <td>2014-01-05</td>\n",
              "      <td>...</td>\n",
              "      <td>0</td>\n",
              "      <td>0.000000</td>\n",
              "      <td>1.0</td>\n",
              "      <td>241209.0</td>\n",
              "      <td>0.000000</td>\n",
              "      <td>0.0</td>\n",
              "      <td>1.199948</td>\n",
              "      <td>2.0</td>\n",
              "      <td>0.0</td>\n",
              "      <td>27266.0</td>\n",
              "    </tr>\n",
              "    <tr>\n",
              "      <th>1680486</th>\n",
              "      <td>HOME_&amp;_GARDEN_1_039_NYC_1</td>\n",
              "      <td>201221.0</td>\n",
              "      <td>1.0</td>\n",
              "      <td>1819.0</td>\n",
              "      <td>2.0</td>\n",
              "      <td>4.0</td>\n",
              "      <td>1.0</td>\n",
              "      <td>3.7125</td>\n",
              "      <td>2012-05-31</td>\n",
              "      <td>2012-05-27</td>\n",
              "      <td>...</td>\n",
              "      <td>1</td>\n",
              "      <td>0.005236</td>\n",
              "      <td>1.0</td>\n",
              "      <td>220443.0</td>\n",
              "      <td>0.000005</td>\n",
              "      <td>0.0</td>\n",
              "      <td>3.587442</td>\n",
              "      <td>1.0</td>\n",
              "      <td>19.0</td>\n",
              "      <td>26717.0</td>\n",
              "    </tr>\n",
              "    <tr>\n",
              "      <th>6166032</th>\n",
              "      <td>SUPERMARKET_2_384_BOS_1</td>\n",
              "      <td>201330.0</td>\n",
              "      <td>7.0</td>\n",
              "      <td>234.0</td>\n",
              "      <td>1.0</td>\n",
              "      <td>1.0</td>\n",
              "      <td>2.0</td>\n",
              "      <td>2.7360</td>\n",
              "      <td>2013-08-31</td>\n",
              "      <td>2013-08-04</td>\n",
              "      <td>...</td>\n",
              "      <td>1</td>\n",
              "      <td>0.025735</td>\n",
              "      <td>4.0</td>\n",
              "      <td>259737.0</td>\n",
              "      <td>0.000027</td>\n",
              "      <td>0.0</td>\n",
              "      <td>2.628172</td>\n",
              "      <td>1.0</td>\n",
              "      <td>39.0</td>\n",
              "      <td>22132.0</td>\n",
              "    </tr>\n",
              "    <tr>\n",
              "      <th>884622</th>\n",
              "      <td>ACCESORIES_1_326_BOS_1</td>\n",
              "      <td>201437.0</td>\n",
              "      <td>1.0</td>\n",
              "      <td>2106.0</td>\n",
              "      <td>3.0</td>\n",
              "      <td>1.0</td>\n",
              "      <td>2.0</td>\n",
              "      <td>2.6201</td>\n",
              "      <td>2014-09-30</td>\n",
              "      <td>2014-09-21</td>\n",
              "      <td>...</td>\n",
              "      <td>1</td>\n",
              "      <td>0.004739</td>\n",
              "      <td>1.0</td>\n",
              "      <td>249899.0</td>\n",
              "      <td>0.000004</td>\n",
              "      <td>0.0</td>\n",
              "      <td>2.622593</td>\n",
              "      <td>1.0</td>\n",
              "      <td>7.0</td>\n",
              "      <td>20654.0</td>\n",
              "    </tr>\n",
              "    <tr>\n",
              "      <th>7421095</th>\n",
              "      <td>SUPERMARKET_3_435_PHI_2</td>\n",
              "      <td>201545.0</td>\n",
              "      <td>0.0</td>\n",
              "      <td>1398.0</td>\n",
              "      <td>1.0</td>\n",
              "      <td>9.0</td>\n",
              "      <td>3.0</td>\n",
              "      <td>1.7760</td>\n",
              "      <td>2015-11-30</td>\n",
              "      <td>2015-11-15</td>\n",
              "      <td>...</td>\n",
              "      <td>0</td>\n",
              "      <td>0.000000</td>\n",
              "      <td>1.0</td>\n",
              "      <td>268817.0</td>\n",
              "      <td>0.000000</td>\n",
              "      <td>-1.0</td>\n",
              "      <td>1.576860</td>\n",
              "      <td>2.0</td>\n",
              "      <td>0.0</td>\n",
              "      <td>32452.0</td>\n",
              "    </tr>\n",
              "  </tbody>\n",
              "</table>\n",
              "<p>5 rows × 26 columns</p>\n",
              "</div>"
            ],
            "text/plain": [
              "                                id  yearweek  sales    item  category  store  \\\n",
              "7804063    SUPERMARKET_3_573_BOS_2  201352.0    0.0   773.0       1.0    2.0   \n",
              "1680486  HOME_&_GARDEN_1_039_NYC_1  201221.0    1.0  1819.0       2.0    4.0   \n",
              "6166032    SUPERMARKET_2_384_BOS_1  201330.0    7.0   234.0       1.0    1.0   \n",
              "884622      ACCESORIES_1_326_BOS_1  201437.0    1.0  2106.0       3.0    1.0   \n",
              "7421095    SUPERMARKET_3_435_PHI_2  201545.0    0.0  1398.0       1.0    9.0   \n",
              "\n",
              "         region  sell_price        date   date_week  ...  \\\n",
              "7804063     2.0      1.2000  2013-12-31  2014-01-05  ...   \n",
              "1680486     1.0      3.7125  2012-05-31  2012-05-27  ...   \n",
              "6166032     2.0      2.7360  2013-08-31  2013-08-04  ...   \n",
              "884622      2.0      2.6201  2014-09-30  2014-09-21  ...   \n",
              "7421095     3.0      1.7760  2015-11-30  2015-11-15  ...   \n",
              "\n",
              "         indicator_sales_week  product_rotation_weekly  rotation_category  \\\n",
              "7804063                     0                 0.000000                1.0   \n",
              "1680486                     1                 0.005236                1.0   \n",
              "6166032                     1                 0.025735                4.0   \n",
              "884622                      1                 0.004739                1.0   \n",
              "7421095                     0                 0.000000                1.0   \n",
              "\n",
              "         total_sales_week  participacion_ventas  sales_pct_change      gama  \\\n",
              "7804063          241209.0              0.000000               0.0  1.199948   \n",
              "1680486          220443.0              0.000005               0.0  3.587442   \n",
              "6166032          259737.0              0.000027               0.0  2.628172   \n",
              "884622           249899.0              0.000004               0.0  2.622593   \n",
              "7421095          268817.0              0.000000              -1.0  1.576860   \n",
              "\n",
              "         cat_gama  sales_item_region  sales_store_region  \n",
              "7804063       2.0                0.0             27266.0  \n",
              "1680486       1.0               19.0             26717.0  \n",
              "6166032       1.0               39.0             22132.0  \n",
              "884622        1.0                7.0             20654.0  \n",
              "7421095       2.0                0.0             32452.0  \n",
              "\n",
              "[5 rows x 26 columns]"
            ]
          },
          "execution_count": 280,
          "metadata": {},
          "output_type": "execute_result"
        }
      ],
      "source": [
        "df = pd.read_csv(r\"C:\\Users\\npere\\OneDrive\\Desktop\\Master Data Science\\capstone-project\\Notebooks\\dataset reduccion de memoria\\Predicción\\Predict_10.csv\")\n",
        "df.sample(5)\n"
      ]
    },
    {
      "cell_type": "markdown",
      "id": "6702832f",
      "metadata": {
        "id": "6702832f"
      },
      "source": [
        "Vamos a ver que tipo de datos tenemos en nuestro dataset."
      ]
    },
    {
      "cell_type": "code",
      "execution_count": 282,
      "id": "2a262ea8",
      "metadata": {
        "id": "2a262ea8"
      },
      "outputs": [
        {
          "name": "stdout",
          "output_type": "stream",
          "text": [
            "<class 'pandas.core.frame.DataFrame'>\n",
            "RangeIndex: 8506710 entries, 0 to 8506709\n",
            "Data columns (total 26 columns):\n",
            " #   Column                   Dtype  \n",
            "---  ------                   -----  \n",
            " 0   id                       object \n",
            " 1   yearweek                 float64\n",
            " 2   sales                    float64\n",
            " 3   item                     float64\n",
            " 4   category                 float64\n",
            " 5   store                    float64\n",
            " 6   region                   float64\n",
            " 7   sell_price               float64\n",
            " 8   date                     object \n",
            " 9   date_week                object \n",
            " 10  event                    float64\n",
            " 11  revenue                  float64\n",
            " 12  yearweek_prim_venta      float64\n",
            " 13  yearweek_ult_venta       float64\n",
            " 14  num_yearweek_no_sales    float64\n",
            " 15  estado_id                float64\n",
            " 16  indicator_sales_week     int64  \n",
            " 17  product_rotation_weekly  float64\n",
            " 18  rotation_category        float64\n",
            " 19  total_sales_week         float64\n",
            " 20  participacion_ventas     float64\n",
            " 21  sales_pct_change         float64\n",
            " 22  gama                     float64\n",
            " 23  cat_gama                 float64\n",
            " 24  sales_item_region        float64\n",
            " 25  sales_store_region       float64\n",
            "dtypes: float64(22), int64(1), object(3)\n",
            "memory usage: 1.6+ GB\n"
          ]
        }
      ],
      "source": [
        "#ver el tipo de formato de cada columna\n",
        "df.info()"
      ]
    },
    {
      "cell_type": "code",
      "execution_count": 283,
      "id": "ced9d686",
      "metadata": {
        "id": "ced9d686"
      },
      "outputs": [],
      "source": [
        "# convertimos a formato fecha\n",
        "df[\"date\"] = pd.to_datetime(df[\"date\"])\n",
        "df[\"date_week\"] = pd.to_datetime(df[\"date_week\"])"
      ]
    },
    {
      "cell_type": "markdown",
      "id": "e47f8dae",
      "metadata": {
        "id": "e47f8dae"
      },
      "source": [
        "# Benchmark\n"
      ]
    },
    {
      "cell_type": "markdown",
      "id": "f478f852",
      "metadata": {
        "id": "f478f852"
      },
      "source": [
        "Tenemos un total de 30490 Series Temporales en el dataset:"
      ]
    },
    {
      "cell_type": "code",
      "execution_count": 284,
      "id": "64638d2b",
      "metadata": {
        "id": "64638d2b"
      },
      "outputs": [
        {
          "data": {
            "text/plain": [
              "30490"
            ]
          },
          "execution_count": 284,
          "metadata": {},
          "output_type": "execute_result"
        }
      ],
      "source": [
        "df[\"id\"].nunique()"
      ]
    },
    {
      "cell_type": "code",
      "execution_count": 285,
      "id": "aN3Wp9-_5XgI",
      "metadata": {
        "id": "aN3Wp9-_5XgI"
      },
      "outputs": [
        {
          "data": {
            "text/plain": [
              "3049"
            ]
          },
          "execution_count": 285,
          "metadata": {},
          "output_type": "execute_result"
        }
      ],
      "source": [
        "df[\"item\"].nunique()"
      ]
    },
    {
      "cell_type": "code",
      "execution_count": 286,
      "id": "-TRzRrHp5XUN",
      "metadata": {
        "id": "-TRzRrHp5XUN"
      },
      "outputs": [
        {
          "data": {
            "text/plain": [
              "10"
            ]
          },
          "execution_count": 286,
          "metadata": {},
          "output_type": "execute_result"
        }
      ],
      "source": [
        "df[\"store\"].nunique()"
      ]
    },
    {
      "cell_type": "markdown",
      "id": "8b4608a8",
      "metadata": {
        "id": "8b4608a8"
      },
      "source": [
        "Veamos cuales son las fechas min y max de nuestro dataset:"
      ]
    },
    {
      "cell_type": "code",
      "execution_count": 287,
      "id": "41e5fa23",
      "metadata": {
        "id": "41e5fa23"
      },
      "outputs": [],
      "source": [
        "MIN_DATE = df[\"date\"].min()\n",
        "MAX_DATE = df[\"date\"].max()"
      ]
    },
    {
      "cell_type": "code",
      "execution_count": 288,
      "id": "300bd8a9",
      "metadata": {
        "id": "300bd8a9"
      },
      "outputs": [
        {
          "name": "stdout",
          "output_type": "stream",
          "text": [
            "Min date is 2011-01-31 00:00:00\n",
            "Max date is 2016-04-30 00:00:00\n"
          ]
        }
      ],
      "source": [
        "print(f\"Min date is {MIN_DATE}\\nMax date is {MAX_DATE}\")"
      ]
    },
    {
      "cell_type": "code",
      "execution_count": 289,
      "id": "7ef736c5",
      "metadata": {
        "id": "7ef736c5"
      },
      "outputs": [
        {
          "data": {
            "text/plain": [
              "id                         0\n",
              "yearweek                   0\n",
              "sales                      0\n",
              "item                       0\n",
              "category                   0\n",
              "store                      0\n",
              "region                     0\n",
              "sell_price                 0\n",
              "date                       0\n",
              "date_week                  0\n",
              "event                      0\n",
              "revenue                    0\n",
              "yearweek_prim_venta        0\n",
              "yearweek_ult_venta         0\n",
              "num_yearweek_no_sales      0\n",
              "estado_id                  0\n",
              "indicator_sales_week       0\n",
              "product_rotation_weekly    0\n",
              "rotation_category          0\n",
              "total_sales_week           0\n",
              "participacion_ventas       0\n",
              "sales_pct_change           0\n",
              "gama                       0\n",
              "cat_gama                   0\n",
              "sales_item_region          0\n",
              "sales_store_region         0\n",
              "dtype: int64"
            ]
          },
          "execution_count": 289,
          "metadata": {},
          "output_type": "execute_result"
        }
      ],
      "source": [
        "df.isnull().sum()"
      ]
    },
    {
      "cell_type": "markdown",
      "id": "047e0ab1",
      "metadata": {
        "id": "047e0ab1"
      },
      "source": [
        "<a id='impute'></a>\n",
        "### Data Imputation\n",
        "[Volver al índice](#index)<br>"
      ]
    },
    {
      "cell_type": "code",
      "execution_count": 290,
      "id": "635da804",
      "metadata": {
        "id": "635da804"
      },
      "outputs": [],
      "source": [
        "#ordenamos los id y date para que el modelo lo reconosca como serie temporal\n",
        "\n",
        "df.sort_values([\"id\", \"yearweek\"], ascending = True, inplace = True)\n"
      ]
    },
    {
      "cell_type": "markdown",
      "id": "ed947083",
      "metadata": {
        "id": "ed947083"
      },
      "source": [
        "<a id='eda'></a>\n",
        "### EDA\n",
        "[Volver al índice](#index)<br>"
      ]
    },
    {
      "cell_type": "markdown",
      "id": "f758be61",
      "metadata": {
        "id": "f758be61"
      },
      "source": [
        "Vamos a hacer un EDA rápido para ver como son nuestras Series Temporales y coger algunas ideas para futuras variables que vamos a implementar.\n",
        "\n",
        "Al tratarse este notebook del benchmark, vamos a explorar de manera muy superficial el dataset. En posteriores ejecuciones analizaremos el dataset en más detalle, construiremos nuevas variables y volveremos a entrenar nuestro modelo."
      ]
    },
    {
      "cell_type": "markdown",
      "id": "174a4652",
      "metadata": {
        "id": "174a4652"
      },
      "source": [
        "<a id='eda_global_sales'></a>\n",
        "### --> 1. EDA: Global Sales\n",
        "[Volver al índice](#index)<br>"
      ]
    },
    {
      "cell_type": "code",
      "execution_count": 291,
      "id": "1c3e636b",
      "metadata": {
        "id": "1c3e636b"
      },
      "outputs": [],
      "source": [
        "def plot_ts_acf_pacf(y, title):\n",
        "    '''\n",
        "    Plots the ts you pass and the acf and pacf.\n",
        "    '''\n",
        "    fig = plt.figure(figsize = (12, 10))\n",
        "    ax1, ax2, ax3 = fig.subplots(3, 1)\n",
        "\n",
        "    ax1.plot(y)\n",
        "    plot_acf(x = y, ax = ax2, lags = 14)\n",
        "    plot_pacf(x = y, ax = ax3, lags = 14)\n",
        "\n",
        "    plt.suptitle(t = title, fontsize = 20)"
      ]
    },
    {
      "cell_type": "code",
      "execution_count": 292,
      "id": "893fadf9",
      "metadata": {
        "id": "893fadf9"
      },
      "outputs": [],
      "source": [
        "y = df.set_index(\"date\").resample(\"M\")[\"sales\"].sum()[20:-1] # quitamos los registros de octubre"
      ]
    },
    {
      "cell_type": "code",
      "execution_count": 293,
      "id": "d92427cf",
      "metadata": {
        "id": "d92427cf"
      },
      "outputs": [
        {
          "data": {
            "image/png": "[encoded data removed]",
            "text/plain": [
              "<Figure size 1200x1000 with 3 Axes>"
            ]
          },
          "metadata": {},
          "output_type": "display_data"
        }
      ],
      "source": [
        "plot_ts_acf_pacf(y = y, title = \"Monthly Sales for all items in all shops\");"
      ]
    },
    {
      "cell_type": "markdown",
      "id": "15714f34",
      "metadata": {
        "id": "15714f34"
      },
      "source": [
        "<a id='eda_top_3_cities'></a>\n",
        "### --> 2. EDA: Top 3 Cities\n",
        "[Volver al índice](#index)<br>"
      ]
    },
    {
      "cell_type": "code",
      "execution_count": 383,
      "id": "6611fd72",
      "metadata": {
        "id": "6611fd72"
      },
      "outputs": [
        {
          "data": {
            "image/png": "[encoded data removed]",
            "text/plain": [
              "<Figure size 1200x400 with 1 Axes>"
            ]
          },
          "metadata": {},
          "output_type": "display_data"
        }
      ],
      "source": [
        "(\n",
        "    df.\n",
        "    groupby([\"region\"])\n",
        "    [\"sales\"].sum()\n",
        "    .sort_values(ascending = False)\n",
        "    .plot(kind = \"bar\", figsize = (12, 4))\n",
        ");"
      ]
    },
    {
      "cell_type": "markdown",
      "id": "feacc799",
      "metadata": {
        "id": "feacc799"
      },
      "source": [
        "<a id='eda_top_3_categories'></a>\n",
        "### --> 3. EDA: Top 3 Categories\n",
        "[Volver al índice](#index)<br>"
      ]
    },
    {
      "cell_type": "code",
      "execution_count": 384,
      "id": "e7717408",
      "metadata": {
        "id": "e7717408"
      },
      "outputs": [
        {
          "data": {
            "image/png": "[encoded data removed]",
            "text/plain": [
              "<Figure size 1200x400 with 1 Axes>"
            ]
          },
          "metadata": {},
          "output_type": "display_data"
        }
      ],
      "source": [
        "(\n",
        "    df.\n",
        "    groupby([\"category\"])\n",
        "    [\"sales\"].sum()\n",
        "    .sort_values(ascending = False)\n",
        "    .plot(kind = \"bar\", figsize = (12, 4))\n",
        ");"
      ]
    },
    {
      "cell_type": "markdown",
      "id": "23cb5f97",
      "metadata": {
        "id": "23cb5f97"
      },
      "source": [
        "<a id='build_ts_features'></a>\n",
        "### Build Time Series Features (**CORE IDEA**)\n",
        "[Volver al índice](#index)<br>"
      ]
    },
    {
      "cell_type": "markdown",
      "id": "e9caf1f0",
      "metadata": {
        "id": "e9caf1f0"
      },
      "source": [
        "Dado que vamos a tener que iterar muchas veces sobre nuestro dataset, nos interesa tener todo el código encapsulado en funciones para su reutilización.\n",
        "\n",
        "Uno de los apartados clave será la generación de variables.\n",
        "\n",
        "Como hemos visto antes, nuestro dataset contiene más de 400 Series Temporales.\n",
        "\n",
        "Algunas de estas Series Temporales las podemos agrupar para sacar nueva información.\n",
        "\n",
        "Por ejemplo, podemos construir una variables del estilo:\n",
        "\n",
        "1. Las ventas totales por ITEM_ID (la menor granularidad posible).\n",
        "2. Las ventas totales por ITEM_CATEGORY_ID y SHOP_ID (una granularidad mayor a la 1).\n",
        "3. Las ventas totales por SHOP_ID (una granularidad mayor).\n",
        "4. Y todas las combinaciones que queramos intermedias."
      ]
    },
    {
      "cell_type": "code",
      "execution_count": 296,
      "id": "61454796",
      "metadata": {
        "id": "61454796"
      },
      "outputs": [],
      "source": [
        "def build_ts_vars,(df, gb_list, target_column, agg_func, agg_func_name):\n",
        "\n",
        "    assert \"date\" in df.columns.tolist(), \"Date must be in df columns\"\n",
        "\n",
        "    new_name = \"_\".join(gb_list + [target_column] + [agg_func_name])\n",
        "\n",
        "    gb_df_ = (df.set_index(\"date\").groupby(gb_list).resample(\"M\")[target_column].apply(agg_func).to_frame().reset_index().rename(\n",
        "            columns = {\n",
        "                target_column : new_name\n",
        "             }\n",
        "       )\n",
        "    )\n",
        "\n",
        "    #gb_df_[f\"{new_name}_lag1\"] = gb_df_.groupby(gb_list)[new_name].transform(\n",
        "    #    lambda series: series.shift(1)\n",
        "    #)\n",
        "\n",
        "    gb_df_[f\"{new_name}_lag3\"] = gb_df_.groupby,(gb_list)[new_name].transform(\n",
        "        lambda series: series.shift(3)\n",
        "    )\n",
        "\n",
        "\n",
        "    print(f\"Dropping columns that might cause target leakage {new_name}\")\n",
        "    gb_df_.drop(new_name, inplace = True, axis = 1)\n",
        "\n",
        "    return gb_df_"
      ]
    },
    {
      "cell_type": "code",
      "execution_count": 297,
      "id": "5hey9aN-TBh6",
      "metadata": {
        "id": "5hey9aN-TBh6"
      },
      "outputs": [],
      "source": [
        "def build_ts_vars_2(df, gb_list, target_column, agg_func, agg_func_name):\n",
        "\n",
        "    assert \"date\" in df.columns.tolist(), \"Date must be in df columns\"\n",
        "\n",
        "    new_name = \"_\".join(gb_list + [target_column] + [agg_func_name])\n",
        "\n",
        "    gb_df_ = (df.set_index(\"date\").groupby(gb_list),.resample(\"M\")[target_column].apply(agg_func).to_frame().reset_index().rename(\n",
        "            columns = {\n",
        "                target_column : new_name\n",
        "             }\n",
        "       )\n",
        "    )\n",
        "\n",
        "    gb_df_[f\"{new_name}_lag1\"] = gb_df_.groupby,(gb_list)[new_name].transform(\n",
        "        lambda series: series.shift(1)\n",
        "    )\n",
        "\n",
        "\n",
        "\n",
        "    print(f\"Dropping columns that might cause target leakage {new_name}\")\n",
        "    gb_df_.drop(new_name, inplace = True, axis = 1)\n",
        "\n",
        "    return gb_df_"
      ]
    },
    {
      "cell_type": "code",
      "execution_count": 298,
      "id": "28b7eb06",
      "metadata": {
        "id": "28b7eb06"
      },
      "outputs": [
        {
          "name": "stdout",
          "output_type": "stream",
          "text": [
            "Dropping columns that might cause target leakage item_sales_sum\n"
          ]
        },
        {
          "data": {
            "text/html": [
              "<div>\n",
              "<style scoped>\n",
              "    .dataframe tbody tr th:only-of-type {\n",
              "        vertical-align: middle;\n",
              "    }\n",
              "\n",
              "    .dataframe tbody tr th {\n",
              "        vertical-align: top;\n",
              "    }\n",
              "\n",
              "    .dataframe thead th {\n",
              "        text-align: right;\n",
              "    }\n",
              "</style>\n",
              "<table border=\"1\" class=\"dataframe\">\n",
              "  <thead>\n",
              "    <tr style=\"text-align: right;\">\n",
              "      <th></th>\n",
              "      <th>item</th>\n",
              "      <th>date</th>\n",
              "      <th>item_sales_sum_lag1</th>\n",
              "    </tr>\n",
              "  </thead>\n",
              "  <tbody>\n",
              "    <tr>\n",
              "      <th>0</th>\n",
              "      <td>1.0</td>\n",
              "      <td>2011-01-31</td>\n",
              "      <td>NaN</td>\n",
              "    </tr>\n",
              "    <tr>\n",
              "      <th>1</th>\n",
              "      <td>1.0</td>\n",
              "      <td>2011-02-28</td>\n",
              "      <td>0.0</td>\n",
              "    </tr>\n",
              "    <tr>\n",
              "      <th>2</th>\n",
              "      <td>1.0</td>\n",
              "      <td>2011-03-31</td>\n",
              "      <td>0.0</td>\n",
              "    </tr>\n",
              "    <tr>\n",
              "      <th>3</th>\n",
              "      <td>1.0</td>\n",
              "      <td>2011-04-30</td>\n",
              "      <td>0.0</td>\n",
              "    </tr>\n",
              "    <tr>\n",
              "      <th>4</th>\n",
              "      <td>1.0</td>\n",
              "      <td>2011-05-31</td>\n",
              "      <td>0.0</td>\n",
              "    </tr>\n",
              "  </tbody>\n",
              "</table>\n",
              "</div>"
            ],
            "text/plain": [
              "   item       date  item_sales_sum_lag1\n",
              "0   1.0 2011-01-31                  NaN\n",
              "1   1.0 2011-02-28                  0.0\n",
              "2   1.0 2011-03-31                  0.0\n",
              "3   1.0 2011-04-30                  0.0\n",
              "4   1.0 2011-05-31                  0.0"
            ]
          },
          "execution_count": 298,
          "metadata": {},
          "output_type": "execute_result"
        }
      ],
      "source": [
        "GB_LIST = [\"item\"]\n",
        "TARGET_COLUMN = \"sales\"\n",
        "AGG_FUNC = np.sum\n",
        "AGG_FUNC_NAME = \"sum\"\n",
        "\n",
        "vars_ts_id_sales_sum = build_ts_vars_2(\n",
        "    df = df,\n",
        "    gb_list = GB_LIST,\n",
        "    target_column = TARGET_COLUMN,\n",
        "    agg_func = AGG_FUNC,\n",
        "    agg_func_name =  AGG_FUNC_NAME\n",
        "\n",
        ")\n",
        "\n",
        "vars_ts_id_sales_sum.head(5)"
      ]
    },
    {
      "cell_type": "code",
      "execution_count": 299,
      "id": "fatwm1j1NM_b",
      "metadata": {
        "id": "fatwm1j1NM_b"
      },
      "outputs": [
        {
          "name": "stdout",
          "output_type": "stream",
          "text": [
            "Dropping columns that might cause target leakage item_sales_std\n"
          ]
        },
        {
          "data": {
            "text/html": [
              "<div>\n",
              "<style scoped>\n",
              "    .dataframe tbody tr th:only-of-type {\n",
              "        vertical-align: middle;\n",
              "    }\n",
              "\n",
              "    .dataframe tbody tr th {\n",
              "        vertical-align: top;\n",
              "    }\n",
              "\n",
              "    .dataframe thead th {\n",
              "        text-align: right;\n",
              "    }\n",
              "</style>\n",
              "<table border=\"1\" class=\"dataframe\">\n",
              "  <thead>\n",
              "    <tr style=\"text-align: right;\">\n",
              "      <th></th>\n",
              "      <th>item</th>\n",
              "      <th>date</th>\n",
              "      <th>item_sales_std_lag1</th>\n",
              "    </tr>\n",
              "  </thead>\n",
              "  <tbody>\n",
              "    <tr>\n",
              "      <th>0</th>\n",
              "      <td>1.0</td>\n",
              "      <td>2011-01-31</td>\n",
              "      <td>NaN</td>\n",
              "    </tr>\n",
              "    <tr>\n",
              "      <th>1</th>\n",
              "      <td>1.0</td>\n",
              "      <td>2011-02-28</td>\n",
              "      <td>0.0</td>\n",
              "    </tr>\n",
              "    <tr>\n",
              "      <th>2</th>\n",
              "      <td>1.0</td>\n",
              "      <td>2011-03-31</td>\n",
              "      <td>0.0</td>\n",
              "    </tr>\n",
              "    <tr>\n",
              "      <th>3</th>\n",
              "      <td>1.0</td>\n",
              "      <td>2011-04-30</td>\n",
              "      <td>0.0</td>\n",
              "    </tr>\n",
              "    <tr>\n",
              "      <th>4</th>\n",
              "      <td>1.0</td>\n",
              "      <td>2011-05-31</td>\n",
              "      <td>0.0</td>\n",
              "    </tr>\n",
              "  </tbody>\n",
              "</table>\n",
              "</div>"
            ],
            "text/plain": [
              "   item       date  item_sales_std_lag1\n",
              "0   1.0 2011-01-31                  NaN\n",
              "1   1.0 2011-02-28                  0.0\n",
              "2   1.0 2011-03-31                  0.0\n",
              "3   1.0 2011-04-30                  0.0\n",
              "4   1.0 2011-05-31                  0.0"
            ]
          },
          "execution_count": 299,
          "metadata": {},
          "output_type": "execute_result"
        }
      ],
      "source": [
        "GB_LIST = [\"item\"]\n",
        "TARGET_COLUMN = \"sales\"\n",
        "AGG_FUNC = np.std\n",
        "AGG_FUNC_NAME = \"std\"\n",
        "\n",
        "vars_ts_id_sales_std = build_ts_vars_2(\n",
        "    df = df,\n",
        "    gb_list = GB_LIST,\n",
        "    target_column = TARGET_COLUMN,\n",
        "    agg_func = AGG_FUNC,\n",
        "    agg_func_name =  AGG_FUNC_NAME\n",
        "\n",
        ")\n",
        "\n",
        "vars_ts_id_sales_std.head(5)"
      ]
    },
    {
      "cell_type": "code",
      "execution_count": 300,
      "id": "55b3efdd",
      "metadata": {
        "id": "55b3efdd"
      },
      "outputs": [
        {
          "name": "stdout",
          "output_type": "stream",
          "text": [
            "Dropping columns that might cause target leakage item_sales_min\n"
          ]
        },
        {
          "data": {
            "text/html": [
              "<div>\n",
              "<style scoped>\n",
              "    .dataframe tbody tr th:only-of-type {\n",
              "        vertical-align: middle;\n",
              "    }\n",
              "\n",
              "    .dataframe tbody tr th {\n",
              "        vertical-align: top;\n",
              "    }\n",
              "\n",
              "    .dataframe thead th {\n",
              "        text-align: right;\n",
              "    }\n",
              "</style>\n",
              "<table border=\"1\" class=\"dataframe\">\n",
              "  <thead>\n",
              "    <tr style=\"text-align: right;\">\n",
              "      <th></th>\n",
              "      <th>item</th>\n",
              "      <th>date</th>\n",
              "      <th>item_sales_min_lag1</th>\n",
              "    </tr>\n",
              "  </thead>\n",
              "  <tbody>\n",
              "    <tr>\n",
              "      <th>0</th>\n",
              "      <td>1.0</td>\n",
              "      <td>2011-01-31</td>\n",
              "      <td>NaN</td>\n",
              "    </tr>\n",
              "    <tr>\n",
              "      <th>1</th>\n",
              "      <td>1.0</td>\n",
              "      <td>2011-02-28</td>\n",
              "      <td>0.0</td>\n",
              "    </tr>\n",
              "    <tr>\n",
              "      <th>2</th>\n",
              "      <td>1.0</td>\n",
              "      <td>2011-03-31</td>\n",
              "      <td>0.0</td>\n",
              "    </tr>\n",
              "    <tr>\n",
              "      <th>3</th>\n",
              "      <td>1.0</td>\n",
              "      <td>2011-04-30</td>\n",
              "      <td>0.0</td>\n",
              "    </tr>\n",
              "    <tr>\n",
              "      <th>4</th>\n",
              "      <td>1.0</td>\n",
              "      <td>2011-05-31</td>\n",
              "      <td>0.0</td>\n",
              "    </tr>\n",
              "  </tbody>\n",
              "</table>\n",
              "</div>"
            ],
            "text/plain": [
              "   item       date  item_sales_min_lag1\n",
              "0   1.0 2011-01-31                  NaN\n",
              "1   1.0 2011-02-28                  0.0\n",
              "2   1.0 2011-03-31                  0.0\n",
              "3   1.0 2011-04-30                  0.0\n",
              "4   1.0 2011-05-31                  0.0"
            ]
          },
          "execution_count": 300,
          "metadata": {},
          "output_type": "execute_result"
        }
      ],
      "source": [
        "GB_LIST = [\"item\"]\n",
        "TARGET_COLUMN = \"sales\"\n",
        "AGG_FUNC = np.min\n",
        "AGG_FUNC_NAME = \"min\"\n",
        "\n",
        "vars_ts_item_revenue_min = build_ts_vars_2(\n",
        "    df = df,\n",
        "    gb_list = GB_LIST,\n",
        "    target_column = TARGET_COLUMN,\n",
        "    agg_func = AGG_FUNC,\n",
        "    agg_func_name =  AGG_FUNC_NAME\n",
        "\n",
        ")\n",
        "\n",
        "vars_ts_item_revenue_min.head(5)"
      ]
    },
    {
      "cell_type": "code",
      "execution_count": 301,
      "id": "c1bf0e84",
      "metadata": {
        "id": "c1bf0e84"
      },
      "outputs": [
        {
          "name": "stdout",
          "output_type": "stream",
          "text": [
            "Dropping columns that might cause target leakage item_sales_max\n"
          ]
        },
        {
          "data": {
            "text/html": [
              "<div>\n",
              "<style scoped>\n",
              "    .dataframe tbody tr th:only-of-type {\n",
              "        vertical-align: middle;\n",
              "    }\n",
              "\n",
              "    .dataframe tbody tr th {\n",
              "        vertical-align: top;\n",
              "    }\n",
              "\n",
              "    .dataframe thead th {\n",
              "        text-align: right;\n",
              "    }\n",
              "</style>\n",
              "<table border=\"1\" class=\"dataframe\">\n",
              "  <thead>\n",
              "    <tr style=\"text-align: right;\">\n",
              "      <th></th>\n",
              "      <th>item</th>\n",
              "      <th>date</th>\n",
              "      <th>item_sales_max_lag1</th>\n",
              "    </tr>\n",
              "  </thead>\n",
              "  <tbody>\n",
              "    <tr>\n",
              "      <th>0</th>\n",
              "      <td>1.0</td>\n",
              "      <td>2011-01-31</td>\n",
              "      <td>NaN</td>\n",
              "    </tr>\n",
              "    <tr>\n",
              "      <th>1</th>\n",
              "      <td>1.0</td>\n",
              "      <td>2011-02-28</td>\n",
              "      <td>0.0</td>\n",
              "    </tr>\n",
              "    <tr>\n",
              "      <th>2</th>\n",
              "      <td>1.0</td>\n",
              "      <td>2011-03-31</td>\n",
              "      <td>0.0</td>\n",
              "    </tr>\n",
              "    <tr>\n",
              "      <th>3</th>\n",
              "      <td>1.0</td>\n",
              "      <td>2011-04-30</td>\n",
              "      <td>0.0</td>\n",
              "    </tr>\n",
              "    <tr>\n",
              "      <th>4</th>\n",
              "      <td>1.0</td>\n",
              "      <td>2011-05-31</td>\n",
              "      <td>0.0</td>\n",
              "    </tr>\n",
              "  </tbody>\n",
              "</table>\n",
              "</div>"
            ],
            "text/plain": [
              "   item       date  item_sales_max_lag1\n",
              "0   1.0 2011-01-31                  NaN\n",
              "1   1.0 2011-02-28                  0.0\n",
              "2   1.0 2011-03-31                  0.0\n",
              "3   1.0 2011-04-30                  0.0\n",
              "4   1.0 2011-05-31                  0.0"
            ]
          },
          "execution_count": 301,
          "metadata": {},
          "output_type": "execute_result"
        }
      ],
      "source": [
        "GB_LIST = [\"item\"]\n",
        "TARGET_COLUMN = \"sales\"\n",
        "AGG_FUNC = np.max\n",
        "AGG_FUNC_NAME = \"max\"\n",
        "\n",
        "vars_ts_item_revenue_max = build_ts_vars_2(\n",
        "    df = df,\n",
        "    gb_list = GB_LIST,\n",
        "    target_column = TARGET_COLUMN,\n",
        "    agg_func = AGG_FUNC,\n",
        "    agg_func_name =  AGG_FUNC_NAME\n",
        "\n",
        ")\n",
        "\n",
        "vars_ts_item_revenue_max.head(5)"
      ]
    },
    {
      "cell_type": "markdown",
      "id": "81ec5de5",
      "metadata": {
        "id": "81ec5de5"
      },
      "source": [
        "<a id='join_ts_features'></a>\n",
        "### Join TS Features\n",
        "[Volver al índice](#index)<br>"
      ]
    },
    {
      "cell_type": "code",
      "execution_count": 302,
      "id": "39402209",
      "metadata": {
        "id": "39402209"
      },
      "outputs": [
        {
          "name": "stdout",
          "output_type": "stream",
          "text": [
            "Shape before merge is 8506710\n",
            "Shape after merge is 8506710\n"
          ]
        }
      ],
      "source": [
        "rows_before_merge = df.shape[0]\n",
        "print(f\"Shape before merge is {rows_before_merge}\")\n",
        "\n",
        "df = pd.merge(df, vars_ts_sales_sum, on = [\"date\"] + GB_LIST, how = \"left\")\n",
        "\n",
        "df = pd.merge(df, vars_ts_sales_std, on = [\"date\"] + GB_LIST, how = \"left\")\n",
        "\n",
        "df = pd.merge(df, vars_item_revenue_min, on = [\"date\"] + GB_LIST, how = \"left\")\n",
        "\n",
        "df = pd.merge(df, vars_ts_revenue_max, on = [\"date\"] + GB_LIST, how = \"left\")\n",
        "\n",
        "\n",
        "rows_after_merge = df.shape[0]\n",
        "\n",
        "print(f\"Shape after merge is {rows_after_merge}\")\n",
        "\n",
        "assert rows_before_merge == rows_after_merge, \"You have generated a cartesian product!\""
      ]
    },
    {
      "cell_type": "markdown",
      "id": "bf2c6038",
      "metadata": {
        "id": "bf2c6038"
      },
      "source": [
        "<a id='train_test_split'></a>\n",
        "### Train Test Split\n",
        "[Volver al índice](#index)<br>"
      ]
    },
    {
      "cell_type": "code",
      "execution_count": 303,
      "id": "d78761ec",
      "metadata": {
        "id": "d78761ec"
      },
      "outputs": [
        {
          "data": {
            "text/plain": [
              "['id',\n",
              " 'yearweek',\n",
              " 'sales',\n",
              " 'item',\n",
              " 'category',\n",
              " 'store',\n",
              " 'region',\n",
              " 'sell_price',\n",
              " 'date',\n",
              " 'date_week',\n",
              " 'event',\n",
              " 'revenue',\n",
              " 'yearweek_prim_venta',\n",
              " 'yearweek_ult_venta',\n",
              " 'num_yearweek_no_sales',\n",
              " 'estado_id',\n",
              " 'indicator_sales_week',\n",
              " 'product_rotation_weekly',\n",
              " 'rotation_category',\n",
              " 'total_sales_week',\n",
              " 'participacion_ventas',\n",
              " 'sales_pct_change',\n",
              " 'gama',\n",
              " 'cat_gama',\n",
              " 'sales_item_region',\n",
              " 'sales_store_region',\n",
              " 'item_sales_sum_lag1',\n",
              " 'item_sales_std_lag1',\n",
              " 'item_sales_min_lag1',\n",
              " 'item_sales_max_lag1']"
            ]
          },
          "execution_count": 303,
          "metadata": {},
          "output_type": "execute_result"
        }
      ],
      "source": [
        "df.columns.tolist()"
      ]
    },
    {
      "cell_type": "markdown",
      "id": "f658453d",
      "metadata": {},
      "source": [
        "veamos que variables estan altamente correlaconadas"
      ]
    },
    {
      "cell_type": "code",
      "execution_count": 304,
      "id": "YTnqiF9NPaJs",
      "metadata": {
        "id": "YTnqiF9NPaJs"
      },
      "outputs": [],
      "source": [
        "df_correlacion = df.copy()"
      ]
    },
    {
      "cell_type": "code",
      "execution_count": 305,
      "id": "3udZmltoPaGK",
      "metadata": {
        "id": "3udZmltoPaGK"
      },
      "outputs": [],
      "source": [
        "df_correlacion.set_index(\"id\", inplace = True)"
      ]
    },
    {
      "cell_type": "code",
      "execution_count": 306,
      "id": "hg_BTavEPaDI",
      "metadata": {
        "id": "hg_BTavEPaDI"
      },
      "outputs": [],
      "source": [
        "target = 'sales'\n",
        "features = df_correlacion.columns[df_correlacion.columns!=target]\n",
        "\n",
        "# Divide dataset en matriz de variables (X) y output (y)\n",
        "X = df_correlacion[features]\n",
        "y = df_correlacion[target]"
      ]
    },
    {
      "cell_type": "code",
      "execution_count": 307,
      "id": "Ep671WLQPdiv",
      "metadata": {
        "id": "Ep671WLQPdiv"
      },
      "outputs": [
        {
          "data": {
            "text/html": [
              "<div>\n",
              "<style scoped>\n",
              "    .dataframe tbody tr th:only-of-type {\n",
              "        vertical-align: middle;\n",
              "    }\n",
              "\n",
              "    .dataframe tbody tr th {\n",
              "        vertical-align: top;\n",
              "    }\n",
              "\n",
              "    .dataframe thead th {\n",
              "        text-align: right;\n",
              "    }\n",
              "</style>\n",
              "<table border=\"1\" class=\"dataframe\">\n",
              "  <thead>\n",
              "    <tr style=\"text-align: right;\">\n",
              "      <th></th>\n",
              "      <th>F1</th>\n",
              "      <th>F2</th>\n",
              "      <th>corr_F1_F2</th>\n",
              "      <th>corr_F1_target</th>\n",
              "      <th>corr_F2_target</th>\n",
              "      <th>F_to_delete</th>\n",
              "    </tr>\n",
              "  </thead>\n",
              "  <tbody>\n",
              "    <tr>\n",
              "      <th>0</th>\n",
              "      <td>num_yearweek_no_sales</td>\n",
              "      <td>yearweek</td>\n",
              "      <td>0.998023</td>\n",
              "      <td>0.033150</td>\n",
              "      <td>0.034869</td>\n",
              "      <td>num_yearweek_no_sales</td>\n",
              "    </tr>\n",
              "    <tr>\n",
              "      <th>1</th>\n",
              "      <td>gama</td>\n",
              "      <td>sell_price</td>\n",
              "      <td>0.996631</td>\n",
              "      <td>0.148164</td>\n",
              "      <td>0.148535</td>\n",
              "      <td>gama</td>\n",
              "    </tr>\n",
              "    <tr>\n",
              "      <th>2</th>\n",
              "      <td>item_sales_max_lag1</td>\n",
              "      <td>item_sales_std_lag1</td>\n",
              "      <td>0.987380</td>\n",
              "      <td>NaN</td>\n",
              "      <td>NaN</td>\n",
              "      <td>item_sales_std_lag1</td>\n",
              "    </tr>\n",
              "  </tbody>\n",
              "</table>\n",
              "</div>"
            ],
            "text/plain": [
              "                      F1                   F2  corr_F1_F2  corr_F1_target  \\\n",
              "0  num_yearweek_no_sales             yearweek    0.998023        0.033150   \n",
              "1                   gama           sell_price    0.996631        0.148164   \n",
              "2    item_sales_max_lag1  item_sales_std_lag1    0.987380             NaN   \n",
              "\n",
              "   corr_F2_target            F_to_delete  \n",
              "0        0.034869  num_yearweek_no_sales  \n",
              "1        0.148535                   gama  \n",
              "2             NaN    item_sales_std_lag1  "
            ]
          },
          "execution_count": 307,
          "metadata": {},
          "output_type": "execute_result"
        }
      ],
      "source": [
        "def highly_correlated(X, y, threshold):\n",
        "    # Convert X to a DataFrame if it isn't one\n",
        "    if not isinstance(X, pd.DataFrame):\n",
        "        X = pd.DataFrame(X)\n",
        "\n",
        "    # Ensure that y is a Series\n",
        "    if not isinstance(y, pd.Series):\n",
        "        y = pd.Series(y)\n",
        "\n",
        "    # Exclude non-numeric columns from X\n",
        "    numeric_cols = X.select_dtypes(include=np.number).columns.tolist()\n",
        "    X_numeric = X[numeric_cols]\n",
        "\n",
        "    # Calculate correlation matrix of the numeric features\n",
        "    corr_matrix = X_numeric.corr().abs()\n",
        "\n",
        "    col_corr = []\n",
        "    colnames = []\n",
        "    rownames = []\n",
        "    for i in range(len(corr_matrix.columns)):\n",
        "        for j in range(i):\n",
        "            if corr_matrix.iloc[i, j] >= threshold:\n",
        "                colnames.append(corr_matrix.columns[i])\n",
        "                rownames.append(corr_matrix.columns[j])\n",
        "                col_corr.append(corr_matrix.iloc[i, j])\n",
        "\n",
        "    # Creating the DataFrame to display correlations and decide which to drop\n",
        "    Z = pd.DataFrame({\n",
        "        'F1': colnames,\n",
        "        'F2': rownames,\n",
        "        'corr_F1_F2': col_corr,\n",
        "        'corr_F1_target': [np.abs(np.corrcoef(X_numeric[col], y)[0, 1]) for col in colnames],\n",
        "        'corr_F2_target': [np.abs(np.corrcoef(X_numeric[col], y)[0, 1]) for col in rownames]\n",
        "    })\n",
        "\n",
        "    # Determine which feature to drop based on correlation with target\n",
        "    Z['F_to_delete'] = Z['F2']\n",
        "    Z.loc[Z['corr_F1_target'] < Z['corr_F2_target'], 'F_to_delete'] = Z['F1']\n",
        "\n",
        "    return Z\n",
        "\n",
        "# Example usage\n",
        "highly_corr = highly_correlated(X, y, 0.95)\n",
        "highly_corr"
      ]
    },
    {
      "cell_type": "code",
      "execution_count": 308,
      "id": "RL4pl6yiwqBU",
      "metadata": {
        "id": "RL4pl6yiwqBU"
      },
      "outputs": [
        {
          "data": {
            "text/plain": [
              "8506710"
            ]
          },
          "execution_count": 308,
          "metadata": {},
          "output_type": "execute_result"
        }
      ],
      "source": [
        "len(df)"
      ]
    },
    {
      "cell_type": "code",
      "execution_count": 309,
      "id": "kIdPsNUSTX5i",
      "metadata": {
        "id": "kIdPsNUSTX5i"
      },
      "outputs": [],
      "source": [
        "#eliminar todas las filas que tengan venta cero\n",
        "\n",
        "#df = df[(df['yearweek'] < 201618.0) & (df['sales'] > 0)]\n",
        "\n",
        "#df = df[~((df['sales'] == 0) & (df['yearweek'] < 201618.0))]\n",
        "\n",
        "#df = df[df['sales'] != 0]\n",
        "\n",
        "df = df[df['region'] == 1.0]"
      ]
    },
    {
      "cell_type": "code",
      "execution_count": 310,
      "id": "39dd93cc",
      "metadata": {},
      "outputs": [
        {
          "data": {
            "text/html": [
              "<div>\n",
              "<style scoped>\n",
              "    .dataframe tbody tr th:only-of-type {\n",
              "        vertical-align: middle;\n",
              "    }\n",
              "\n",
              "    .dataframe tbody tr th {\n",
              "        vertical-align: top;\n",
              "    }\n",
              "\n",
              "    .dataframe thead th {\n",
              "        text-align: right;\n",
              "    }\n",
              "</style>\n",
              "<table border=\"1\" class=\"dataframe\">\n",
              "  <thead>\n",
              "    <tr style=\"text-align: right;\">\n",
              "      <th></th>\n",
              "      <th>id</th>\n",
              "      <th>yearweek</th>\n",
              "      <th>sales</th>\n",
              "      <th>item</th>\n",
              "      <th>category</th>\n",
              "      <th>store</th>\n",
              "      <th>region</th>\n",
              "      <th>sell_price</th>\n",
              "      <th>date</th>\n",
              "      <th>date_week</th>\n",
              "      <th>...</th>\n",
              "      <th>participacion_ventas</th>\n",
              "      <th>sales_pct_change</th>\n",
              "      <th>gama</th>\n",
              "      <th>cat_gama</th>\n",
              "      <th>sales_item_region</th>\n",
              "      <th>sales_store_region</th>\n",
              "      <th>item_sales_sum_lag1</th>\n",
              "      <th>item_sales_std_lag1</th>\n",
              "      <th>item_sales_min_lag1</th>\n",
              "      <th>item_sales_max_lag1</th>\n",
              "    </tr>\n",
              "  </thead>\n",
              "  <tbody>\n",
              "    <tr>\n",
              "      <th>837</th>\n",
              "      <td>ACCESORIES_1_001_NYC_1</td>\n",
              "      <td>201104.0</td>\n",
              "      <td>0.0</td>\n",
              "      <td>1.0</td>\n",
              "      <td>3.0</td>\n",
              "      <td>4.0</td>\n",
              "      <td>1.0</td>\n",
              "      <td>12.7414</td>\n",
              "      <td>2011-01-31</td>\n",
              "      <td>2011-01-30</td>\n",
              "      <td>...</td>\n",
              "      <td>0.000000</td>\n",
              "      <td>0.000000</td>\n",
              "      <td>11.466249</td>\n",
              "      <td>3.0</td>\n",
              "      <td>0.0</td>\n",
              "      <td>4337.0</td>\n",
              "      <td>NaN</td>\n",
              "      <td>NaN</td>\n",
              "      <td>NaN</td>\n",
              "      <td>NaN</td>\n",
              "    </tr>\n",
              "    <tr>\n",
              "      <th>838</th>\n",
              "      <td>ACCESORIES_1_001_NYC_1</td>\n",
              "      <td>201105.0</td>\n",
              "      <td>0.0</td>\n",
              "      <td>1.0</td>\n",
              "      <td>3.0</td>\n",
              "      <td>4.0</td>\n",
              "      <td>1.0</td>\n",
              "      <td>12.7414</td>\n",
              "      <td>2011-02-28</td>\n",
              "      <td>2011-02-06</td>\n",
              "      <td>...</td>\n",
              "      <td>0.000000</td>\n",
              "      <td>0.000000</td>\n",
              "      <td>11.466249</td>\n",
              "      <td>3.0</td>\n",
              "      <td>0.0</td>\n",
              "      <td>24815.0</td>\n",
              "      <td>0.0</td>\n",
              "      <td>0.000000</td>\n",
              "      <td>0.0</td>\n",
              "      <td>0.0</td>\n",
              "    </tr>\n",
              "    <tr>\n",
              "      <th>839</th>\n",
              "      <td>ACCESORIES_1_001_NYC_1</td>\n",
              "      <td>201106.0</td>\n",
              "      <td>0.0</td>\n",
              "      <td>1.0</td>\n",
              "      <td>3.0</td>\n",
              "      <td>4.0</td>\n",
              "      <td>1.0</td>\n",
              "      <td>12.7414</td>\n",
              "      <td>2011-02-28</td>\n",
              "      <td>2011-02-13</td>\n",
              "      <td>...</td>\n",
              "      <td>0.000000</td>\n",
              "      <td>0.000000</td>\n",
              "      <td>11.466249</td>\n",
              "      <td>3.0</td>\n",
              "      <td>0.0</td>\n",
              "      <td>23524.0</td>\n",
              "      <td>0.0</td>\n",
              "      <td>0.000000</td>\n",
              "      <td>0.0</td>\n",
              "      <td>0.0</td>\n",
              "    </tr>\n",
              "    <tr>\n",
              "      <th>840</th>\n",
              "      <td>ACCESORIES_1_001_NYC_1</td>\n",
              "      <td>201107.0</td>\n",
              "      <td>0.0</td>\n",
              "      <td>1.0</td>\n",
              "      <td>3.0</td>\n",
              "      <td>4.0</td>\n",
              "      <td>1.0</td>\n",
              "      <td>12.7414</td>\n",
              "      <td>2011-02-28</td>\n",
              "      <td>2011-02-20</td>\n",
              "      <td>...</td>\n",
              "      <td>0.000000</td>\n",
              "      <td>0.000000</td>\n",
              "      <td>11.466249</td>\n",
              "      <td>3.0</td>\n",
              "      <td>0.0</td>\n",
              "      <td>21390.0</td>\n",
              "      <td>0.0</td>\n",
              "      <td>0.000000</td>\n",
              "      <td>0.0</td>\n",
              "      <td>0.0</td>\n",
              "    </tr>\n",
              "    <tr>\n",
              "      <th>841</th>\n",
              "      <td>ACCESORIES_1_001_NYC_1</td>\n",
              "      <td>201108.0</td>\n",
              "      <td>0.0</td>\n",
              "      <td>1.0</td>\n",
              "      <td>3.0</td>\n",
              "      <td>4.0</td>\n",
              "      <td>1.0</td>\n",
              "      <td>12.7414</td>\n",
              "      <td>2011-02-28</td>\n",
              "      <td>2011-02-27</td>\n",
              "      <td>...</td>\n",
              "      <td>0.000000</td>\n",
              "      <td>0.000000</td>\n",
              "      <td>11.466249</td>\n",
              "      <td>3.0</td>\n",
              "      <td>0.0</td>\n",
              "      <td>20882.0</td>\n",
              "      <td>0.0</td>\n",
              "      <td>0.000000</td>\n",
              "      <td>0.0</td>\n",
              "      <td>0.0</td>\n",
              "    </tr>\n",
              "    <tr>\n",
              "      <th>...</th>\n",
              "      <td>...</td>\n",
              "      <td>...</td>\n",
              "      <td>...</td>\n",
              "      <td>...</td>\n",
              "      <td>...</td>\n",
              "      <td>...</td>\n",
              "      <td>...</td>\n",
              "      <td>...</td>\n",
              "      <td>...</td>\n",
              "      <td>...</td>\n",
              "      <td>...</td>\n",
              "      <td>...</td>\n",
              "      <td>...</td>\n",
              "      <td>...</td>\n",
              "      <td>...</td>\n",
              "      <td>...</td>\n",
              "      <td>...</td>\n",
              "      <td>...</td>\n",
              "      <td>...</td>\n",
              "      <td>...</td>\n",
              "      <td>...</td>\n",
              "    </tr>\n",
              "    <tr>\n",
              "      <th>8505868</th>\n",
              "      <td>SUPERMARKET_3_827_NYC_4</td>\n",
              "      <td>201613.0</td>\n",
              "      <td>26.0</td>\n",
              "      <td>3049.0</td>\n",
              "      <td>1.0</td>\n",
              "      <td>7.0</td>\n",
              "      <td>1.0</td>\n",
              "      <td>1.2000</td>\n",
              "      <td>2016-04-30</td>\n",
              "      <td>2016-04-03</td>\n",
              "      <td>...</td>\n",
              "      <td>0.000092</td>\n",
              "      <td>1.600000</td>\n",
              "      <td>1.199785</td>\n",
              "      <td>2.0</td>\n",
              "      <td>95.0</td>\n",
              "      <td>17782.0</td>\n",
              "      <td>916.0</td>\n",
              "      <td>30.898344</td>\n",
              "      <td>0.0</td>\n",
              "      <td>177.0</td>\n",
              "    </tr>\n",
              "    <tr>\n",
              "      <th>8505869</th>\n",
              "      <td>SUPERMARKET_3_827_NYC_4</td>\n",
              "      <td>201614.0</td>\n",
              "      <td>10.0</td>\n",
              "      <td>3049.0</td>\n",
              "      <td>1.0</td>\n",
              "      <td>7.0</td>\n",
              "      <td>1.0</td>\n",
              "      <td>1.2000</td>\n",
              "      <td>2016-04-30</td>\n",
              "      <td>2016-04-10</td>\n",
              "      <td>...</td>\n",
              "      <td>0.000032</td>\n",
              "      <td>-0.615385</td>\n",
              "      <td>1.199785</td>\n",
              "      <td>2.0</td>\n",
              "      <td>100.0</td>\n",
              "      <td>18817.0</td>\n",
              "      <td>916.0</td>\n",
              "      <td>30.898344</td>\n",
              "      <td>0.0</td>\n",
              "      <td>177.0</td>\n",
              "    </tr>\n",
              "    <tr>\n",
              "      <th>8505870</th>\n",
              "      <td>SUPERMARKET_3_827_NYC_4</td>\n",
              "      <td>201615.0</td>\n",
              "      <td>0.0</td>\n",
              "      <td>3049.0</td>\n",
              "      <td>1.0</td>\n",
              "      <td>7.0</td>\n",
              "      <td>1.0</td>\n",
              "      <td>1.2000</td>\n",
              "      <td>2016-04-30</td>\n",
              "      <td>2016-04-17</td>\n",
              "      <td>...</td>\n",
              "      <td>0.000000</td>\n",
              "      <td>-1.000000</td>\n",
              "      <td>1.199785</td>\n",
              "      <td>2.0</td>\n",
              "      <td>115.0</td>\n",
              "      <td>17951.0</td>\n",
              "      <td>916.0</td>\n",
              "      <td>30.898344</td>\n",
              "      <td>0.0</td>\n",
              "      <td>177.0</td>\n",
              "    </tr>\n",
              "    <tr>\n",
              "      <th>8505871</th>\n",
              "      <td>SUPERMARKET_3_827_NYC_4</td>\n",
              "      <td>201616.0</td>\n",
              "      <td>14.0</td>\n",
              "      <td>3049.0</td>\n",
              "      <td>1.0</td>\n",
              "      <td>7.0</td>\n",
              "      <td>1.0</td>\n",
              "      <td>1.2000</td>\n",
              "      <td>2016-04-30</td>\n",
              "      <td>2016-04-24</td>\n",
              "      <td>...</td>\n",
              "      <td>0.000042</td>\n",
              "      <td>0.000000</td>\n",
              "      <td>1.199785</td>\n",
              "      <td>2.0</td>\n",
              "      <td>156.0</td>\n",
              "      <td>22344.0</td>\n",
              "      <td>916.0</td>\n",
              "      <td>30.898344</td>\n",
              "      <td>0.0</td>\n",
              "      <td>177.0</td>\n",
              "    </tr>\n",
              "    <tr>\n",
              "      <th>8505872</th>\n",
              "      <td>SUPERMARKET_3_827_NYC_4</td>\n",
              "      <td>201617.0</td>\n",
              "      <td>8.0</td>\n",
              "      <td>3049.0</td>\n",
              "      <td>1.0</td>\n",
              "      <td>7.0</td>\n",
              "      <td>1.0</td>\n",
              "      <td>1.2000</td>\n",
              "      <td>2016-04-30</td>\n",
              "      <td>2016-04-24</td>\n",
              "      <td>...</td>\n",
              "      <td>0.000024</td>\n",
              "      <td>-0.428571</td>\n",
              "      <td>1.199785</td>\n",
              "      <td>2.0</td>\n",
              "      <td>156.0</td>\n",
              "      <td>22344.0</td>\n",
              "      <td>916.0</td>\n",
              "      <td>30.898344</td>\n",
              "      <td>0.0</td>\n",
              "      <td>177.0</td>\n",
              "    </tr>\n",
              "  </tbody>\n",
              "</table>\n",
              "<p>3402684 rows × 30 columns</p>\n",
              "</div>"
            ],
            "text/plain": [
              "                              id  yearweek  sales    item  category  store  \\\n",
              "837       ACCESORIES_1_001_NYC_1  201104.0    0.0     1.0       3.0    4.0   \n",
              "838       ACCESORIES_1_001_NYC_1  201105.0    0.0     1.0       3.0    4.0   \n",
              "839       ACCESORIES_1_001_NYC_1  201106.0    0.0     1.0       3.0    4.0   \n",
              "840       ACCESORIES_1_001_NYC_1  201107.0    0.0     1.0       3.0    4.0   \n",
              "841       ACCESORIES_1_001_NYC_1  201108.0    0.0     1.0       3.0    4.0   \n",
              "...                          ...       ...    ...     ...       ...    ...   \n",
              "8505868  SUPERMARKET_3_827_NYC_4  201613.0   26.0  3049.0       1.0    7.0   \n",
              "8505869  SUPERMARKET_3_827_NYC_4  201614.0   10.0  3049.0       1.0    7.0   \n",
              "8505870  SUPERMARKET_3_827_NYC_4  201615.0    0.0  3049.0       1.0    7.0   \n",
              "8505871  SUPERMARKET_3_827_NYC_4  201616.0   14.0  3049.0       1.0    7.0   \n",
              "8505872  SUPERMARKET_3_827_NYC_4  201617.0    8.0  3049.0       1.0    7.0   \n",
              "\n",
              "         region  sell_price       date   date_week  ...  participacion_ventas  \\\n",
              "837         1.0     12.7414 2011-01-31  2011-01-30  ...              0.000000   \n",
              "838         1.0     12.7414 2011-02-28  2011-02-06  ...              0.000000   \n",
              "839         1.0     12.7414 2011-02-28  2011-02-13  ...              0.000000   \n",
              "840         1.0     12.7414 2011-02-28  2011-02-20  ...              0.000000   \n",
              "841         1.0     12.7414 2011-02-28  2011-02-27  ...              0.000000   \n",
              "...         ...         ...        ...         ...  ...                   ...   \n",
              "8505868     1.0      1.2000 2016-04-30  2016-04-03  ...              0.000092   \n",
              "8505869     1.0      1.2000 2016-04-30  2016-04-10  ...              0.000032   \n",
              "8505870     1.0      1.2000 2016-04-30  2016-04-17  ...              0.000000   \n",
              "8505871     1.0      1.2000 2016-04-30  2016-04-24  ...              0.000042   \n",
              "8505872     1.0      1.2000 2016-04-30  2016-04-24  ...              0.000024   \n",
              "\n",
              "         sales_pct_change       gama  cat_gama  sales_item_region  \\\n",
              "837              0.000000  11.466249       3.0                0.0   \n",
              "838              0.000000  11.466249       3.0                0.0   \n",
              "839              0.000000  11.466249       3.0                0.0   \n",
              "840              0.000000  11.466249       3.0                0.0   \n",
              "841              0.000000  11.466249       3.0                0.0   \n",
              "...                   ...        ...       ...                ...   \n",
              "8505868          1.600000   1.199785       2.0               95.0   \n",
              "8505869         -0.615385   1.199785       2.0              100.0   \n",
              "8505870         -1.000000   1.199785       2.0              115.0   \n",
              "8505871          0.000000   1.199785       2.0              156.0   \n",
              "8505872         -0.428571   1.199785       2.0              156.0   \n",
              "\n",
              "         sales_store_region  item_sales_sum_lag1  item_sales_std_lag1  \\\n",
              "837                  4337.0                  NaN                  NaN   \n",
              "838                 24815.0                  0.0             0.000000   \n",
              "839                 23524.0                  0.0             0.000000   \n",
              "840                 21390.0                  0.0             0.000000   \n",
              "841                 20882.0                  0.0             0.000000   \n",
              "...                     ...                  ...                  ...   \n",
              "8505868             17782.0                916.0            30.898344   \n",
              "8505869             18817.0                916.0            30.898344   \n",
              "8505870             17951.0                916.0            30.898344   \n",
              "8505871             22344.0                916.0            30.898344   \n",
              "8505872             22344.0                916.0            30.898344   \n",
              "\n",
              "         item_sales_min_lag1  item_sales_max_lag1  \n",
              "837                      NaN                  NaN  \n",
              "838                      0.0                  0.0  \n",
              "839                      0.0                  0.0  \n",
              "840                      0.0                  0.0  \n",
              "841                      0.0                  0.0  \n",
              "...                      ...                  ...  \n",
              "8505868                  0.0                177.0  \n",
              "8505869                  0.0                177.0  \n",
              "8505870                  0.0                177.0  \n",
              "8505871                  0.0                177.0  \n",
              "8505872                  0.0                177.0  \n",
              "\n",
              "[3402684 rows x 30 columns]"
            ]
          },
          "execution_count": 310,
          "metadata": {},
          "output_type": "execute_result"
        }
      ],
      "source": [
        "df.head()"
      ]
    },
    {
      "cell_type": "code",
      "execution_count": 311,
      "id": "fhIeUVBRwuYA",
      "metadata": {
        "id": "fhIeUVBRwuYA"
      },
      "outputs": [
        {
          "data": {
            "text/plain": [
              "3402684"
            ]
          },
          "execution_count": 311,
          "metadata": {},
          "output_type": "execute_result"
        }
      ],
      "source": [
        "len(df)"
      ]
    },
    {
      "cell_type": "code",
      "execution_count": 316,
      "id": "ywtfV3wlkN9D",
      "metadata": {
        "id": "ywtfV3wlkN9D"
      },
      "outputs": [
        {
          "data": {
            "text/plain": [
              "array([2, 1, 5, 4, 3, 6], dtype=int8)"
            ]
          },
          "execution_count": 316,
          "metadata": {},
          "output_type": "execute_result"
        }
      ],
      "source": [
        "#verificar que columnas podemos pasar a int8, cuando una columna posee muchas variable no es recomendable pasar lo a int8 como item por ejemplo\n",
        "df['rotation_category'].unique()"
      ]
    },
    {
      "cell_type": "code",
      "execution_count": 317,
      "id": "UrWInHQaxQSv",
      "metadata": {
        "id": "UrWInHQaxQSv"
      },
      "outputs": [],
      "source": [
        "COLUMNS_TO_DROP = [\n",
        "    'revenue',\n",
        "    'sell_price',\n",
        "    #'department',\n",
        "    'date',\n",
        "    'date_week',\n",
        "    'num_yearweek_no_sales',\n",
        "    'gama',\n",
        "    'participacion_ventas',\n",
        "    'item_sales_std_lag1'\n",
        "]\n",
        "\n",
        "df.drop(COLUMNS_TO_DROP, inplace = True, axis = 1)"
      ]
    },
    {
      "cell_type": "code",
      "execution_count": 318,
      "id": "tY8z8ZI5m7HR",
      "metadata": {
        "id": "tY8z8ZI5m7HR"
      },
      "outputs": [
        {
          "data": {
            "text/plain": [
              "['id',\n",
              " 'yearweek',\n",
              " 'sales',\n",
              " 'item',\n",
              " 'category',\n",
              " 'store',\n",
              " 'region',\n",
              " 'event',\n",
              " 'yearweek_prim_venta',\n",
              " 'yearweek_ult_venta',\n",
              " 'estado_id',\n",
              " 'indicator_sales_week',\n",
              " 'product_rotation_weekly',\n",
              " 'rotation_category',\n",
              " 'total_sales_week',\n",
              " 'sales_pct_change',\n",
              " 'cat_gama',\n",
              " 'sales_item_region',\n",
              " 'sales_store_region',\n",
              " 'item_sales_sum_lag1',\n",
              " 'item_sales_min_lag1',\n",
              " 'item_sales_max_lag1']"
            ]
          },
          "execution_count": 318,
          "metadata": {},
          "output_type": "execute_result"
        }
      ],
      "source": [
        "df.columns.tolist()"
      ]
    },
    {
      "cell_type": "code",
      "execution_count": 319,
      "id": "htP-ZfjICzqM",
      "metadata": {
        "id": "htP-ZfjICzqM"
      },
      "outputs": [
        {
          "data": {
            "text/plain": [
              "id                             0\n",
              "yearweek                       0\n",
              "sales                          0\n",
              "item                           0\n",
              "category                       0\n",
              "store                          0\n",
              "region                         0\n",
              "event                          0\n",
              "yearweek_prim_venta            0\n",
              "yearweek_ult_venta             0\n",
              "estado_id                      0\n",
              "indicator_sales_week           0\n",
              "product_rotation_weekly        0\n",
              "rotation_category              0\n",
              "total_sales_week               0\n",
              "sales_pct_change               0\n",
              "cat_gama                       0\n",
              "sales_item_region              0\n",
              "sales_store_region             0\n",
              "item_sales_sum_lag1        12196\n",
              "item_sales_min_lag1        12196\n",
              "item_sales_max_lag1        12196\n",
              "dtype: int64"
            ]
          },
          "execution_count": 319,
          "metadata": {},
          "output_type": "execute_result"
        }
      ],
      "source": [
        "df.isnull().sum()"
      ]
    },
    {
      "cell_type": "code",
      "execution_count": 320,
      "id": "bCgmbE40g3iN",
      "metadata": {
        "id": "bCgmbE40g3iN"
      },
      "outputs": [
        {
          "data": {
            "text/plain": [
              "id                          object\n",
              "yearweek                   float64\n",
              "sales                      float64\n",
              "item                          int8\n",
              "category                      int8\n",
              "store                         int8\n",
              "region                        int8\n",
              "event                         int8\n",
              "yearweek_prim_venta        float64\n",
              "yearweek_ult_venta         float64\n",
              "estado_id                     int8\n",
              "indicator_sales_week         int64\n",
              "product_rotation_weekly    float64\n",
              "rotation_category             int8\n",
              "total_sales_week           float64\n",
              "sales_pct_change           float64\n",
              "cat_gama                      int8\n",
              "sales_item_region          float64\n",
              "sales_store_region         float64\n",
              "item_sales_sum_lag1        float64\n",
              "item_sales_min_lag1        float64\n",
              "item_sales_max_lag1        float64\n",
              "dtype: object"
            ]
          },
          "execution_count": 320,
          "metadata": {},
          "output_type": "execute_result"
        }
      ],
      "source": [
        "df.dtypes"
      ]
    },
    {
      "cell_type": "code",
      "execution_count": 321,
      "id": "fa177860",
      "metadata": {
        "id": "fa177860"
      },
      "outputs": [],
      "source": [
        "df.set_index(\"id\", inplace = True)"
      ]
    },
    {
      "cell_type": "code",
      "execution_count": 322,
      "id": "aabdefba",
      "metadata": {
        "id": "aabdefba"
      },
      "outputs": [
        {
          "data": {
            "text/html": [
              "<div>\n",
              "<style scoped>\n",
              "    .dataframe tbody tr th:only-of-type {\n",
              "        vertical-align: middle;\n",
              "    }\n",
              "\n",
              "    .dataframe tbody tr th {\n",
              "        vertical-align: top;\n",
              "    }\n",
              "\n",
              "    .dataframe thead th {\n",
              "        text-align: right;\n",
              "    }\n",
              "</style>\n",
              "<table border=\"1\" class=\"dataframe\">\n",
              "  <thead>\n",
              "    <tr style=\"text-align: right;\">\n",
              "      <th></th>\n",
              "      <th>yearweek</th>\n",
              "      <th>sales</th>\n",
              "      <th>item</th>\n",
              "      <th>category</th>\n",
              "      <th>store</th>\n",
              "      <th>region</th>\n",
              "      <th>event</th>\n",
              "      <th>yearweek_prim_venta</th>\n",
              "      <th>yearweek_ult_venta</th>\n",
              "      <th>estado_id</th>\n",
              "      <th>...</th>\n",
              "      <th>product_rotation_weekly</th>\n",
              "      <th>rotation_category</th>\n",
              "      <th>total_sales_week</th>\n",
              "      <th>sales_pct_change</th>\n",
              "      <th>cat_gama</th>\n",
              "      <th>sales_item_region</th>\n",
              "      <th>sales_store_region</th>\n",
              "      <th>item_sales_sum_lag1</th>\n",
              "      <th>item_sales_min_lag1</th>\n",
              "      <th>item_sales_max_lag1</th>\n",
              "    </tr>\n",
              "    <tr>\n",
              "      <th>id</th>\n",
              "      <th></th>\n",
              "      <th></th>\n",
              "      <th></th>\n",
              "      <th></th>\n",
              "      <th></th>\n",
              "      <th></th>\n",
              "      <th></th>\n",
              "      <th></th>\n",
              "      <th></th>\n",
              "      <th></th>\n",
              "      <th></th>\n",
              "      <th></th>\n",
              "      <th></th>\n",
              "      <th></th>\n",
              "      <th></th>\n",
              "      <th></th>\n",
              "      <th></th>\n",
              "      <th></th>\n",
              "      <th></th>\n",
              "      <th></th>\n",
              "      <th></th>\n",
              "    </tr>\n",
              "  </thead>\n",
              "  <tbody>\n",
              "    <tr>\n",
              "      <th>HOME_&amp;_GARDEN_2_409_NYC_2</th>\n",
              "      <td>201429.0</td>\n",
              "      <td>3.0</td>\n",
              "      <td>-29</td>\n",
              "      <td>2</td>\n",
              "      <td>5</td>\n",
              "      <td>1</td>\n",
              "      <td>1</td>\n",
              "      <td>201115.0</td>\n",
              "      <td>201616.0</td>\n",
              "      <td>1</td>\n",
              "      <td>...</td>\n",
              "      <td>0.011450</td>\n",
              "      <td>1</td>\n",
              "      <td>241972.0</td>\n",
              "      <td>-0.727273</td>\n",
              "      <td>1</td>\n",
              "      <td>20.0</td>\n",
              "      <td>19434.0</td>\n",
              "      <td>275.0</td>\n",
              "      <td>1.0</td>\n",
              "      <td>19.0</td>\n",
              "    </tr>\n",
              "    <tr>\n",
              "      <th>SUPERMARKET_3_086_NYC_3</th>\n",
              "      <td>201508.0</td>\n",
              "      <td>0.0</td>\n",
              "      <td>-3</td>\n",
              "      <td>1</td>\n",
              "      <td>6</td>\n",
              "      <td>1</td>\n",
              "      <td>1</td>\n",
              "      <td>201104.0</td>\n",
              "      <td>201617.0</td>\n",
              "      <td>1</td>\n",
              "      <td>...</td>\n",
              "      <td>0.000000</td>\n",
              "      <td>1</td>\n",
              "      <td>241231.0</td>\n",
              "      <td>0.000000</td>\n",
              "      <td>2</td>\n",
              "      <td>0.0</td>\n",
              "      <td>40575.0</td>\n",
              "      <td>4035.0</td>\n",
              "      <td>0.0</td>\n",
              "      <td>321.0</td>\n",
              "    </tr>\n",
              "    <tr>\n",
              "      <th>HOME_&amp;_GARDEN_2_370_NYC_1</th>\n",
              "      <td>201444.0</td>\n",
              "      <td>3.0</td>\n",
              "      <td>-79</td>\n",
              "      <td>2</td>\n",
              "      <td>4</td>\n",
              "      <td>1</td>\n",
              "      <td>1</td>\n",
              "      <td>201105.0</td>\n",
              "      <td>201617.0</td>\n",
              "      <td>1</td>\n",
              "      <td>...</td>\n",
              "      <td>0.019231</td>\n",
              "      <td>4</td>\n",
              "      <td>259676.0</td>\n",
              "      <td>-0.250000</td>\n",
              "      <td>3</td>\n",
              "      <td>12.0</td>\n",
              "      <td>32709.0</td>\n",
              "      <td>95.0</td>\n",
              "      <td>0.0</td>\n",
              "      <td>7.0</td>\n",
              "    </tr>\n",
              "    <tr>\n",
              "      <th>HOME_&amp;_GARDEN_2_498_NYC_4</th>\n",
              "      <td>201319.0</td>\n",
              "      <td>0.0</td>\n",
              "      <td>59</td>\n",
              "      <td>2</td>\n",
              "      <td>7</td>\n",
              "      <td>1</td>\n",
              "      <td>4</td>\n",
              "      <td>201452.0</td>\n",
              "      <td>201616.0</td>\n",
              "      <td>2</td>\n",
              "      <td>...</td>\n",
              "      <td>0.000000</td>\n",
              "      <td>2</td>\n",
              "      <td>246944.0</td>\n",
              "      <td>0.000000</td>\n",
              "      <td>1</td>\n",
              "      <td>0.0</td>\n",
              "      <td>15571.0</td>\n",
              "      <td>0.0</td>\n",
              "      <td>0.0</td>\n",
              "      <td>0.0</td>\n",
              "    </tr>\n",
              "    <tr>\n",
              "      <th>SUPERMARKET_3_773_NYC_3</th>\n",
              "      <td>201527.0</td>\n",
              "      <td>7.0</td>\n",
              "      <td>-54</td>\n",
              "      <td>1</td>\n",
              "      <td>6</td>\n",
              "      <td>1</td>\n",
              "      <td>1</td>\n",
              "      <td>201413.0</td>\n",
              "      <td>201616.0</td>\n",
              "      <td>1</td>\n",
              "      <td>...</td>\n",
              "      <td>0.067308</td>\n",
              "      <td>5</td>\n",
              "      <td>283984.0</td>\n",
              "      <td>-0.222222</td>\n",
              "      <td>1</td>\n",
              "      <td>23.0</td>\n",
              "      <td>46333.0</td>\n",
              "      <td>159.0</td>\n",
              "      <td>0.0</td>\n",
              "      <td>17.0</td>\n",
              "    </tr>\n",
              "  </tbody>\n",
              "</table>\n",
              "<p>5 rows × 21 columns</p>\n",
              "</div>"
            ],
            "text/plain": [
              "                           yearweek  sales  item  category  store  region  \\\n",
              "id                                                                          \n",
              "HOME_&_GARDEN_2_409_NYC_2  201429.0    3.0   -29         2      5       1   \n",
              "SUPERMARKET_3_086_NYC_3    201508.0    0.0    -3         1      6       1   \n",
              "HOME_&_GARDEN_2_370_NYC_1  201444.0    3.0   -79         2      4       1   \n",
              "HOME_&_GARDEN_2_498_NYC_4  201319.0    0.0    59         2      7       1   \n",
              "SUPERMARKET_3_773_NYC_3    201527.0    7.0   -54         1      6       1   \n",
              "\n",
              "                           event  yearweek_prim_venta  yearweek_ult_venta  \\\n",
              "id                                                                          \n",
              "HOME_&_GARDEN_2_409_NYC_2      1             201115.0            201616.0   \n",
              "SUPERMARKET_3_086_NYC_3        1             201104.0            201617.0   \n",
              "HOME_&_GARDEN_2_370_NYC_1      1             201105.0            201617.0   \n",
              "HOME_&_GARDEN_2_498_NYC_4      4             201452.0            201616.0   \n",
              "SUPERMARKET_3_773_NYC_3        1             201413.0            201616.0   \n",
              "\n",
              "                           estado_id  ...  product_rotation_weekly  \\\n",
              "id                                    ...                            \n",
              "HOME_&_GARDEN_2_409_NYC_2          1  ...                 0.011450   \n",
              "SUPERMARKET_3_086_NYC_3            1  ...                 0.000000   \n",
              "HOME_&_GARDEN_2_370_NYC_1          1  ...                 0.019231   \n",
              "HOME_&_GARDEN_2_498_NYC_4          2  ...                 0.000000   \n",
              "SUPERMARKET_3_773_NYC_3            1  ...                 0.067308   \n",
              "\n",
              "                           rotation_category  total_sales_week  \\\n",
              "id                                                               \n",
              "HOME_&_GARDEN_2_409_NYC_2                  1          241972.0   \n",
              "SUPERMARKET_3_086_NYC_3                    1          241231.0   \n",
              "HOME_&_GARDEN_2_370_NYC_1                  4          259676.0   \n",
              "HOME_&_GARDEN_2_498_NYC_4                  2          246944.0   \n",
              "SUPERMARKET_3_773_NYC_3                    5          283984.0   \n",
              "\n",
              "                           sales_pct_change  cat_gama  sales_item_region  \\\n",
              "id                                                                         \n",
              "HOME_&_GARDEN_2_409_NYC_2         -0.727273         1               20.0   \n",
              "SUPERMARKET_3_086_NYC_3            0.000000         2                0.0   \n",
              "HOME_&_GARDEN_2_370_NYC_1         -0.250000         3               12.0   \n",
              "HOME_&_GARDEN_2_498_NYC_4          0.000000         1                0.0   \n",
              "SUPERMARKET_3_773_NYC_3           -0.222222         1               23.0   \n",
              "\n",
              "                           sales_store_region  item_sales_sum_lag1  \\\n",
              "id                                                                   \n",
              "HOME_&_GARDEN_2_409_NYC_2             19434.0                275.0   \n",
              "SUPERMARKET_3_086_NYC_3               40575.0               4035.0   \n",
              "HOME_&_GARDEN_2_370_NYC_1             32709.0                 95.0   \n",
              "HOME_&_GARDEN_2_498_NYC_4             15571.0                  0.0   \n",
              "SUPERMARKET_3_773_NYC_3               46333.0                159.0   \n",
              "\n",
              "                           item_sales_min_lag1  item_sales_max_lag1  \n",
              "id                                                                   \n",
              "HOME_&_GARDEN_2_409_NYC_2                  1.0                 19.0  \n",
              "SUPERMARKET_3_086_NYC_3                    0.0                321.0  \n",
              "HOME_&_GARDEN_2_370_NYC_1                  0.0                  7.0  \n",
              "HOME_&_GARDEN_2_498_NYC_4                  0.0                  0.0  \n",
              "SUPERMARKET_3_773_NYC_3                    0.0                 17.0  \n",
              "\n",
              "[5 rows x 21 columns]"
            ]
          },
          "execution_count": 322,
          "metadata": {},
          "output_type": "execute_result"
        }
      ],
      "source": [
        "df.sample(5)"
      ]
    },
    {
      "cell_type": "markdown",
      "id": "802ddd9b",
      "metadata": {},
      "source": []
    },
    {
      "cell_type": "markdown",
      "id": "A5StUlmsSBHR",
      "metadata": {
        "id": "A5StUlmsSBHR"
      },
      "source": [
        "1 Conjunto de Entrenamiento (train_index):\n",
        "\n",
        "* Seleccionarás todas las fechas únicas en tu DataFrame y las ordenarás.\n",
        "* Excluyes las últimas 8 semanas ([:-8]), lo que significa que este conjunto contendrá datos desde el inicio hasta 8 semanas antes del final del conjunto de datos.\n",
        "\n",
        "2 Conjunto de Validación (valida_index):\n",
        "\n",
        "* Nuevamente, seleccionas y ordenas todas las fechas únicas.\n",
        "* Tomarás las 4 semanas inmediatamente anteriores a las últimas 4 semanas ([-8:-4]).\n",
        "* Este conjunto se usará para ajustar y validar tu modelo, y consistirá en datos que abarcan 4 semanas.\n",
        "\n",
        "3 Conjunto de Prueba (test_index):\n",
        "\n",
        "* Siguiendo el mismo proceso de selección y ordenación.\n",
        "* Seleccionarás las últimas 4 semanas ([-4:]) de tu conjunto de datos.\n",
        "* Este conjunto se utiliza para probar y evaluar el rendimiento de tu modelo en datos no vistos durante el entrenamiento y la validación."
      ]
    },
    {
      "cell_type": "code",
      "execution_count": 323,
      "id": "79f2be69",
      "metadata": {},
      "outputs": [
        {
          "data": {
            "text/plain": [
              "3402684"
            ]
          },
          "execution_count": 323,
          "metadata": {},
          "output_type": "execute_result"
        }
      ],
      "source": [
        "len(df)"
      ]
    },
    {
      "cell_type": "code",
      "execution_count": 324,
      "id": "KLb2zUteOPG2",
      "metadata": {
        "id": "KLb2zUteOPG2"
      },
      "outputs": [],
      "source": [
        "# Filtrar el DataFrame para excluir filas donde 'estado_id' es 'discontinuado'\n",
        "df = df.loc[df['estado_id'] != 3.0]"
      ]
    },
    {
      "cell_type": "code",
      "execution_count": null,
      "id": "98e2f43b",
      "metadata": {},
      "outputs": [],
      "source": [
        "# Filtrar el DataFrame para excluir filas donde 'estado_id' es 'revisar_discontinuado'\n",
        "df = df.loc[df['estado_id'] != 4.0]"
      ]
    },
    {
      "cell_type": "code",
      "execution_count": 325,
      "id": "XUKIg6AIS7tA",
      "metadata": {
        "id": "XUKIg6AIS7tA"
      },
      "outputs": [
        {
          "data": {
            "text/plain": [
              "3399945"
            ]
          },
          "execution_count": 325,
          "metadata": {},
          "output_type": "execute_result"
        }
      ],
      "source": [
        "len(df)"
      ]
    },
    {
      "cell_type": "code",
      "execution_count": 326,
      "id": "UuqnrIgfFEiC",
      "metadata": {
        "id": "UuqnrIgfFEiC"
      },
      "outputs": [],
      "source": [
        "df_2 = df.copy()"
      ]
    },
    {
      "cell_type": "code",
      "execution_count": 327,
      "id": "0WnIlXaWHT6o",
      "metadata": {
        "id": "0WnIlXaWHT6o"
      },
      "outputs": [],
      "source": []
    },
    {
      "cell_type": "code",
      "execution_count": 328,
      "id": "7wzY35_5EVYz",
      "metadata": {
        "id": "7wzY35_5EVYz"
      },
      "outputs": [],
      "source": [
        "# Lista de periodos para los cuales las ventas deben ser reemplazadas por 0 para la prediccion\n",
        "periodos_a_modificar = [201614.0, 201615.0, 201616.0, 201617.0]\n",
        "\n",
        "# Reemplaza los valores de 'sales' por 0 en los periodos especificados\n",
        "df_2.loc[df_2['yearweek_2'].isin(periodos_a_modificar), 'sales'] = 0"
      ]
    },
    {
      "cell_type": "code",
      "execution_count": 329,
      "id": "c00c459e",
      "metadata": {
        "id": "c00c459e"
      },
      "outputs": [],
      "source": [
        "train_index = sorted(list(df_2[\"yearweek_2\"].unique()))[102:-8]  #150\n",
        "\n",
        "valida_index = sorted(list(df_2[\"yearweek_2\"].unique()))[-8:-4]\n",
        "\n",
        "test_index = sorted(list(df_2[\"yearweek_2\"].unique()))[-4:]"
      ]
    },
    {
      "cell_type": "code",
      "execution_count": 330,
      "id": "cbe8a09a",
      "metadata": {
        "id": "cbe8a09a"
      },
      "outputs": [
        {
          "name": "stdout",
          "output_type": "stream",
          "text": [
            "Our train index is [201300.0, 201301.0] - ... - [201608.0, 201609.0]\n",
            "\n",
            "Our validation index is [201610.0, 201611.0, 201612.0, 201613.0]\n",
            "\n",
            "Our test/prediction index is [201614.0, 201615.0, 201616.0, 201617.0]\n",
            "\n"
          ]
        }
      ],
      "source": [
        "print(f\"Our train index is {train_index[:2]} - ... - {train_index[-2:]}\\n\")\n",
        "print(f\"Our validation index is {valida_index}\\n\")\n",
        "print(f\"Our test/prediction index is {test_index}\\n\")"
      ]
    },
    {
      "cell_type": "code",
      "execution_count": 331,
      "id": "9e8355d1",
      "metadata": {
        "id": "9e8355d1"
      },
      "outputs": [],
      "source": [
        "X_train = df_2[df_2[\"yearweek_2\"].isin(train_index)].drop(['sales', \"yearweek_2\"], axis=1)\n",
        "Y_train = df_2[df_2[\"yearweek_2\"].isin(train_index)]['sales']\n",
        "\n",
        "X_valida = df_2[df_2[\"yearweek_2\"].isin(valida_index)].drop(['sales', \"yearweek_2\"], axis=1)\n",
        "Y_valida = df_2[df_2[\"yearweek_2\"].isin(valida_index)]['sales']\n",
        "\n",
        "X_test = df_2[df_2[\"yearweek_2\"].isin(test_index)].drop(['sales', \"yearweek_2\"], axis = 1)\n",
        "Y_test = df_2[df_2[\"yearweek_2\"].isin(test_index)]['sales']"
      ]
    },
    {
      "cell_type": "code",
      "execution_count": 332,
      "id": "JmNvdf1aIX_w",
      "metadata": {
        "id": "JmNvdf1aIX_w"
      },
      "outputs": [],
      "source": [
        "df_ddfdf = df_2[df_2['yearweek_2'] > 201614.0]\n"
      ]
    },
    {
      "cell_type": "code",
      "execution_count": 333,
      "id": "9KGISkYEIrj8",
      "metadata": {
        "id": "9KGISkYEIrj8"
      },
      "outputs": [
        {
          "name": "stdout",
          "output_type": "stream",
          "text": [
            "Min sales mes xx año xx is 0.0\n",
            "Max sales mes xx año xx is 0.0\n"
          ]
        }
      ],
      "source": [
        "# min max\n",
        "# min max\n",
        "MIN_Sales = df_ddfdf[\"sales\"].min()\n",
        "MAX_Sales = df_ddfdf[\"sales\"].max()\n",
        "\n",
        "# Imprimir los valores\n",
        "print(f\"Min sales mes xx año xx is {MIN_Sales}\\nMax sales mes xx año xx is {MAX_Sales}\")"
      ]
    },
    {
      "cell_type": "markdown",
      "id": "492ba213",
      "metadata": {
        "id": "492ba213"
      },
      "source": [
        "<a id='model_train'></a>\n",
        "### Model Train\n",
        "[Volver al índice](#index)<br>\n",
        "\n",
        "Entrenamos nuestro modelo de Machine Learning (benchmark)."
      ]
    },
    {
      "cell_type": "code",
      "execution_count": 335,
      "id": "i4_suesr4a3s",
      "metadata": {
        "id": "i4_suesr4a3s"
      },
      "outputs": [],
      "source": [
        "#from catboost import Pool, CatBoostRegressor\n",
        "\n",
        "#model = CatBoostRegressor(\n",
        "#                        loss_function='RMSE',\n",
        "#                        #depth=2,\n",
        "#                        learning_rate=0.1,\n",
        "#                        #iterations=1000,\n",
        "#                        # random_seed=18,\n",
        "#                        od_type='Iter',\n",
        "#                        od_wait=50,\n",
        "#                        )\n",
        "\n",
        "#model.fit(\n",
        "#    X_train, Y_train,\n",
        "#    use_best_model=True,\n",
        "#    eval_set=(X_valida, Y_valida),\n",
        "#    verbose=False,\n",
        "#    plot=True,\n",
        "#)"
      ]
    },
    {
      "cell_type": "code",
      "execution_count": 336,
      "id": "t7mIcglDwgU_",
      "metadata": {
        "id": "t7mIcglDwgU_"
      },
      "outputs": [
        {
          "name": "stderr",
          "output_type": "stream",
          "text": [
            "c:\\Users\\npere\\AppData\\Local\\Programs\\Python\\Python312\\Lib\\site-packages\\xgboost\\data.py:192: FutureWarning: pandas.Int64Index is deprecated and will be removed from pandas in a future version. Use pandas.Index with the appropriate dtype instead.\n",
            "  from pandas import MultiIndex, Int64Index\n"
          ]
        },
        {
          "name": "stdout",
          "output_type": "stream",
          "text": [
            "[0]\tvalidation_0-rmse:18.55832\tvalidation_1-rmse:16.84245\n",
            "[1]\tvalidation_0-rmse:13.43471\tvalidation_1-rmse:12.15433\n",
            "[2]\tvalidation_0-rmse:9.88701\tvalidation_1-rmse:8.96961\n",
            "[3]\tvalidation_0-rmse:7.48395\tvalidation_1-rmse:6.80531\n",
            "[4]\tvalidation_0-rmse:5.86977\tvalidation_1-rmse:5.42431\n",
            "[5]\tvalidation_0-rmse:4.82152\tvalidation_1-rmse:4.71546\n",
            "[6]\tvalidation_0-rmse:4.13577\tvalidation_1-rmse:4.30726\n",
            "[7]\tvalidation_0-rmse:3.70230\tvalidation_1-rmse:4.07345\n",
            "[8]\tvalidation_0-rmse:3.41606\tvalidation_1-rmse:3.99007\n",
            "[9]\tvalidation_0-rmse:3.23862\tvalidation_1-rmse:3.93364\n",
            "[10]\tvalidation_0-rmse:3.08032\tvalidation_1-rmse:3.91101\n",
            "[11]\tvalidation_0-rmse:2.98703\tvalidation_1-rmse:3.83277\n",
            "[12]\tvalidation_0-rmse:2.89114\tvalidation_1-rmse:3.79400\n",
            "[13]\tvalidation_0-rmse:2.84594\tvalidation_1-rmse:3.78059\n",
            "[14]\tvalidation_0-rmse:2.80411\tvalidation_1-rmse:3.76460\n",
            "[15]\tvalidation_0-rmse:2.75731\tvalidation_1-rmse:3.76021\n",
            "[16]\tvalidation_0-rmse:2.73780\tvalidation_1-rmse:3.75224\n",
            "[17]\tvalidation_0-rmse:2.70594\tvalidation_1-rmse:3.75310\n",
            "[18]\tvalidation_0-rmse:2.67423\tvalidation_1-rmse:3.68676\n",
            "[19]\tvalidation_0-rmse:2.63542\tvalidation_1-rmse:3.69445\n",
            "[20]\tvalidation_0-rmse:2.62438\tvalidation_1-rmse:3.69764\n",
            "[21]\tvalidation_0-rmse:2.60201\tvalidation_1-rmse:3.68465\n",
            "[22]\tvalidation_0-rmse:2.59625\tvalidation_1-rmse:3.69446\n",
            "[23]\tvalidation_0-rmse:2.57739\tvalidation_1-rmse:3.69488\n",
            "[24]\tvalidation_0-rmse:2.56805\tvalidation_1-rmse:3.68762\n",
            "[25]\tvalidation_0-rmse:2.50792\tvalidation_1-rmse:3.63705\n",
            "[26]\tvalidation_0-rmse:2.48656\tvalidation_1-rmse:3.61764\n",
            "[27]\tvalidation_0-rmse:2.48154\tvalidation_1-rmse:3.61225\n",
            "[28]\tvalidation_0-rmse:2.44989\tvalidation_1-rmse:3.55712\n",
            "[29]\tvalidation_0-rmse:2.41109\tvalidation_1-rmse:3.56616\n",
            "[30]\tvalidation_0-rmse:2.39091\tvalidation_1-rmse:3.54672\n",
            "[31]\tvalidation_0-rmse:2.38495\tvalidation_1-rmse:3.55111\n",
            "[32]\tvalidation_0-rmse:2.36397\tvalidation_1-rmse:3.52464\n",
            "[33]\tvalidation_0-rmse:2.33269\tvalidation_1-rmse:3.52416\n",
            "[34]\tvalidation_0-rmse:2.31676\tvalidation_1-rmse:3.50874\n",
            "[35]\tvalidation_0-rmse:2.31117\tvalidation_1-rmse:3.50568\n",
            "[36]\tvalidation_0-rmse:2.30693\tvalidation_1-rmse:3.50830\n",
            "[37]\tvalidation_0-rmse:2.29959\tvalidation_1-rmse:3.50383\n",
            "[38]\tvalidation_0-rmse:2.29094\tvalidation_1-rmse:3.49987\n",
            "[39]\tvalidation_0-rmse:2.28491\tvalidation_1-rmse:3.49278\n",
            "[40]\tvalidation_0-rmse:2.28264\tvalidation_1-rmse:3.49934\n",
            "[41]\tvalidation_0-rmse:2.27342\tvalidation_1-rmse:3.48357\n",
            "[42]\tvalidation_0-rmse:2.26310\tvalidation_1-rmse:3.47653\n",
            "[43]\tvalidation_0-rmse:2.25741\tvalidation_1-rmse:3.47946\n",
            "[44]\tvalidation_0-rmse:2.25415\tvalidation_1-rmse:3.47872\n",
            "[45]\tvalidation_0-rmse:2.24182\tvalidation_1-rmse:3.46389\n",
            "[46]\tvalidation_0-rmse:2.23392\tvalidation_1-rmse:3.45498\n",
            "[47]\tvalidation_0-rmse:2.21723\tvalidation_1-rmse:3.43350\n",
            "[48]\tvalidation_0-rmse:2.20775\tvalidation_1-rmse:3.42596\n",
            "[49]\tvalidation_0-rmse:2.20433\tvalidation_1-rmse:3.43138\n",
            "[50]\tvalidation_0-rmse:2.20117\tvalidation_1-rmse:3.44029\n",
            "[51]\tvalidation_0-rmse:2.19211\tvalidation_1-rmse:3.42983\n",
            "[52]\tvalidation_0-rmse:2.18598\tvalidation_1-rmse:3.42649\n",
            "[53]\tvalidation_0-rmse:2.17462\tvalidation_1-rmse:3.42181\n",
            "[54]\tvalidation_0-rmse:2.16431\tvalidation_1-rmse:3.40234\n",
            "[55]\tvalidation_0-rmse:2.15888\tvalidation_1-rmse:3.39413\n",
            "[56]\tvalidation_0-rmse:2.14824\tvalidation_1-rmse:3.39003\n",
            "[57]\tvalidation_0-rmse:2.14445\tvalidation_1-rmse:3.39188\n",
            "[58]\tvalidation_0-rmse:2.14085\tvalidation_1-rmse:3.40280\n",
            "[59]\tvalidation_0-rmse:2.12512\tvalidation_1-rmse:3.37146\n",
            "[60]\tvalidation_0-rmse:2.11316\tvalidation_1-rmse:3.34593\n",
            "[61]\tvalidation_0-rmse:2.08676\tvalidation_1-rmse:3.32411\n",
            "[62]\tvalidation_0-rmse:2.08266\tvalidation_1-rmse:3.32038\n",
            "[63]\tvalidation_0-rmse:2.06874\tvalidation_1-rmse:3.32008\n",
            "[64]\tvalidation_0-rmse:2.06016\tvalidation_1-rmse:3.31050\n",
            "[65]\tvalidation_0-rmse:2.03873\tvalidation_1-rmse:3.29930\n",
            "[66]\tvalidation_0-rmse:2.02387\tvalidation_1-rmse:3.28682\n",
            "[67]\tvalidation_0-rmse:2.01573\tvalidation_1-rmse:3.27605\n",
            "[68]\tvalidation_0-rmse:2.00311\tvalidation_1-rmse:3.27104\n",
            "[69]\tvalidation_0-rmse:1.99280\tvalidation_1-rmse:3.24800\n",
            "[70]\tvalidation_0-rmse:1.98277\tvalidation_1-rmse:3.24193\n",
            "[71]\tvalidation_0-rmse:1.97660\tvalidation_1-rmse:3.23953\n",
            "[72]\tvalidation_0-rmse:1.96882\tvalidation_1-rmse:3.22705\n",
            "[73]\tvalidation_0-rmse:1.96036\tvalidation_1-rmse:3.21871\n",
            "[74]\tvalidation_0-rmse:1.95627\tvalidation_1-rmse:3.21530\n",
            "[75]\tvalidation_0-rmse:1.95470\tvalidation_1-rmse:3.22125\n",
            "[76]\tvalidation_0-rmse:1.94872\tvalidation_1-rmse:3.22474\n",
            "[77]\tvalidation_0-rmse:1.94748\tvalidation_1-rmse:3.22563\n",
            "[78]\tvalidation_0-rmse:1.94285\tvalidation_1-rmse:3.22557\n",
            "[79]\tvalidation_0-rmse:1.94070\tvalidation_1-rmse:3.22271\n",
            "[80]\tvalidation_0-rmse:1.93657\tvalidation_1-rmse:3.22708\n",
            "[81]\tvalidation_0-rmse:1.93187\tvalidation_1-rmse:3.21785\n",
            "[82]\tvalidation_0-rmse:1.92505\tvalidation_1-rmse:3.19239\n",
            "[83]\tvalidation_0-rmse:1.91778\tvalidation_1-rmse:3.18536\n",
            "[84]\tvalidation_0-rmse:1.90704\tvalidation_1-rmse:3.17618\n",
            "[85]\tvalidation_0-rmse:1.90565\tvalidation_1-rmse:3.17519\n",
            "[86]\tvalidation_0-rmse:1.89933\tvalidation_1-rmse:3.17010\n",
            "[87]\tvalidation_0-rmse:1.89269\tvalidation_1-rmse:3.16378\n",
            "[88]\tvalidation_0-rmse:1.88247\tvalidation_1-rmse:3.14960\n",
            "[89]\tvalidation_0-rmse:1.87553\tvalidation_1-rmse:3.14609\n",
            "[90]\tvalidation_0-rmse:1.87097\tvalidation_1-rmse:3.14978\n",
            "[91]\tvalidation_0-rmse:1.86459\tvalidation_1-rmse:3.14357\n",
            "[92]\tvalidation_0-rmse:1.86125\tvalidation_1-rmse:3.13707\n",
            "[93]\tvalidation_0-rmse:1.85676\tvalidation_1-rmse:3.13818\n",
            "[94]\tvalidation_0-rmse:1.85303\tvalidation_1-rmse:3.13605\n",
            "[95]\tvalidation_0-rmse:1.85180\tvalidation_1-rmse:3.14033\n",
            "[96]\tvalidation_0-rmse:1.84109\tvalidation_1-rmse:3.12679\n",
            "[97]\tvalidation_0-rmse:1.83865\tvalidation_1-rmse:3.11189\n",
            "[98]\tvalidation_0-rmse:1.83482\tvalidation_1-rmse:3.10958\n",
            "[99]\tvalidation_0-rmse:1.83307\tvalidation_1-rmse:3.10984\n"
          ]
        },
        {
          "data": {
            "text/html": [
              "<style>#sk-container-id-3 {\n",
              "  /* Definition of color scheme common for light and dark mode */\n",
              "  --sklearn-color-text: black;\n",
              "  --sklearn-color-line: gray;\n",
              "  /* Definition of color scheme for unfitted estimators */\n",
              "  --sklearn-color-unfitted-level-0: #fff5e6;\n",
              "  --sklearn-color-unfitted-level-1: #f6e4d2;\n",
              "  --sklearn-color-unfitted-level-2: #ffe0b3;\n",
              "  --sklearn-color-unfitted-level-3: chocolate;\n",
              "  /* Definition of color scheme for fitted estimators */\n",
              "  --sklearn-color-fitted-level-0: #f0f8ff;\n",
              "  --sklearn-color-fitted-level-1: #d4ebff;\n",
              "  --sklearn-color-fitted-level-2: #b3dbfd;\n",
              "  --sklearn-color-fitted-level-3: cornflowerblue;\n",
              "\n",
              "  /* Specific color for light theme */\n",
              "  --sklearn-color-text-on-default-background: var(--sg-text-color, var(--theme-code-foreground, var(--jp-content-font-color1, black)));\n",
              "  --sklearn-color-background: var(--sg-background-color, var(--theme-background, var(--jp-layout-color0, white)));\n",
              "  --sklearn-color-border-box: var(--sg-text-color, var(--theme-code-foreground, var(--jp-content-font-color1, black)));\n",
              "  --sklearn-color-icon: #696969;\n",
              "\n",
              "  @media (prefers-color-scheme: dark) {\n",
              "    /* Redefinition of color scheme for dark theme */\n",
              "    --sklearn-color-text-on-default-background: var(--sg-text-color, var(--theme-code-foreground, var(--jp-content-font-color1, white)));\n",
              "    --sklearn-color-background: var(--sg-background-color, var(--theme-background, var(--jp-layout-color0, #111)));\n",
              "    --sklearn-color-border-box: var(--sg-text-color, var(--theme-code-foreground, var(--jp-content-font-color1, white)));\n",
              "    --sklearn-color-icon: #878787;\n",
              "  }\n",
              "}\n",
              "\n",
              "#sk-container-id-3 {\n",
              "  color: var(--sklearn-color-text);\n",
              "}\n",
              "\n",
              "#sk-container-id-3 pre {\n",
              "  padding: 0;\n",
              "}\n",
              "\n",
              "#sk-container-id-3 input.sk-hidden--visually {\n",
              "  border: 0;\n",
              "  clip: rect(1px 1px 1px 1px);\n",
              "  clip: rect(1px, 1px, 1px, 1px);\n",
              "  height: 1px;\n",
              "  margin: -1px;\n",
              "  overflow: hidden;\n",
              "  padding: 0;\n",
              "  position: absolute;\n",
              "  width: 1px;\n",
              "}\n",
              "\n",
              "#sk-container-id-3 div.sk-dashed-wrapped {\n",
              "  border: 1px dashed var(--sklearn-color-line);\n",
              "  margin: 0 0.4em 0.5em 0.4em;\n",
              "  box-sizing: border-box;\n",
              "  padding-bottom: 0.4em;\n",
              "  background-color: var(--sklearn-color-background);\n",
              "}\n",
              "\n",
              "#sk-container-id-3 div.sk-container {\n",
              "  /* jupyter's `normalize.less` sets `[hidden] { display: none; }`\n",
              "     but bootstrap.min.css set `[hidden] { display: none !important; }`\n",
              "     so we also need the `!important` here to be able to override the\n",
              "     default hidden behavior on the sphinx rendered scikit-learn.org.\n",
              "     See: https://github.com/scikit-learn/scikit-learn/issues/21755 */\n",
              "  display: inline-block !important;\n",
              "  position: relative;\n",
              "}\n",
              "\n",
              "#sk-container-id-3 div.sk-text-repr-fallback {\n",
              "  display: none;\n",
              "}\n",
              "\n",
              "div.sk-parallel-item,\n",
              "div.sk-serial,\n",
              "div.sk-item {\n",
              "  /* draw centered vertical line to link estimators */\n",
              "  background-image: linear-gradient(var(--sklearn-color-text-on-default-background), var(--sklearn-color-text-on-default-background));\n",
              "  background-size: 2px 100%;\n",
              "  background-repeat: no-repeat;\n",
              "  background-position: center center;\n",
              "}\n",
              "\n",
              "/* Parallel-specific style estimator block */\n",
              "\n",
              "#sk-container-id-3 div.sk-parallel-item::after {\n",
              "  content: \"\";\n",
              "  width: 100%;\n",
              "  border-bottom: 2px solid var(--sklearn-color-text-on-default-background);\n",
              "  flex-grow: 1;\n",
              "}\n",
              "\n",
              "#sk-container-id-3 div.sk-parallel {\n",
              "  display: flex;\n",
              "  align-items: stretch;\n",
              "  justify-content: center;\n",
              "  background-color: var(--sklearn-color-background);\n",
              "  position: relative;\n",
              "}\n",
              "\n",
              "#sk-container-id-3 div.sk-parallel-item {\n",
              "  display: flex;\n",
              "  flex-direction: column;\n",
              "}\n",
              "\n",
              "#sk-container-id-3 div.sk-parallel-item:first-child::after {\n",
              "  align-self: flex-end;\n",
              "  width: 50%;\n",
              "}\n",
              "\n",
              "#sk-container-id-3 div.sk-parallel-item:last-child::after {\n",
              "  align-self: flex-start;\n",
              "  width: 50%;\n",
              "}\n",
              "\n",
              "#sk-container-id-3 div.sk-parallel-item:only-child::after {\n",
              "  width: 0;\n",
              "}\n",
              "\n",
              "/* Serial-specific style estimator block */\n",
              "\n",
              "#sk-container-id-3 div.sk-serial {\n",
              "  display: flex;\n",
              "  flex-direction: column;\n",
              "  align-items: center;\n",
              "  background-color: var(--sklearn-color-background);\n",
              "  padding-right: 1em;\n",
              "  padding-left: 1em;\n",
              "}\n",
              "\n",
              "\n",
              "/* Toggleable style: style used for estimator/Pipeline/ColumnTransformer box that is\n",
              "clickable and can be expanded/collapsed.\n",
              "- Pipeline and ColumnTransformer use this feature and define the default style\n",
              "- Estimators will overwrite some part of the style using the `sk-estimator` class\n",
              "*/\n",
              "\n",
              "/* Pipeline and ColumnTransformer style (default) */\n",
              "\n",
              "#sk-container-id-3 div.sk-toggleable {\n",
              "  /* Default theme specific background. It is overwritten whether we have a\n",
              "  specific estimator or a Pipeline/ColumnTransformer */\n",
              "  background-color: var(--sklearn-color-background);\n",
              "}\n",
              "\n",
              "/* Toggleable label */\n",
              "#sk-container-id-3 label.sk-toggleable__label {\n",
              "  cursor: pointer;\n",
              "  display: block;\n",
              "  width: 100%;\n",
              "  margin-bottom: 0;\n",
              "  padding: 0.5em;\n",
              "  box-sizing: border-box;\n",
              "  text-align: center;\n",
              "}\n",
              "\n",
              "#sk-container-id-3 label.sk-toggleable__label-arrow:before {\n",
              "  /* Arrow on the left of the label */\n",
              "  content: \"▸\";\n",
              "  float: left;\n",
              "  margin-right: 0.25em;\n",
              "  color: var(--sklearn-color-icon);\n",
              "}\n",
              "\n",
              "#sk-container-id-3 label.sk-toggleable__label-arrow:hover:before {\n",
              "  color: var(--sklearn-color-text);\n",
              "}\n",
              "\n",
              "/* Toggleable content - dropdown */\n",
              "\n",
              "#sk-container-id-3 div.sk-toggleable__content {\n",
              "  max-height: 0;\n",
              "  max-width: 0;\n",
              "  overflow: hidden;\n",
              "  text-align: left;\n",
              "  /* unfitted */\n",
              "  background-color: var(--sklearn-color-unfitted-level-0);\n",
              "}\n",
              "\n",
              "#sk-container-id-3 div.sk-toggleable__content.fitted {\n",
              "  /* fitted */\n",
              "  background-color: var(--sklearn-color-fitted-level-0);\n",
              "}\n",
              "\n",
              "#sk-container-id-3 div.sk-toggleable__content pre {\n",
              "  margin: 0.2em;\n",
              "  border-radius: 0.25em;\n",
              "  color: var(--sklearn-color-text);\n",
              "  /* unfitted */\n",
              "  background-color: var(--sklearn-color-unfitted-level-0);\n",
              "}\n",
              "\n",
              "#sk-container-id-3 div.sk-toggleable__content.fitted pre {\n",
              "  /* unfitted */\n",
              "  background-color: var(--sklearn-color-fitted-level-0);\n",
              "}\n",
              "\n",
              "#sk-container-id-3 input.sk-toggleable__control:checked~div.sk-toggleable__content {\n",
              "  /* Expand drop-down */\n",
              "  max-height: 200px;\n",
              "  max-width: 100%;\n",
              "  overflow: auto;\n",
              "}\n",
              "\n",
              "#sk-container-id-3 input.sk-toggleable__control:checked~label.sk-toggleable__label-arrow:before {\n",
              "  content: \"▾\";\n",
              "}\n",
              "\n",
              "/* Pipeline/ColumnTransformer-specific style */\n",
              "\n",
              "#sk-container-id-3 div.sk-label input.sk-toggleable__control:checked~label.sk-toggleable__label {\n",
              "  color: var(--sklearn-color-text);\n",
              "  background-color: var(--sklearn-color-unfitted-level-2);\n",
              "}\n",
              "\n",
              "#sk-container-id-3 div.sk-label.fitted input.sk-toggleable__control:checked~label.sk-toggleable__label {\n",
              "  background-color: var(--sklearn-color-fitted-level-2);\n",
              "}\n",
              "\n",
              "/* Estimator-specific style */\n",
              "\n",
              "/* Colorize estimator box */\n",
              "#sk-container-id-3 div.sk-estimator input.sk-toggleable__control:checked~label.sk-toggleable__label {\n",
              "  /* unfitted */\n",
              "  background-color: var(--sklearn-color-unfitted-level-2);\n",
              "}\n",
              "\n",
              "#sk-container-id-3 div.sk-estimator.fitted input.sk-toggleable__control:checked~label.sk-toggleable__label {\n",
              "  /* fitted */\n",
              "  background-color: var(--sklearn-color-fitted-level-2);\n",
              "}\n",
              "\n",
              "#sk-container-id-3 div.sk-label label.sk-toggleable__label,\n",
              "#sk-container-id-3 div.sk-label label {\n",
              "  /* The background is the default theme color */\n",
              "  color: var(--sklearn-color-text-on-default-background);\n",
              "}\n",
              "\n",
              "/* On hover, darken the color of the background */\n",
              "#sk-container-id-3 div.sk-label:hover label.sk-toggleable__label {\n",
              "  color: var(--sklearn-color-text);\n",
              "  background-color: var(--sklearn-color-unfitted-level-2);\n",
              "}\n",
              "\n",
              "/* Label box, darken color on hover, fitted */\n",
              "#sk-container-id-3 div.sk-label.fitted:hover label.sk-toggleable__label.fitted {\n",
              "  color: var(--sklearn-color-text);\n",
              "  background-color: var(--sklearn-color-fitted-level-2);\n",
              "}\n",
              "\n",
              "/* Estimator label */\n",
              "\n",
              "#sk-container-id-3 div.sk-label label {\n",
              "  font-family: monospace;\n",
              "  font-weight: bold;\n",
              "  display: inline-block;\n",
              "  line-height: 1.2em;\n",
              "}\n",
              "\n",
              "#sk-container-id-3 div.sk-label-container {\n",
              "  text-align: center;\n",
              "}\n",
              "\n",
              "/* Estimator-specific */\n",
              "#sk-container-id-3 div.sk-estimator {\n",
              "  font-family: monospace;\n",
              "  border: 1px dotted var(--sklearn-color-border-box);\n",
              "  border-radius: 0.25em;\n",
              "  box-sizing: border-box;\n",
              "  margin-bottom: 0.5em;\n",
              "  /* unfitted */\n",
              "  background-color: var(--sklearn-color-unfitted-level-0);\n",
              "}\n",
              "\n",
              "#sk-container-id-3 div.sk-estimator.fitted {\n",
              "  /* fitted */\n",
              "  background-color: var(--sklearn-color-fitted-level-0);\n",
              "}\n",
              "\n",
              "/* on hover */\n",
              "#sk-container-id-3 div.sk-estimator:hover {\n",
              "  /* unfitted */\n",
              "  background-color: var(--sklearn-color-unfitted-level-2);\n",
              "}\n",
              "\n",
              "#sk-container-id-3 div.sk-estimator.fitted:hover {\n",
              "  /* fitted */\n",
              "  background-color: var(--sklearn-color-fitted-level-2);\n",
              "}\n",
              "\n",
              "/* Specification for estimator info (e.g. \"i\" and \"?\") */\n",
              "\n",
              "/* Common style for \"i\" and \"?\" */\n",
              "\n",
              ".sk-estimator-doc-link,\n",
              "a:link.sk-estimator-doc-link,\n",
              "a:visited.sk-estimator-doc-link {\n",
              "  float: right;\n",
              "  font-size: smaller;\n",
              "  line-height: 1em;\n",
              "  font-family: monospace;\n",
              "  background-color: var(--sklearn-color-background);\n",
              "  border-radius: 1em;\n",
              "  height: 1em;\n",
              "  width: 1em;\n",
              "  text-decoration: none !important;\n",
              "  margin-left: 1ex;\n",
              "  /* unfitted */\n",
              "  border: var(--sklearn-color-unfitted-level-1) 1pt solid;\n",
              "  color: var(--sklearn-color-unfitted-level-1);\n",
              "}\n",
              "\n",
              ".sk-estimator-doc-link.fitted,\n",
              "a:link.sk-estimator-doc-link.fitted,\n",
              "a:visited.sk-estimator-doc-link.fitted {\n",
              "  /* fitted */\n",
              "  border: var(--sklearn-color-fitted-level-1) 1pt solid;\n",
              "  color: var(--sklearn-color-fitted-level-1);\n",
              "}\n",
              "\n",
              "/* On hover */\n",
              "div.sk-estimator:hover .sk-estimator-doc-link:hover,\n",
              ".sk-estimator-doc-link:hover,\n",
              "div.sk-label-container:hover .sk-estimator-doc-link:hover,\n",
              ".sk-estimator-doc-link:hover {\n",
              "  /* unfitted */\n",
              "  background-color: var(--sklearn-color-unfitted-level-3);\n",
              "  color: var(--sklearn-color-background);\n",
              "  text-decoration: none;\n",
              "}\n",
              "\n",
              "div.sk-estimator.fitted:hover .sk-estimator-doc-link.fitted:hover,\n",
              ".sk-estimator-doc-link.fitted:hover,\n",
              "div.sk-label-container:hover .sk-estimator-doc-link.fitted:hover,\n",
              ".sk-estimator-doc-link.fitted:hover {\n",
              "  /* fitted */\n",
              "  background-color: var(--sklearn-color-fitted-level-3);\n",
              "  color: var(--sklearn-color-background);\n",
              "  text-decoration: none;\n",
              "}\n",
              "\n",
              "/* Span, style for the box shown on hovering the info icon */\n",
              ".sk-estimator-doc-link span {\n",
              "  display: none;\n",
              "  z-index: 9999;\n",
              "  position: relative;\n",
              "  font-weight: normal;\n",
              "  right: .2ex;\n",
              "  padding: .5ex;\n",
              "  margin: .5ex;\n",
              "  width: min-content;\n",
              "  min-width: 20ex;\n",
              "  max-width: 50ex;\n",
              "  color: var(--sklearn-color-text);\n",
              "  box-shadow: 2pt 2pt 4pt #999;\n",
              "  /* unfitted */\n",
              "  background: var(--sklearn-color-unfitted-level-0);\n",
              "  border: .5pt solid var(--sklearn-color-unfitted-level-3);\n",
              "}\n",
              "\n",
              ".sk-estimator-doc-link.fitted span {\n",
              "  /* fitted */\n",
              "  background: var(--sklearn-color-fitted-level-0);\n",
              "  border: var(--sklearn-color-fitted-level-3);\n",
              "}\n",
              "\n",
              ".sk-estimator-doc-link:hover span {\n",
              "  display: block;\n",
              "}\n",
              "\n",
              "/* \"?\"-specific style due to the `<a>` HTML tag */\n",
              "\n",
              "#sk-container-id-3 a.estimator_doc_link {\n",
              "  float: right;\n",
              "  font-size: 1rem;\n",
              "  line-height: 1em;\n",
              "  font-family: monospace;\n",
              "  background-color: var(--sklearn-color-background);\n",
              "  border-radius: 1rem;\n",
              "  height: 1rem;\n",
              "  width: 1rem;\n",
              "  text-decoration: none;\n",
              "  /* unfitted */\n",
              "  color: var(--sklearn-color-unfitted-level-1);\n",
              "  border: var(--sklearn-color-unfitted-level-1) 1pt solid;\n",
              "}\n",
              "\n",
              "#sk-container-id-3 a.estimator_doc_link.fitted {\n",
              "  /* fitted */\n",
              "  border: var(--sklearn-color-fitted-level-1) 1pt solid;\n",
              "  color: var(--sklearn-color-fitted-level-1);\n",
              "}\n",
              "\n",
              "/* On hover */\n",
              "#sk-container-id-3 a.estimator_doc_link:hover {\n",
              "  /* unfitted */\n",
              "  background-color: var(--sklearn-color-unfitted-level-3);\n",
              "  color: var(--sklearn-color-background);\n",
              "  text-decoration: none;\n",
              "}\n",
              "\n",
              "#sk-container-id-3 a.estimator_doc_link.fitted:hover {\n",
              "  /* fitted */\n",
              "  background-color: var(--sklearn-color-fitted-level-3);\n",
              "}\n",
              "</style><div id=\"sk-container-id-3\" class=\"sk-top-container\"><div class=\"sk-text-repr-fallback\"><pre>XGBRegressor(base_score=0, booster=&#x27;gbtree&#x27;, colsample_bylevel=1,\n",
              "             colsample_bynode=1, colsample_bytree=1, eval_metric=&#x27;rmse&#x27;,\n",
              "             gamma=0, gpu_id=-1, importance_type=&#x27;gain&#x27;,\n",
              "             interaction_constraints=&#x27;&#x27;, learning_rate=0.300000012,\n",
              "             max_delta_step=0, max_depth=6, min_child_weight=1, missing=nan,\n",
              "             monotone_constraints=&#x27;()&#x27;, n_estimators=100, n_jobs=16,\n",
              "             num_parallel_tree=1, random_state=175, reg_alpha=0, reg_lambda=1,\n",
              "             scale_pos_weight=1, seed=175, subsample=1, tree_method=&#x27;exact&#x27;,\n",
              "             validate_parameters=1, verbosity=None)</pre><b>In a Jupyter environment, please rerun this cell to show the HTML representation or trust the notebook. <br />On GitHub, the HTML representation is unable to render, please try loading this page with nbviewer.org.</b></div><div class=\"sk-container\" hidden><div class=\"sk-item\"><div class=\"sk-estimator fitted sk-toggleable\"><input class=\"sk-toggleable__control sk-hidden--visually\" id=\"sk-estimator-id-3\" type=\"checkbox\" checked><label for=\"sk-estimator-id-3\" class=\"sk-toggleable__label fitted sk-toggleable__label-arrow fitted\">&nbsp;XGBRegressor<span class=\"sk-estimator-doc-link fitted\">i<span>Fitted</span></span></label><div class=\"sk-toggleable__content fitted\"><pre>XGBRegressor(base_score=0, booster=&#x27;gbtree&#x27;, colsample_bylevel=1,\n",
              "             colsample_bynode=1, colsample_bytree=1, eval_metric=&#x27;rmse&#x27;,\n",
              "             gamma=0, gpu_id=-1, importance_type=&#x27;gain&#x27;,\n",
              "             interaction_constraints=&#x27;&#x27;, learning_rate=0.300000012,\n",
              "             max_delta_step=0, max_depth=6, min_child_weight=1, missing=nan,\n",
              "             monotone_constraints=&#x27;()&#x27;, n_estimators=100, n_jobs=16,\n",
              "             num_parallel_tree=1, random_state=175, reg_alpha=0, reg_lambda=1,\n",
              "             scale_pos_weight=1, seed=175, subsample=1, tree_method=&#x27;exact&#x27;,\n",
              "             validate_parameters=1, verbosity=None)</pre></div> </div></div></div></div>"
            ],
            "text/plain": [
              "XGBRegressor(base_score=0, booster='gbtree', colsample_bylevel=1,\n",
              "             colsample_bynode=1, colsample_bytree=1, eval_metric='rmse',\n",
              "             gamma=0, gpu_id=-1, importance_type='gain',\n",
              "             interaction_constraints='', learning_rate=0.300000012,\n",
              "             max_delta_step=0, max_depth=6, min_child_weight=1, missing=nan,\n",
              "             monotone_constraints='()', n_estimators=100, n_jobs=16,\n",
              "             num_parallel_tree=1, random_state=175, reg_alpha=0, reg_lambda=1,\n",
              "             scale_pos_weight=1, seed=175, subsample=1, tree_method='exact',\n",
              "             validate_parameters=1, verbosity=None)"
            ]
          },
          "execution_count": 336,
          "metadata": {},
          "output_type": "execute_result"
        }
      ],
      "source": [
        "#Entrenar el modelo\n",
        "\n",
        "model = xgb.XGBRegressor(eval_metric = \"rmse\", seed = 175,base_score=0)\n",
        "\n",
        "model.fit(\n",
        "    X_train,\n",
        "    Y_train,\n",
        "    eval_set = [(x_train, y_train), (x_valida, y_valida)],\n",
        "    verbose = True,\n",
        "    early_stopping_rounds = 15\n",
        "    )"
      ]
    },
    {
      "cell_type": "markdown",
      "id": "6fc3b411",
      "metadata": {
        "id": "6fc3b411"
      },
      "source": [
        "### Model Evaluation"
      ]
    },
    {
      "cell_type": "code",
      "execution_count": 337,
      "id": "29f4bc62",
      "metadata": {
        "id": "29f4bc62"
      },
      "outputs": [
        {
          "data": {
            "image/png": "[encoded data removed]",
            "text/plain": [
              "<Figure size 1000x1500 with 1 Axes>"
            ]
          },
          "metadata": {},
          "output_type": "display_data"
        }
      ],
      "source": [
        "#grafico con modelo de XGBRegressor\n",
        "\n",
        "fig, ax = plt.subplots(figsize = (10, 15))\n",
        "xgb.plot_importance(model, importance_type = \"gain\", ax = ax);"
      ]
    },
    {
      "cell_type": "code",
      "execution_count": 338,
      "id": "4WJGPSLsi25d",
      "metadata": {
        "id": "4WJGPSLsi25d"
      },
      "outputs": [],
      "source": [
        "#modelo de XGBRegressor\n",
        "\n",
        "# Acceder a los resultados de la evaluación\n",
        "results = model.evals_result()"
      ]
    },
    {
      "cell_type": "code",
      "execution_count": 339,
      "id": "f2adkJKd4uhN",
      "metadata": {
        "id": "f2adkJKd4uhN"
      },
      "outputs": [],
      "source": [
        "#modelo de CatBoostRegressor\n",
        "\n",
        "# Acceder a los resultados de la evaluación\n",
        "#results = model.get_evals_result()"
      ]
    },
    {
      "cell_type": "code",
      "execution_count": 340,
      "id": "lyr_LGSj4zSB",
      "metadata": {
        "id": "lyr_LGSj4zSB"
      },
      "outputs": [],
      "source": [
        "#modelo de CatBoostRegressor\n",
        "\n",
        "#print(results.keys())"
      ]
    },
    {
      "cell_type": "code",
      "execution_count": 341,
      "id": "dd4bd182",
      "metadata": {
        "id": "dd4bd182"
      },
      "outputs": [],
      "source": [
        "#modelo de XGBRegressor\n",
        "\n",
        "# Extraer los RMSE para el conjunto de entrenamiento y validación\n",
        "train_rmse = results['validation_0']['rmse']\n",
        "valid_rmse = results['validation_1']['rmse']"
      ]
    },
    {
      "cell_type": "code",
      "execution_count": 342,
      "id": "KySghboc45MP",
      "metadata": {
        "id": "KySghboc45MP"
      },
      "outputs": [],
      "source": [
        "#modelo de CatBoostRegressor\n",
        "\n",
        "#train_rmse = results['learn']['RMSE']  # Asegúrate de que 'learn' y 'RMSE' coincidan con la salida del print anterior\n",
        "#valid_rmse = results['validation']['RMSE']  # Igualmente aquí"
      ]
    },
    {
      "cell_type": "code",
      "execution_count": 343,
      "id": "iBf75dVijc3S",
      "metadata": {
        "id": "iBf75dVijc3S"
      },
      "outputs": [],
      "source": [
        "# Asegurarse de que 'rounds' tenga la misma longitud que los datos de RMSE\n",
        "rounds = list(range(1, len(train_rmse) + 1))"
      ]
    },
    {
      "cell_type": "code",
      "execution_count": 344,
      "id": "Wf8tjafjjcz6",
      "metadata": {
        "id": "Wf8tjafjjcz6"
      },
      "outputs": [],
      "source": [
        "# Ahora 'rounds', 'train_rmse', y 'valid_rmse' deben tener la misma longitud.\n",
        "# Verifica que es así\n",
        "assert len(rounds) == len(train_rmse) == len(valid_rmse), \"Las listas no tienen la misma longitud.\""
      ]
    },
    {
      "cell_type": "code",
      "execution_count": 345,
      "id": "IP6xQdTtjcwv",
      "metadata": {
        "id": "IP6xQdTtjcwv"
      },
      "outputs": [
        {
          "data": {
            "image/png": "[encoded data removed]",
            "text/plain": [
              "<Figure size 1000x500 with 1 Axes>"
            ]
          },
          "metadata": {},
          "output_type": "display_data"
        }
      ],
      "source": [
        "# Graficar los resultados\n",
        "plt.figure(figsize=(10, 5))\n",
        "plt.plot(rounds, train_rmse, label='Training RMSE')\n",
        "plt.plot(rounds, valid_rmse, label='Validation RMSE')\n",
        "plt.title('Training and Validation RMSE per round')\n",
        "plt.xlabel('Round')\n",
        "plt.ylabel('RMSE')\n",
        "plt.legend()\n",
        "plt.show()"
      ]
    },
    {
      "cell_type": "markdown",
      "id": "01ce99a7",
      "metadata": {
        "id": "01ce99a7"
      },
      "source": [
        "<a id='prediction'></a>\n",
        "### Prediction\n",
        "[Volver al índice](#index)<br>\n",
        "\n",
        "En este apartado vamos a utilizar el modelo entrenado para hacer una predicción y posteriormente enviar el submit a Kaggle."
      ]
    },
    {
      "cell_type": "code",
      "execution_count": 346,
      "id": "c2e43f31",
      "metadata": {
        "id": "c2e43f31"
      },
      "outputs": [
        {
          "name": "stderr",
          "output_type": "stream",
          "text": [
            "c:\\Users\\npere\\AppData\\Local\\Programs\\Python\\Python312\\Lib\\site-packages\\xgboost\\data.py:192: FutureWarning: pandas.Int64Index is deprecated and will be removed from pandas in a future version. Use pandas.Index with the appropriate dtype instead.\n",
            "  from pandas import MultiIndex, Int64Index\n"
          ]
        }
      ],
      "source": [
        "if \"sales\" in X_test.columns:\n",
        "    X_test.drop(\"sales\", axis = 1, inplace = True)\n",
        "\n",
        "Y_test_predict = model.predict(X_test)\n",
        "X_test[\"sales\"] = Y_test_predict"
      ]
    },
    {
      "cell_type": "code",
      "execution_count": 347,
      "id": "b4d4963a",
      "metadata": {
        "id": "b4d4963a"
      },
      "outputs": [],
      "source": [
        "X_test.reset_index(inplace = True)"
      ]
    },
    {
      "cell_type": "code",
      "execution_count": 348,
      "id": "a5fadb87",
      "metadata": {
        "id": "a5fadb87"
      },
      "outputs": [
        {
          "name": "stderr",
          "output_type": "stream",
          "text": [
            "c:\\Users\\npere\\AppData\\Local\\Programs\\Python\\Python312\\Lib\\site-packages\\xgboost\\data.py:192: FutureWarning: pandas.Int64Index is deprecated and will be removed from pandas in a future version. Use pandas.Index with the appropriate dtype instead.\n",
            "  from pandas import MultiIndex, Int64Index\n"
          ]
        }
      ],
      "source": [
        "Y_train_predict = model.predict(X_train)\n",
        "Y_valida_predict = model.predict(X_valida)\n",
        "\n",
        "rmse_train = np.sqrt(\n",
        "    mean_squared_error(\n",
        "        y_true = Y_train,\n",
        "        y_pred = Y_train_predict\n",
        "    )\n",
        ")\n",
        "\n",
        "rmse_valida = np.sqrt(\n",
        "    mean_squared_error(\n",
        "        y_true = Y_valida,\n",
        "        y_pred = Y_valida_predict\n",
        "    )\n",
        ")\n",
        "\n",
        "rmse_train= str(round(rmse_train, 3)).replace(\".\", \"_\")\n",
        "rmse_valida = str(round(rmse_valida, 3)).replace(\".\", \"_\")"
      ]
    },
    {
      "cell_type": "code",
      "execution_count": 349,
      "id": "7d0db9cc",
      "metadata": {
        "id": "7d0db9cc"
      },
      "outputs": [
        {
          "name": "stdout",
          "output_type": "stream",
          "text": [
            "Train RMSE: 1_833\n",
            "Validation RMSE: 3_11\n"
          ]
        }
      ],
      "source": [
        "print(f\"Train RMSE: {rmse_train}\")\n",
        "print(f\"Validation RMSE: {rmse_valida}\")"
      ]
    },
    {
      "cell_type": "code",
      "execution_count": 352,
      "id": "a200b570",
      "metadata": {
        "id": "a200b570"
      },
      "outputs": [
        {
          "data": {
            "text/html": [
              "<div>\n",
              "<style scoped>\n",
              "    .dataframe tbody tr th:only-of-type {\n",
              "        vertical-align: middle;\n",
              "    }\n",
              "\n",
              "    .dataframe tbody tr th {\n",
              "        vertical-align: top;\n",
              "    }\n",
              "\n",
              "    .dataframe thead th {\n",
              "        text-align: right;\n",
              "    }\n",
              "</style>\n",
              "<table border=\"1\" class=\"dataframe\">\n",
              "  <thead>\n",
              "    <tr style=\"text-align: right;\">\n",
              "      <th></th>\n",
              "      <th>count</th>\n",
              "      <th>mean</th>\n",
              "      <th>std</th>\n",
              "      <th>min</th>\n",
              "      <th>25%</th>\n",
              "      <th>50%</th>\n",
              "      <th>75%</th>\n",
              "      <th>max</th>\n",
              "    </tr>\n",
              "  </thead>\n",
              "  <tbody>\n",
              "    <tr>\n",
              "      <th>yearweek</th>\n",
              "      <td>48252.0</td>\n",
              "      <td>201615.500000</td>\n",
              "      <td>1.118046</td>\n",
              "      <td>201614.000000</td>\n",
              "      <td>201614.750000</td>\n",
              "      <td>201615.500000</td>\n",
              "      <td>201616.250000</td>\n",
              "      <td>201617.000000</td>\n",
              "    </tr>\n",
              "    <tr>\n",
              "      <th>item</th>\n",
              "      <td>48252.0</td>\n",
              "      <td>-0.517036</td>\n",
              "      <td>74.147414</td>\n",
              "      <td>-128.000000</td>\n",
              "      <td>-65.000000</td>\n",
              "      <td>0.000000</td>\n",
              "      <td>64.000000</td>\n",
              "      <td>127.000000</td>\n",
              "    </tr>\n",
              "    <tr>\n",
              "      <th>category</th>\n",
              "      <td>48252.0</td>\n",
              "      <td>1.711183</td>\n",
              "      <td>0.757067</td>\n",
              "      <td>1.000000</td>\n",
              "      <td>1.000000</td>\n",
              "      <td>2.000000</td>\n",
              "      <td>2.000000</td>\n",
              "      <td>3.000000</td>\n",
              "    </tr>\n",
              "    <tr>\n",
              "      <th>store</th>\n",
              "      <td>48252.0</td>\n",
              "      <td>5.497389</td>\n",
              "      <td>1.116076</td>\n",
              "      <td>4.000000</td>\n",
              "      <td>5.000000</td>\n",
              "      <td>5.000000</td>\n",
              "      <td>6.000000</td>\n",
              "      <td>7.000000</td>\n",
              "    </tr>\n",
              "    <tr>\n",
              "      <th>region</th>\n",
              "      <td>48252.0</td>\n",
              "      <td>1.000000</td>\n",
              "      <td>0.000000</td>\n",
              "      <td>1.000000</td>\n",
              "      <td>1.000000</td>\n",
              "      <td>1.000000</td>\n",
              "      <td>1.000000</td>\n",
              "      <td>1.000000</td>\n",
              "    </tr>\n",
              "    <tr>\n",
              "      <th>event</th>\n",
              "      <td>48252.0</td>\n",
              "      <td>4.750000</td>\n",
              "      <td>3.766669</td>\n",
              "      <td>1.000000</td>\n",
              "      <td>1.000000</td>\n",
              "      <td>4.500000</td>\n",
              "      <td>8.250000</td>\n",
              "      <td>9.000000</td>\n",
              "    </tr>\n",
              "    <tr>\n",
              "      <th>yearweek_prim_venta</th>\n",
              "      <td>48252.0</td>\n",
              "      <td>201210.791677</td>\n",
              "      <td>131.683227</td>\n",
              "      <td>201104.000000</td>\n",
              "      <td>201105.000000</td>\n",
              "      <td>201126.000000</td>\n",
              "      <td>201315.000000</td>\n",
              "      <td>201607.000000</td>\n",
              "    </tr>\n",
              "    <tr>\n",
              "      <th>yearweek_ult_venta</th>\n",
              "      <td>48252.0</td>\n",
              "      <td>201616.119871</td>\n",
              "      <td>1.925229</td>\n",
              "      <td>201600.000000</td>\n",
              "      <td>201616.000000</td>\n",
              "      <td>201617.000000</td>\n",
              "      <td>201617.000000</td>\n",
              "      <td>201617.000000</td>\n",
              "    </tr>\n",
              "    <tr>\n",
              "      <th>estado_id</th>\n",
              "      <td>48252.0</td>\n",
              "      <td>1.000000</td>\n",
              "      <td>0.000000</td>\n",
              "      <td>1.000000</td>\n",
              "      <td>1.000000</td>\n",
              "      <td>1.000000</td>\n",
              "      <td>1.000000</td>\n",
              "      <td>1.000000</td>\n",
              "    </tr>\n",
              "    <tr>\n",
              "      <th>indicator_sales_week</th>\n",
              "      <td>48252.0</td>\n",
              "      <td>0.779864</td>\n",
              "      <td>0.414342</td>\n",
              "      <td>0.000000</td>\n",
              "      <td>1.000000</td>\n",
              "      <td>1.000000</td>\n",
              "      <td>1.000000</td>\n",
              "      <td>1.000000</td>\n",
              "    </tr>\n",
              "    <tr>\n",
              "      <th>product_rotation_weekly</th>\n",
              "      <td>48252.0</td>\n",
              "      <td>0.075050</td>\n",
              "      <td>0.147446</td>\n",
              "      <td>0.000000</td>\n",
              "      <td>0.012931</td>\n",
              "      <td>0.034043</td>\n",
              "      <td>0.080000</td>\n",
              "      <td>3.987603</td>\n",
              "    </tr>\n",
              "    <tr>\n",
              "      <th>rotation_category</th>\n",
              "      <td>48252.0</td>\n",
              "      <td>3.114399</td>\n",
              "      <td>1.493837</td>\n",
              "      <td>1.000000</td>\n",
              "      <td>1.000000</td>\n",
              "      <td>3.000000</td>\n",
              "      <td>4.000000</td>\n",
              "      <td>5.000000</td>\n",
              "    </tr>\n",
              "    <tr>\n",
              "      <th>total_sales_week</th>\n",
              "      <td>48252.0</td>\n",
              "      <td>321349.750000</td>\n",
              "      <td>16460.557433</td>\n",
              "      <td>298225.000000</td>\n",
              "      <td>309558.250000</td>\n",
              "      <td>325127.500000</td>\n",
              "      <td>336919.000000</td>\n",
              "      <td>336919.000000</td>\n",
              "    </tr>\n",
              "    <tr>\n",
              "      <th>sales_pct_change</th>\n",
              "      <td>48252.0</td>\n",
              "      <td>-0.031173</td>\n",
              "      <td>1.075785</td>\n",
              "      <td>-1.000000</td>\n",
              "      <td>-0.666667</td>\n",
              "      <td>-0.058824</td>\n",
              "      <td>0.111111</td>\n",
              "      <td>53.000000</td>\n",
              "    </tr>\n",
              "    <tr>\n",
              "      <th>cat_gama</th>\n",
              "      <td>48252.0</td>\n",
              "      <td>1.747492</td>\n",
              "      <td>0.828642</td>\n",
              "      <td>1.000000</td>\n",
              "      <td>1.000000</td>\n",
              "      <td>1.000000</td>\n",
              "      <td>2.000000</td>\n",
              "      <td>3.000000</td>\n",
              "    </tr>\n",
              "    <tr>\n",
              "      <th>sales_item_region</th>\n",
              "      <td>48252.0</td>\n",
              "      <td>45.495834</td>\n",
              "      <td>79.641719</td>\n",
              "      <td>0.000000</td>\n",
              "      <td>11.000000</td>\n",
              "      <td>24.000000</td>\n",
              "      <td>49.000000</td>\n",
              "      <td>2081.000000</td>\n",
              "    </tr>\n",
              "    <tr>\n",
              "      <th>sales_store_region</th>\n",
              "      <td>48252.0</td>\n",
              "      <td>34413.767554</td>\n",
              "      <td>10176.585283</td>\n",
              "      <td>17951.000000</td>\n",
              "      <td>30566.000000</td>\n",
              "      <td>36638.000000</td>\n",
              "      <td>43966.000000</td>\n",
              "      <td>51038.000000</td>\n",
              "    </tr>\n",
              "    <tr>\n",
              "      <th>item_sales_sum_lag1</th>\n",
              "      <td>48252.0</td>\n",
              "      <td>390.365829</td>\n",
              "      <td>692.384135</td>\n",
              "      <td>0.000000</td>\n",
              "      <td>89.000000</td>\n",
              "      <td>195.000000</td>\n",
              "      <td>408.000000</td>\n",
              "      <td>15436.000000</td>\n",
              "    </tr>\n",
              "    <tr>\n",
              "      <th>item_sales_min_lag1</th>\n",
              "      <td>48252.0</td>\n",
              "      <td>1.079333</td>\n",
              "      <td>4.642759</td>\n",
              "      <td>0.000000</td>\n",
              "      <td>0.000000</td>\n",
              "      <td>0.000000</td>\n",
              "      <td>0.000000</td>\n",
              "      <td>146.000000</td>\n",
              "    </tr>\n",
              "    <tr>\n",
              "      <th>item_sales_max_lag1</th>\n",
              "      <td>48252.0</td>\n",
              "      <td>30.370389</td>\n",
              "      <td>49.307425</td>\n",
              "      <td>0.000000</td>\n",
              "      <td>8.000000</td>\n",
              "      <td>16.000000</td>\n",
              "      <td>31.000000</td>\n",
              "      <td>819.000000</td>\n",
              "    </tr>\n",
              "    <tr>\n",
              "      <th>sales</th>\n",
              "      <td>48252.0</td>\n",
              "      <td>10.915656</td>\n",
              "      <td>22.195366</td>\n",
              "      <td>-33.965561</td>\n",
              "      <td>1.712293</td>\n",
              "      <td>5.231186</td>\n",
              "      <td>12.091113</td>\n",
              "      <td>918.026794</td>\n",
              "    </tr>\n",
              "  </tbody>\n",
              "</table>\n",
              "</div>"
            ],
            "text/plain": [
              "                           count           mean           std            min  \\\n",
              "yearweek                 48252.0  201615.500000      1.118046  201614.000000   \n",
              "item                     48252.0      -0.517036     74.147414    -128.000000   \n",
              "category                 48252.0       1.711183      0.757067       1.000000   \n",
              "store                    48252.0       5.497389      1.116076       4.000000   \n",
              "region                   48252.0       1.000000      0.000000       1.000000   \n",
              "event                    48252.0       4.750000      3.766669       1.000000   \n",
              "yearweek_prim_venta      48252.0  201210.791677    131.683227  201104.000000   \n",
              "yearweek_ult_venta       48252.0  201616.119871      1.925229  201600.000000   \n",
              "estado_id                48252.0       1.000000      0.000000       1.000000   \n",
              "indicator_sales_week     48252.0       0.779864      0.414342       0.000000   \n",
              "product_rotation_weekly  48252.0       0.075050      0.147446       0.000000   \n",
              "rotation_category        48252.0       3.114399      1.493837       1.000000   \n",
              "total_sales_week         48252.0  321349.750000  16460.557433  298225.000000   \n",
              "sales_pct_change         48252.0      -0.031173      1.075785      -1.000000   \n",
              "cat_gama                 48252.0       1.747492      0.828642       1.000000   \n",
              "sales_item_region        48252.0      45.495834     79.641719       0.000000   \n",
              "sales_store_region       48252.0   34413.767554  10176.585283   17951.000000   \n",
              "item_sales_sum_lag1      48252.0     390.365829    692.384135       0.000000   \n",
              "item_sales_min_lag1      48252.0       1.079333      4.642759       0.000000   \n",
              "item_sales_max_lag1      48252.0      30.370389     49.307425       0.000000   \n",
              "sales                    48252.0      10.915656     22.195366     -33.965561   \n",
              "\n",
              "                                   25%            50%            75%  \\\n",
              "yearweek                 201614.750000  201615.500000  201616.250000   \n",
              "item                        -65.000000       0.000000      64.000000   \n",
              "category                      1.000000       2.000000       2.000000   \n",
              "store                         5.000000       5.000000       6.000000   \n",
              "region                        1.000000       1.000000       1.000000   \n",
              "event                         1.000000       4.500000       8.250000   \n",
              "yearweek_prim_venta      201105.000000  201126.000000  201315.000000   \n",
              "yearweek_ult_venta       201616.000000  201617.000000  201617.000000   \n",
              "estado_id                     1.000000       1.000000       1.000000   \n",
              "indicator_sales_week          1.000000       1.000000       1.000000   \n",
              "product_rotation_weekly       0.012931       0.034043       0.080000   \n",
              "rotation_category             1.000000       3.000000       4.000000   \n",
              "total_sales_week         309558.250000  325127.500000  336919.000000   \n",
              "sales_pct_change             -0.666667      -0.058824       0.111111   \n",
              "cat_gama                      1.000000       1.000000       2.000000   \n",
              "sales_item_region            11.000000      24.000000      49.000000   \n",
              "sales_store_region        30566.000000   36638.000000   43966.000000   \n",
              "item_sales_sum_lag1          89.000000     195.000000     408.000000   \n",
              "item_sales_min_lag1           0.000000       0.000000       0.000000   \n",
              "item_sales_max_lag1           8.000000      16.000000      31.000000   \n",
              "sales                         1.712293       5.231186      12.091113   \n",
              "\n",
              "                                   max  \n",
              "yearweek                 201617.000000  \n",
              "item                        127.000000  \n",
              "category                      3.000000  \n",
              "store                         7.000000  \n",
              "region                        1.000000  \n",
              "event                         9.000000  \n",
              "yearweek_prim_venta      201607.000000  \n",
              "yearweek_ult_venta       201617.000000  \n",
              "estado_id                     1.000000  \n",
              "indicator_sales_week          1.000000  \n",
              "product_rotation_weekly       3.987603  \n",
              "rotation_category             5.000000  \n",
              "total_sales_week         336919.000000  \n",
              "sales_pct_change             53.000000  \n",
              "cat_gama                      3.000000  \n",
              "sales_item_region          2081.000000  \n",
              "sales_store_region        51038.000000  \n",
              "item_sales_sum_lag1       15436.000000  \n",
              "item_sales_min_lag1         146.000000  \n",
              "item_sales_max_lag1         819.000000  \n",
              "sales                       918.026794  "
            ]
          },
          "execution_count": 352,
          "metadata": {},
          "output_type": "execute_result"
        }
      ],
      "source": [
        "X_test.describe().T"
      ]
    },
    {
      "cell_type": "code",
      "execution_count": 354,
      "id": "VOY2jM48QBYr",
      "metadata": {
        "id": "VOY2jM48QBYr"
      },
      "outputs": [
        {
          "data": {
            "text/plain": [
              "12063"
            ]
          },
          "execution_count": 354,
          "metadata": {},
          "output_type": "execute_result"
        }
      ],
      "source": [
        "X_test[\"id\"].nunique()"
      ]
    },
    {
      "cell_type": "code",
      "execution_count": 360,
      "id": "s60LjS5aonpp",
      "metadata": {
        "id": "s60LjS5aonpp"
      },
      "outputs": [],
      "source": [
        "# Redondear y convertir la columna 'sales' a números enteros\n",
        "X_test['sales'] = X_test['sales'].round().apply(lambda x: max(0, int(x)))"
      ]
    },
    {
      "cell_type": "code",
      "execution_count": 361,
      "id": "D4z3EVRnJGqN",
      "metadata": {
        "id": "D4z3EVRnJGqN"
      },
      "outputs": [
        {
          "data": {
            "text/html": [
              "<div>\n",
              "<style scoped>\n",
              "    .dataframe tbody tr th:only-of-type {\n",
              "        vertical-align: middle;\n",
              "    }\n",
              "\n",
              "    .dataframe tbody tr th {\n",
              "        vertical-align: top;\n",
              "    }\n",
              "\n",
              "    .dataframe thead th {\n",
              "        text-align: right;\n",
              "    }\n",
              "</style>\n",
              "<table border=\"1\" class=\"dataframe\">\n",
              "  <thead>\n",
              "    <tr style=\"text-align: right;\">\n",
              "      <th></th>\n",
              "      <th>id</th>\n",
              "      <th>yearweek</th>\n",
              "      <th>item</th>\n",
              "      <th>category</th>\n",
              "      <th>store</th>\n",
              "      <th>region</th>\n",
              "      <th>event</th>\n",
              "      <th>yearweek_prim_venta</th>\n",
              "      <th>yearweek_ult_venta</th>\n",
              "      <th>estado_id</th>\n",
              "      <th>...</th>\n",
              "      <th>rotation_category</th>\n",
              "      <th>total_sales_week</th>\n",
              "      <th>sales_pct_change</th>\n",
              "      <th>cat_gama</th>\n",
              "      <th>sales_item_region</th>\n",
              "      <th>sales_store_region</th>\n",
              "      <th>item_sales_sum_lag1</th>\n",
              "      <th>item_sales_min_lag1</th>\n",
              "      <th>item_sales_max_lag1</th>\n",
              "      <th>sales</th>\n",
              "    </tr>\n",
              "  </thead>\n",
              "  <tbody>\n",
              "  </tbody>\n",
              "</table>\n",
              "<p>0 rows × 22 columns</p>\n",
              "</div>"
            ],
            "text/plain": [
              "Empty DataFrame\n",
              "Columns: [id, yearweek, item, category, store, region, event, yearweek_prim_venta, yearweek_ult_venta, estado_id, indicator_sales_week, product_rotation_weekly, rotation_category, total_sales_week, sales_pct_change, cat_gama, sales_item_region, sales_store_region, item_sales_sum_lag1, item_sales_min_lag1, item_sales_max_lag1, sales]\n",
              "Index: []\n",
              "\n",
              "[0 rows x 22 columns]"
            ]
          },
          "execution_count": 361,
          "metadata": {},
          "output_type": "execute_result"
        }
      ],
      "source": [
        "# Filtrar para obtener las filas con ventas negativas y verificar la eliminación de los negativos\n",
        "sales_negativos = X_test[X_test['sales'] < 0]\n",
        "sales_negativos"
      ]
    },
    {
      "cell_type": "code",
      "execution_count": 362,
      "id": "c056be01",
      "metadata": {},
      "outputs": [],
      "source": [
        "(\n",
        "    X_test[[\"id\",\"yearweek\",\"sales\"]]\n",
        "    .to_csv(f\"submission_train_{rmse_train}_valida_{rmse_valida}.csv\", index = False)\n",
        ")"
      ]
    },
    {
      "cell_type": "code",
      "execution_count": 363,
      "id": "_KfPd-g80H0-",
      "metadata": {
        "id": "_KfPd-g80H0-"
      },
      "outputs": [
        {
          "name": "stderr",
          "output_type": "stream",
          "text": [
            "C:\\Users\\npere\\AppData\\Local\\Temp\\ipykernel_23900\\56845593.py:5: SettingWithCopyWarning: \n",
            "A value is trying to be set on a copy of a slice from a DataFrame\n",
            "\n",
            "See the caveats in the documentation: https://pandas.pydata.org/pandas-docs/stable/user_guide/indexing.html#returning-a-view-versus-a-copy\n",
            "  df.rename(columns={'index': 'id'}, inplace=True)\n"
          ]
        }
      ],
      "source": [
        "# Primero, resetea el índice y crea una columna 'index'\n",
        "df.reset_index(inplace=True)\n",
        "\n",
        "# Luego, cambia el nombre de la columna 'index' a 'id'\n",
        "df.rename(columns={'index': 'id'}, inplace=True)\n"
      ]
    },
    {
      "cell_type": "code",
      "execution_count": 364,
      "id": "1ImSdDFbzZuI",
      "metadata": {
        "id": "1ImSdDFbzZuI"
      },
      "outputs": [],
      "source": [
        "# Filtrar filas en ambos DataFrames para contener solo las semanas específicas\n",
        "df_original_filtrado = df[df['yearweek'].isin([201614.0, 201615.0, 201616.0, 201617.0])]\n",
        "df_prediccion_filtrado = X_test[X_test['yearweek'].isin([201614.0, 201615.0, 201616.0, 201617.0])]\n"
      ]
    },
    {
      "cell_type": "code",
      "execution_count": 365,
      "id": "uM27ddvr3dN4",
      "metadata": {
        "id": "uM27ddvr3dN4"
      },
      "outputs": [
        {
          "name": "stdout",
          "output_type": "stream",
          "text": [
            "                            id  yearweek  sales  sales_prediction  \\\n",
            "0       ACCESORIES_1_001_NYC_1  201614.0   11.0                10   \n",
            "1       ACCESORIES_1_001_NYC_1  201615.0    7.0                 6   \n",
            "2       ACCESORIES_1_001_NYC_1  201616.0    7.0                 8   \n",
            "3       ACCESORIES_1_001_NYC_1  201617.0    1.0                 5   \n",
            "4       ACCESORIES_1_001_NYC_2  201614.0    2.0                 2   \n",
            "...                        ...       ...    ...               ...   \n",
            "48247  SUPERMARKET_3_827_NYC_3  201617.0   13.0                43   \n",
            "48248  SUPERMARKET_3_827_NYC_4  201614.0   10.0                32   \n",
            "48249  SUPERMARKET_3_827_NYC_4  201615.0    0.0                 0   \n",
            "48250  SUPERMARKET_3_827_NYC_4  201616.0   14.0                55   \n",
            "48251  SUPERMARKET_3_827_NYC_4  201617.0    8.0                65   \n",
            "\n",
            "       percentage_difference  \n",
            "0                   9.090909  \n",
            "1                  14.285714  \n",
            "2                 -14.285714  \n",
            "3                -400.000000  \n",
            "4                   0.000000  \n",
            "...                      ...  \n",
            "48247            -230.769231  \n",
            "48248            -220.000000  \n",
            "48249                    NaN  \n",
            "48250            -292.857143  \n",
            "48251            -712.500000  \n",
            "\n",
            "[48252 rows x 5 columns]\n"
          ]
        }
      ],
      "source": [
        "# Renombrar la columna en df_prediccion_filtrado para evitar conflictos\n",
        "df_prediccion_filtrado.rename(columns={'sales': 'sales_prediction'}, inplace=True)\n",
        "\n",
        "# Hacer la fusión usando 'id' y 'yearweek' como claves para la fusión\n",
        "df_resultado = pd.merge(df_original_filtrado, df_prediccion_filtrado, on=['id', 'yearweek'])\n",
        "\n",
        "# Calcula el porcentaje de diferencia\n",
        "df_resultado['percentage_difference'] = ((df_resultado['sales'] - df_resultado['sales_prediction']) / df_resultado['sales']) * 100\n",
        "\n",
        "# Ver el DataFrame actualizado\n",
        "print(df_resultado[['id', 'yearweek', 'sales', 'sales_prediction', 'percentage_difference']])\n"
      ]
    },
    {
      "cell_type": "code",
      "execution_count": 366,
      "id": "4aac5c30",
      "metadata": {},
      "outputs": [],
      "source": [
        "descargar = df_resultado[['id', 'yearweek', 'sales', 'sales_prediction', 'percentage_difference']]"
      ]
    },
    {
      "cell_type": "code",
      "execution_count": 367,
      "id": "e46b6796",
      "metadata": {},
      "outputs": [
        {
          "data": {
            "text/html": [
              "<div>\n",
              "<style scoped>\n",
              "    .dataframe tbody tr th:only-of-type {\n",
              "        vertical-align: middle;\n",
              "    }\n",
              "\n",
              "    .dataframe tbody tr th {\n",
              "        vertical-align: top;\n",
              "    }\n",
              "\n",
              "    .dataframe thead th {\n",
              "        text-align: right;\n",
              "    }\n",
              "</style>\n",
              "<table border=\"1\" class=\"dataframe\">\n",
              "  <thead>\n",
              "    <tr style=\"text-align: right;\">\n",
              "      <th></th>\n",
              "      <th>id</th>\n",
              "      <th>yearweek</th>\n",
              "      <th>sales</th>\n",
              "      <th>sales_prediction</th>\n",
              "      <th>percentage_difference</th>\n",
              "    </tr>\n",
              "  </thead>\n",
              "  <tbody>\n",
              "    <tr>\n",
              "      <th>0</th>\n",
              "      <td>ACCESORIES_1_001_NYC_1</td>\n",
              "      <td>201614.0</td>\n",
              "      <td>11.0</td>\n",
              "      <td>10</td>\n",
              "      <td>9.090909</td>\n",
              "    </tr>\n",
              "    <tr>\n",
              "      <th>1</th>\n",
              "      <td>ACCESORIES_1_001_NYC_1</td>\n",
              "      <td>201615.0</td>\n",
              "      <td>7.0</td>\n",
              "      <td>6</td>\n",
              "      <td>14.285714</td>\n",
              "    </tr>\n",
              "    <tr>\n",
              "      <th>2</th>\n",
              "      <td>ACCESORIES_1_001_NYC_1</td>\n",
              "      <td>201616.0</td>\n",
              "      <td>7.0</td>\n",
              "      <td>8</td>\n",
              "      <td>-14.285714</td>\n",
              "    </tr>\n",
              "    <tr>\n",
              "      <th>3</th>\n",
              "      <td>ACCESORIES_1_001_NYC_1</td>\n",
              "      <td>201617.0</td>\n",
              "      <td>1.0</td>\n",
              "      <td>5</td>\n",
              "      <td>-400.000000</td>\n",
              "    </tr>\n",
              "    <tr>\n",
              "      <th>4</th>\n",
              "      <td>ACCESORIES_1_001_NYC_2</td>\n",
              "      <td>201614.0</td>\n",
              "      <td>2.0</td>\n",
              "      <td>2</td>\n",
              "      <td>0.000000</td>\n",
              "    </tr>\n",
              "    <tr>\n",
              "      <th>...</th>\n",
              "      <td>...</td>\n",
              "      <td>...</td>\n",
              "      <td>...</td>\n",
              "      <td>...</td>\n",
              "      <td>...</td>\n",
              "    </tr>\n",
              "    <tr>\n",
              "      <th>48247</th>\n",
              "      <td>SUPERMARKET_3_827_NYC_3</td>\n",
              "      <td>201617.0</td>\n",
              "      <td>13.0</td>\n",
              "      <td>43</td>\n",
              "      <td>-230.769231</td>\n",
              "    </tr>\n",
              "    <tr>\n",
              "      <th>48248</th>\n",
              "      <td>SUPERMARKET_3_827_NYC_4</td>\n",
              "      <td>201614.0</td>\n",
              "      <td>10.0</td>\n",
              "      <td>32</td>\n",
              "      <td>-220.000000</td>\n",
              "    </tr>\n",
              "    <tr>\n",
              "      <th>48249</th>\n",
              "      <td>SUPERMARKET_3_827_NYC_4</td>\n",
              "      <td>201615.0</td>\n",
              "      <td>0.0</td>\n",
              "      <td>0</td>\n",
              "      <td>NaN</td>\n",
              "    </tr>\n",
              "    <tr>\n",
              "      <th>48250</th>\n",
              "      <td>SUPERMARKET_3_827_NYC_4</td>\n",
              "      <td>201616.0</td>\n",
              "      <td>14.0</td>\n",
              "      <td>55</td>\n",
              "      <td>-292.857143</td>\n",
              "    </tr>\n",
              "    <tr>\n",
              "      <th>48251</th>\n",
              "      <td>SUPERMARKET_3_827_NYC_4</td>\n",
              "      <td>201617.0</td>\n",
              "      <td>8.0</td>\n",
              "      <td>65</td>\n",
              "      <td>-712.500000</td>\n",
              "    </tr>\n",
              "  </tbody>\n",
              "</table>\n",
              "<p>48252 rows × 5 columns</p>\n",
              "</div>"
            ],
            "text/plain": [
              "                            id  yearweek  sales  sales_prediction  \\\n",
              "0       ACCESORIES_1_001_NYC_1  201614.0   11.0                10   \n",
              "1       ACCESORIES_1_001_NYC_1  201615.0    7.0                 6   \n",
              "2       ACCESORIES_1_001_NYC_1  201616.0    7.0                 8   \n",
              "3       ACCESORIES_1_001_NYC_1  201617.0    1.0                 5   \n",
              "4       ACCESORIES_1_001_NYC_2  201614.0    2.0                 2   \n",
              "...                        ...       ...    ...               ...   \n",
              "48247  SUPERMARKET_3_827_NYC_3  201617.0   13.0                43   \n",
              "48248  SUPERMARKET_3_827_NYC_4  201614.0   10.0                32   \n",
              "48249  SUPERMARKET_3_827_NYC_4  201615.0    0.0                 0   \n",
              "48250  SUPERMARKET_3_827_NYC_4  201616.0   14.0                55   \n",
              "48251  SUPERMARKET_3_827_NYC_4  201617.0    8.0                65   \n",
              "\n",
              "       percentage_difference  \n",
              "0                   9.090909  \n",
              "1                  14.285714  \n",
              "2                 -14.285714  \n",
              "3                -400.000000  \n",
              "4                   0.000000  \n",
              "...                      ...  \n",
              "48247            -230.769231  \n",
              "48248            -220.000000  \n",
              "48249                    NaN  \n",
              "48250            -292.857143  \n",
              "48251            -712.500000  \n",
              "\n",
              "[48252 rows x 5 columns]"
            ]
          },
          "execution_count": 367,
          "metadata": {},
          "output_type": "execute_result"
        }
      ],
      "source": [
        "descargar"
      ]
    },
    {
      "cell_type": "code",
      "execution_count": 382,
      "id": "76d6082e",
      "metadata": {},
      "outputs": [
        {
          "data": {
            "text/html": [
              "<div>\n",
              "<style scoped>\n",
              "    .dataframe tbody tr th:only-of-type {\n",
              "        vertical-align: middle;\n",
              "    }\n",
              "\n",
              "    .dataframe tbody tr th {\n",
              "        vertical-align: top;\n",
              "    }\n",
              "\n",
              "    .dataframe thead th {\n",
              "        text-align: right;\n",
              "    }\n",
              "</style>\n",
              "<table border=\"1\" class=\"dataframe\">\n",
              "  <thead>\n",
              "    <tr style=\"text-align: right;\">\n",
              "      <th></th>\n",
              "      <th>sales</th>\n",
              "    </tr>\n",
              "    <tr>\n",
              "      <th>yearweek</th>\n",
              "      <th></th>\n",
              "    </tr>\n",
              "  </thead>\n",
              "  <tbody>\n",
              "    <tr>\n",
              "      <th>201514.0</th>\n",
              "      <td>109276.0</td>\n",
              "    </tr>\n",
              "    <tr>\n",
              "      <th>201515.0</th>\n",
              "      <td>104512.0</td>\n",
              "    </tr>\n",
              "    <tr>\n",
              "      <th>201516.0</th>\n",
              "      <td>107558.0</td>\n",
              "    </tr>\n",
              "    <tr>\n",
              "      <th>201517.0</th>\n",
              "      <td>109402.0</td>\n",
              "    </tr>\n",
              "  </tbody>\n",
              "</table>\n",
              "</div>"
            ],
            "text/plain": [
              "             sales\n",
              "yearweek          \n",
              "201514.0  109276.0\n",
              "201515.0  104512.0\n",
              "201516.0  107558.0\n",
              "201517.0  109402.0"
            ]
          },
          "metadata": {},
          "output_type": "display_data"
        }
      ],
      "source": [
        "# 4 ultimas semanas\n",
        "filtered_descargar = df.query('201514.0 <= yearweek <= 201517.0')[['yearweek', 'sales']]\n",
        "\n",
        "# Agrupa por 'yearweek'\n",
        "grouped_df = filtered_descargar.groupby('yearweek').sum()\n",
        "\n",
        "# Muestra la tabla\n",
        "display(grouped_df)"
      ]
    },
    {
      "cell_type": "code",
      "execution_count": null,
      "id": "5f0ccb80",
      "metadata": {},
      "outputs": [],
      "source": [
        "# 4 ultimas semanas\n",
        "filtered_descargar = descargar.query('201514.0 <= yearweek <= 201517.0')[['yearweek', 'sales']]\n",
        "\n",
        "# Agrupa por 'yearweek'\n",
        "grouped_descargar = filtered_descargar.groupby('yearweek').sum()\n",
        "\n",
        "# Muestra la tabla\n",
        "display(grouped_descargar)"
      ]
    },
    {
      "cell_type": "code",
      "execution_count": 369,
      "id": "1ba3374b",
      "metadata": {},
      "outputs": [
        {
          "data": {
            "text/html": [
              "<div>\n",
              "<style scoped>\n",
              "    .dataframe tbody tr th:only-of-type {\n",
              "        vertical-align: middle;\n",
              "    }\n",
              "\n",
              "    .dataframe tbody tr th {\n",
              "        vertical-align: top;\n",
              "    }\n",
              "\n",
              "    .dataframe thead th {\n",
              "        text-align: right;\n",
              "    }\n",
              "</style>\n",
              "<table border=\"1\" class=\"dataframe\">\n",
              "  <thead>\n",
              "    <tr style=\"text-align: right;\">\n",
              "      <th></th>\n",
              "      <th>sales</th>\n",
              "      <th>sales_prediction</th>\n",
              "      <th>percentage_difference</th>\n",
              "    </tr>\n",
              "    <tr>\n",
              "      <th>yearweek</th>\n",
              "      <th></th>\n",
              "      <th></th>\n",
              "      <th></th>\n",
              "    </tr>\n",
              "  </thead>\n",
              "  <tbody>\n",
              "    <tr>\n",
              "      <th>201614.0</th>\n",
              "      <td>131457.0</td>\n",
              "      <td>134938</td>\n",
              "      <td>2.648014</td>\n",
              "    </tr>\n",
              "    <tr>\n",
              "      <th>201615.0</th>\n",
              "      <td>123247.0</td>\n",
              "      <td>126033</td>\n",
              "      <td>2.260501</td>\n",
              "    </tr>\n",
              "    <tr>\n",
              "      <th>201616.0</th>\n",
              "      <td>124433.0</td>\n",
              "      <td>151326</td>\n",
              "      <td>21.612434</td>\n",
              "    </tr>\n",
              "    <tr>\n",
              "      <th>201617.0</th>\n",
              "      <td>23187.0</td>\n",
              "      <td>115572</td>\n",
              "      <td>398.434468</td>\n",
              "    </tr>\n",
              "  </tbody>\n",
              "</table>\n",
              "</div>"
            ],
            "text/plain": [
              "             sales  sales_prediction  percentage_difference\n",
              "yearweek                                                   \n",
              "201614.0  131457.0            134938               2.648014\n",
              "201615.0  123247.0            126033               2.260501\n",
              "201616.0  124433.0            151326              21.612434\n",
              "201617.0   23187.0            115572             398.434468"
            ]
          },
          "metadata": {},
          "output_type": "display_data"
        }
      ],
      "source": [
        "#diferencia porcentual\n",
        "grouped_descargar['percentage_difference'] = (grouped_descargar['sales_prediction'] - grouped_descargar['sales']) / grouped_descargar['sales'] * 100\n",
        "\n",
        "\n",
        "display(grouped_descargar)"
      ]
    },
    {
      "cell_type": "code",
      "execution_count": null,
      "id": "65d9fd7e",
      "metadata": {},
      "outputs": [],
      "source": [
        "#diferencia porcentual\n",
        "grouped_descargar['percentage_difference'] = (grouped_descargar['sales_prediction'] - grouped_descargar['sales']) / grouped_descargar['sales'] * 100\n",
        "\n",
        "\n",
        "display(grouped_descargar)"
      ]
    },
    {
      "cell_type": "code",
      "execution_count": 370,
      "id": "k1X9rsuZ369N",
      "metadata": {
        "id": "k1X9rsuZ369N"
      },
      "outputs": [],
      "source": [
        "#df_resultado.to_csv('Predict_series_temporales.csv')"
      ]
    },
    {
      "cell_type": "markdown",
      "id": "8d3dd5b6",
      "metadata": {
        "id": "8d3dd5b6"
      },
      "source": [
        "es normal tener predicciones negativas?\n"
      ]
    },
    {
      "cell_type": "code",
      "execution_count": 371,
      "id": "c62ee151",
      "metadata": {},
      "outputs": [
        {
          "ename": "SyntaxError",
          "evalue": "invalid syntax (435205032.py, line 1)",
          "output_type": "error",
          "traceback": [
            "\u001b[1;36m  Cell \u001b[1;32mIn[371], line 1\u001b[1;36m\u001b[0m\n\u001b[1;33m    sales\tsales_prediction\tpercentage_difference\u001b[0m\n\u001b[1;37m         \t^\u001b[0m\n\u001b[1;31mSyntaxError\u001b[0m\u001b[1;31m:\u001b[0m invalid syntax\n"
          ]
        }
      ],
      "source": [
        "           sales\tsales_prediction\tpercentage_difference\n",
        "yearweek\t\t\t\n",
        "201614.0\t313336.0\t339322\t8.293334\n",
        "201615.0\t298225.0\t304040\t1.949870\n",
        "201616.0\t287124.0\t362255\t26.166743\n",
        "201617.0\t49795.0\t    256891\t415.897178"
      ]
    }
  ],
  "metadata": {
    "colab": {
      "provenance": []
    },
    "kernelspec": {
      "display_name": "Python 3",
      "name": "python3"
    },
    "language_info": {
      "codemirror_mode": {
        "name": "ipython",
        "version": 3
      },
      "file_extension": ".py",
      "mimetype": "text/x-python",
      "name": "python",
      "nbconvert_exporter": "python",
      "pygments_lexer": "ipython3",
      "version": "3.12.1"
    },
    "papermill": {
      "default_parameters": {},
      "duration": 23.57855,
      "end_time": "2022-12-25T18:21:28.344030",
      "environment_variables": {},
      "exception": null,
      "input_path": "__notebook__.ipynb",
      "output_path": "__notebook__.ipynb",
      "parameters": {},
      "start_time": "2022-12-25T18:21:04.765480",
      "version": "2.3.4"
    }
  },
  "nbformat": 4,
  "nbformat_minor": 5
}
