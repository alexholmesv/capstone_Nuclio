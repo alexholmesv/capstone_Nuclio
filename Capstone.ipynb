{
  "cells": [
    {
      "cell_type": "code",
      "execution_count": 1,
      "metadata": {
        "id": "sBGZXrpGY7ol"
      },
      "outputs": [],
      "source": [
        "import pandas as pd"
      ]
    },
    {
      "cell_type": "code",
      "execution_count": 2,
      "metadata": {
        "id": "1IR3TQB4Zib-"
      },
      "outputs": [
        {
          "name": "stdout",
          "output_type": "stream",
          "text": [
            "         date    weekday  weekday_int    d event\n",
            "0  2011-01-29   Saturday            1  d_1   NaN\n",
            "1  2011-01-30     Sunday            2  d_2   NaN\n",
            "2  2011-01-31     Monday            3  d_3   NaN\n",
            "3  2011-02-01    Tuesday            4  d_4   NaN\n",
            "4  2011-02-02  Wednesday            5  d_5   NaN\n"
          ]
        }
      ],
      "source": [
        "calendar = pd.read_csv(r'C:\\Users\\npere\\OneDrive\\Desktop\\Master Data Science\\capstone-project\\data_dsmarket\\calendar1.csv')\n",
        "print(calendar.head())"
      ]
    },
    {
      "cell_type": "code",
      "execution_count": 4,
      "metadata": {
        "id": "mPfVARcdcb7q"
      },
      "outputs": [
        {
          "name": "stdout",
          "output_type": "stream",
          "text": [
            "               item    category store_code  yearweek  sell_price\n",
            "0  ACCESORIES_1_001  ACCESORIES      NYC_1  201328.0     12.7414\n",
            "1  ACCESORIES_1_001  ACCESORIES      NYC_1  201329.0     12.7414\n",
            "2  ACCESORIES_1_001  ACCESORIES      NYC_1  201330.0     10.9858\n",
            "3  ACCESORIES_1_001  ACCESORIES      NYC_1  201331.0     10.9858\n",
            "4  ACCESORIES_1_001  ACCESORIES      NYC_1  201332.0     10.9858\n"
          ]
        }
      ],
      "source": [
        "prices = pd.read_csv(r'C:\\Users\\npere\\OneDrive\\Desktop\\Master Data Science\\capstone-project\\data_dsmarket\\prices1.csv')\n",
        "print(prices.head())"
      ]
    },
    {
      "cell_type": "code",
      "execution_count": 5,
      "metadata": {
        "id": "TMPnicVAcjdJ"
      },
      "outputs": [
        {
          "name": "stdout",
          "output_type": "stream",
          "text": [
            "                       id              item    category    department  \\\n",
            "0  ACCESORIES_1_001_NYC_1  ACCESORIES_1_001  ACCESORIES  ACCESORIES_1   \n",
            "1  ACCESORIES_1_002_NYC_1  ACCESORIES_1_002  ACCESORIES  ACCESORIES_1   \n",
            "2  ACCESORIES_1_003_NYC_1  ACCESORIES_1_003  ACCESORIES  ACCESORIES_1   \n",
            "3  ACCESORIES_1_004_NYC_1  ACCESORIES_1_004  ACCESORIES  ACCESORIES_1   \n",
            "4  ACCESORIES_1_005_NYC_1  ACCESORIES_1_005  ACCESORIES  ACCESORIES_1   \n",
            "\n",
            "               store store_code    region  d_1  d_2  d_3  ...  d_1904  d_1905  \\\n",
            "0  Greenwich_Village      NYC_1  New York    0    0    0  ...       1       3   \n",
            "1  Greenwich_Village      NYC_1  New York    0    0    0  ...       0       0   \n",
            "2  Greenwich_Village      NYC_1  New York    0    0    0  ...       2       1   \n",
            "3  Greenwich_Village      NYC_1  New York    0    0    0  ...       1       0   \n",
            "4  Greenwich_Village      NYC_1  New York    0    0    0  ...       2       1   \n",
            "\n",
            "   d_1906  d_1907  d_1908  d_1909  d_1910  d_1911  d_1912  d_1913  \n",
            "0       0       1       1       1       3       0       1       1  \n",
            "1       0       0       0       1       0       0       0       0  \n",
            "2       2       1       1       1       0       1       1       1  \n",
            "3       5       4       1       0       1       3       7       2  \n",
            "4       1       0       1       1       2       2       2       4  \n",
            "\n",
            "[5 rows x 1920 columns]\n"
          ]
        }
      ],
      "source": [
        "sales = pd.read_csv(r'C:\\Users\\npere\\OneDrive\\Desktop\\Master Data Science\\capstone-project\\data_dsmarket\\sales1.csv')\n",
        "print(sales.head())"
      ]
    },
    {
      "cell_type": "markdown",
      "metadata": {
        "id": "SoBQpErm9DsR"
      },
      "source": [
        "#1. limpieza y calidad de datos"
      ]
    },
    {
      "cell_type": "markdown",
      "metadata": {
        "id": "HZhpbfnFN-Lm"
      },
      "source": [
        "Conteo de datos"
      ]
    },
    {
      "cell_type": "code",
      "execution_count": 6,
      "metadata": {
        "colab": {
          "base_uri": "https://localhost:8080/"
        },
        "id": "_5IUGDgeLyNZ",
        "outputId": "d9ae98cb-47e4-4971-fe27-5f85c50cdf76"
      },
      "outputs": [
        {
          "data": {
            "text/plain": [
              "30490"
            ]
          },
          "execution_count": 6,
          "metadata": {},
          "output_type": "execute_result"
        }
      ],
      "source": [
        "number_of_entries_in_sales = len(sales)\n",
        "number_of_entries_in_sales"
      ]
    },
    {
      "cell_type": "code",
      "execution_count": 7,
      "metadata": {
        "colab": {
          "base_uri": "https://localhost:8080/"
        },
        "id": "BCPmAR7aMFvu",
        "outputId": "35ca0eae-928b-4ec8-828d-7f46e5d2f02f"
      },
      "outputs": [
        {
          "data": {
            "text/plain": [
              "6965706"
            ]
          },
          "execution_count": 7,
          "metadata": {},
          "output_type": "execute_result"
        }
      ],
      "source": [
        "number_of_entries_in_prices = len(prices)\n",
        "number_of_entries_in_prices"
      ]
    },
    {
      "cell_type": "code",
      "execution_count": 8,
      "metadata": {
        "colab": {
          "base_uri": "https://localhost:8080/"
        },
        "id": "AeLOArLXOIOD",
        "outputId": "73dbbdc2-8c0a-47d8-e2a7-f3bbbcf62e8a"
      },
      "outputs": [
        {
          "data": {
            "text/plain": [
              "6965706"
            ]
          },
          "execution_count": 8,
          "metadata": {},
          "output_type": "execute_result"
        }
      ],
      "source": [
        "total_items_count = prices['item'].count()\n",
        "total_items_count"
      ]
    },
    {
      "cell_type": "code",
      "execution_count": 9,
      "metadata": {
        "colab": {
          "base_uri": "https://localhost:8080/"
        },
        "id": "iMvD2YHPP2oy",
        "outputId": "2051a277-dc1e-4db7-ba1d-b30f16cdd0ce"
      },
      "outputs": [
        {
          "data": {
            "text/plain": [
              "1913"
            ]
          },
          "execution_count": 9,
          "metadata": {},
          "output_type": "execute_result"
        }
      ],
      "source": [
        "number_of_entries_in_calendar = len(calendar)\n",
        "number_of_entries_in_calendar"
      ]
    },
    {
      "cell_type": "markdown",
      "metadata": {
        "id": "Eh0Uc7iK_3jk"
      },
      "source": [
        "1.1 hay nulls?"
      ]
    },
    {
      "cell_type": "code",
      "execution_count": 10,
      "metadata": {
        "colab": {
          "base_uri": "https://localhost:8080/"
        },
        "id": "uh9EVmLC-ver",
        "outputId": "bf659e53-021d-4fc4-a2b4-4b6644ca5dc5"
      },
      "outputs": [
        {
          "data": {
            "text/plain": [
              "id            0\n",
              "item          0\n",
              "category      0\n",
              "department    0\n",
              "store         0\n",
              "             ..\n",
              "d_1909        0\n",
              "d_1910        0\n",
              "d_1911        0\n",
              "d_1912        0\n",
              "d_1913        0\n",
              "Length: 1920, dtype: int64"
            ]
          },
          "execution_count": 10,
          "metadata": {},
          "output_type": "execute_result"
        }
      ],
      "source": [
        "##no hay NULLS en sales\n",
        "sales_calidad = sales.isnull().sum()\n",
        "sales_calidad"
      ]
    },
    {
      "cell_type": "code",
      "execution_count": 11,
      "metadata": {
        "colab": {
          "base_uri": "https://localhost:8080/"
        },
        "id": "T2fK_VjI_MCk",
        "outputId": "9fec3eb2-5a08-4194-a5b1-aaeaec2a03b8"
      },
      "outputs": [
        {
          "data": {
            "text/plain": [
              "item               0\n",
              "category           0\n",
              "store_code         0\n",
              "yearweek      243920\n",
              "sell_price         0\n",
              "dtype: int64"
            ]
          },
          "execution_count": 11,
          "metadata": {},
          "output_type": "execute_result"
        }
      ],
      "source": [
        "# existen 243.920 nulls en la columna yearweek ¿preguntar que hacemos con esto?\n",
        "prices_calidad = prices.isnull().sum()\n",
        "prices_calidad"
      ]
    },
    {
      "cell_type": "code",
      "execution_count": 12,
      "metadata": {
        "colab": {
          "base_uri": "https://localhost:8080/"
        },
        "id": "vVOPHU8V_MRi",
        "outputId": "a037950e-546f-4512-8396-c33ae41c9a6f"
      },
      "outputs": [
        {
          "data": {
            "text/plain": [
              "date              0\n",
              "weekday           0\n",
              "weekday_int       0\n",
              "d                 0\n",
              "event          1887\n",
              "dtype: int64"
            ]
          },
          "execution_count": 12,
          "metadata": {},
          "output_type": "execute_result"
        }
      ],
      "source": [
        "# existen 1.887 nulls en la columna event. se asume como supuesto que no hubieron eventos\n",
        "calendar_calidad = calendar.isnull().sum()\n",
        "calendar_calidad"
      ]
    },
    {
      "cell_type": "markdown",
      "metadata": {
        "id": "xrxnR1l_4wAC"
      },
      "source": [
        "conclución:\n",
        "1. Existen 243.920 nulls en la columna yearweek de un total de 6.965.706, un 3.5% es null preguntar que hacemos con esto?\n",
        "2. Existen 1.887 nulls en la columna event. Se asume como supuesto que no hubo eventos en esos días. ¿Es correcto?\n",
        "\n",
        "**Como equipo debemos generar preguntas al TUTOR**"
      ]
    },
    {
      "cell_type": "markdown",
      "metadata": {
        "id": "NVVUOK8p_8bc"
      },
      "source": [
        "1.2 verificación de datos"
      ]
    },
    {
      "cell_type": "code",
      "execution_count": 13,
      "metadata": {
        "colab": {
          "base_uri": "https://localhost:8080/"
        },
        "id": "EfnspDSa_8Lv",
        "outputId": "5862ff20-1b40-4447-f310-90931088697d"
      },
      "outputs": [
        {
          "data": {
            "text/plain": [
              "id            object\n",
              "item          object\n",
              "category      object\n",
              "department    object\n",
              "store         object\n",
              "               ...  \n",
              "d_1909         int64\n",
              "d_1910         int64\n",
              "d_1911         int64\n",
              "d_1912         int64\n",
              "d_1913         int64\n",
              "Length: 1920, dtype: object"
            ]
          },
          "execution_count": 13,
          "metadata": {},
          "output_type": "execute_result"
        }
      ],
      "source": [
        "sales_dtypes = sales.dtypes\n",
        "sales_dtypes"
      ]
    },
    {
      "cell_type": "code",
      "execution_count": 14,
      "metadata": {
        "colab": {
          "base_uri": "https://localhost:8080/"
        },
        "id": "AgnPLEMEA9A8",
        "outputId": "4e170040-c012-4517-8989-e5eebbe40632"
      },
      "outputs": [
        {
          "data": {
            "text/plain": [
              "item           object\n",
              "category       object\n",
              "store_code     object\n",
              "yearweek      float64\n",
              "sell_price    float64\n",
              "dtype: object"
            ]
          },
          "execution_count": 14,
          "metadata": {},
          "output_type": "execute_result"
        }
      ],
      "source": [
        "prices_dtypes = prices.dtypes\n",
        "prices_dtypes"
      ]
    },
    {
      "cell_type": "code",
      "execution_count": 15,
      "metadata": {
        "colab": {
          "base_uri": "https://localhost:8080/"
        },
        "id": "EwDshEHJA9kp",
        "outputId": "72265c11-d4c7-46ba-a882-ad2c4ae11d7c"
      },
      "outputs": [
        {
          "data": {
            "text/plain": [
              "date           object\n",
              "weekday        object\n",
              "weekday_int     int64\n",
              "d              object\n",
              "event          object\n",
              "dtype: object"
            ]
          },
          "execution_count": 15,
          "metadata": {},
          "output_type": "execute_result"
        }
      ],
      "source": [
        "calendar_dtypes = calendar.dtypes\n",
        "calendar_dtypes"
      ]
    },
    {
      "cell_type": "markdown",
      "metadata": {
        "id": "3eYVJeDp1yaC"
      },
      "source": [
        "Conclusión:\n",
        "1. La estructura de la base de datos sales debe someterse a una transformación, ya que los días y las ventas están en formato filas, estas deben convertirse a columnas y así converse con la base de datos calendar.\n",
        "2. La base de datos calendar y prices poseen datos de fecha, pero en formatos distintos, caledar tiene el formato fecha completa \"date:dia-mes-año\" y price \"yearweek:año-numerodelasemana\". La base de datos calendar se le debe agregar una columna \"yearweek\", para facilitar futuros análisis con la base de datos prices."
      ]
    },
    {
      "cell_type": "markdown",
      "metadata": {
        "id": "mhbrl8huHXum"
      },
      "source": [
        "1.3 Consistencia de Nombres de category y item:\n"
      ]
    },
    {
      "cell_type": "code",
      "execution_count": 16,
      "metadata": {
        "colab": {
          "base_uri": "https://localhost:8080/"
        },
        "id": "q9GD5IE3HddH",
        "outputId": "3729f09c-9373-4f08-baa1-ad21e130a571"
      },
      "outputs": [
        {
          "name": "stdout",
          "output_type": "stream",
          "text": [
            "Diferencias en categorías: set()\n"
          ]
        }
      ],
      "source": [
        "#comprobar categorias unicas\n",
        "unique_categories_sales = set(sales['category'].unique())\n",
        "unique_categories_prices = set(prices['category'].unique())\n",
        "print(\"Diferencias en categorías:\", unique_categories_sales.symmetric_difference(unique_categories_prices))"
      ]
    },
    {
      "cell_type": "code",
      "execution_count": 17,
      "metadata": {
        "colab": {
          "base_uri": "https://localhost:8080/"
        },
        "id": "I4U8dI6tHysL",
        "outputId": "5ac32ba4-61c5-4cf5-9096-3e4dd30e7432"
      },
      "outputs": [
        {
          "name": "stdout",
          "output_type": "stream",
          "text": [
            "Diferencias en nombres de productos: set()\n"
          ]
        }
      ],
      "source": [
        "#comparar nombres de productos unicos\n",
        "unique_items_sales = set(sales['item'].unique())\n",
        "unique_items_prices = set(prices['item'].unique())\n",
        "print(\"Diferencias en nombres de productos:\", unique_items_sales.symmetric_difference(unique_items_prices))"
      ]
    },
    {
      "cell_type": "markdown",
      "metadata": {
        "id": "KJwRE--J1uLO"
      },
      "source": [
        "conclución:\n",
        "1. los resultados indican que no hay diferencias entre las columnas category y los item en las bases de datos Sales y Prices"
      ]
    },
    {
      "cell_type": "markdown",
      "metadata": {
        "id": "vCrzM6Ie7lAO"
      },
      "source": [
        "1.4 Consistencia de Códigos de Tienda:"
      ]
    },
    {
      "cell_type": "code",
      "execution_count": 18,
      "metadata": {
        "colab": {
          "base_uri": "https://localhost:8080/"
        },
        "id": "TKB7MMa_7P7a",
        "outputId": "df9d17a9-e388-43b8-9795-6211aedebfd7"
      },
      "outputs": [
        {
          "name": "stdout",
          "output_type": "stream",
          "text": [
            "Diferencias en códigos de tienda: set()\n"
          ]
        }
      ],
      "source": [
        "unique_store_codes_sales = set(sales['store_code'].unique())\n",
        "unique_store_codes_prices = set(prices['store_code'].unique())\n",
        "print(\"Diferencias en códigos de tienda:\", unique_store_codes_sales.symmetric_difference(unique_store_codes_prices))"
      ]
    },
    {
      "cell_type": "markdown",
      "metadata": {
        "id": "NkzW-YptA7wG"
      },
      "source": [
        "conclución:\n",
        "1. los resultados indican que no hay diferencias entre las store_code en las bases de datos Sales y Prices"
      ]
    },
    {
      "cell_type": "markdown",
      "metadata": {
        "id": "5TdjDOwDBaXr"
      },
      "source": [
        "1.5 Buscar duplicados"
      ]
    },
    {
      "cell_type": "code",
      "execution_count": 19,
      "metadata": {
        "colab": {
          "base_uri": "https://localhost:8080/"
        },
        "id": "b0peQzkZB1Q6",
        "outputId": "9d8679d5-8761-4451-b06e-081d8963d706"
      },
      "outputs": [
        {
          "name": "stdout",
          "output_type": "stream",
          "text": [
            "Duplicados en Sales: Empty DataFrame\n",
            "Columns: [id, item, category, department, store, store_code, region, d_1, d_2, d_3, d_4, d_5, d_6, d_7, d_8, d_9, d_10, d_11, d_12, d_13, d_14, d_15, d_16, d_17, d_18, d_19, d_20, d_21, d_22, d_23, d_24, d_25, d_26, d_27, d_28, d_29, d_30, d_31, d_32, d_33, d_34, d_35, d_36, d_37, d_38, d_39, d_40, d_41, d_42, d_43, d_44, d_45, d_46, d_47, d_48, d_49, d_50, d_51, d_52, d_53, d_54, d_55, d_56, d_57, d_58, d_59, d_60, d_61, d_62, d_63, d_64, d_65, d_66, d_67, d_68, d_69, d_70, d_71, d_72, d_73, d_74, d_75, d_76, d_77, d_78, d_79, d_80, d_81, d_82, d_83, d_84, d_85, d_86, d_87, d_88, d_89, d_90, d_91, d_92, d_93, ...]\n",
            "Index: []\n",
            "\n",
            "[0 rows x 1920 columns]\n"
          ]
        }
      ],
      "source": [
        "duplicated_sales = sales[sales.duplicated()]\n",
        "print(\"Duplicados en Sales:\", duplicated_sales)"
      ]
    },
    {
      "cell_type": "code",
      "execution_count": 20,
      "metadata": {
        "colab": {
          "base_uri": "https://localhost:8080/"
        },
        "id": "dn6qkRi5CHiV",
        "outputId": "52c8a310-334d-4c92-8b5c-f61f48c03417"
      },
      "outputs": [
        {
          "name": "stdout",
          "output_type": "stream",
          "text": [
            "Duplicados en Prices:                       item     category store_code  yearweek  sell_price\n",
            "150       ACCESORIES_1_001   ACCESORIES      NYC_1       NaN     11.1454\n",
            "151       ACCESORIES_1_001   ACCESORIES      NYC_1       NaN     11.1454\n",
            "152       ACCESORIES_1_001   ACCESORIES      NYC_1       NaN     11.1454\n",
            "153       ACCESORIES_1_001   ACCESORIES      NYC_1       NaN     11.1454\n",
            "154       ACCESORIES_1_001   ACCESORIES      NYC_1       NaN     11.1454\n",
            "...                    ...          ...        ...       ...         ...\n",
            "6965701  SUPERMARKET_3_827  SUPERMARKET      PHI_3       NaN      1.2000\n",
            "6965702  SUPERMARKET_3_827  SUPERMARKET      PHI_3       NaN      1.2000\n",
            "6965703  SUPERMARKET_3_827  SUPERMARKET      PHI_3       NaN      1.2000\n",
            "6965704  SUPERMARKET_3_827  SUPERMARKET      PHI_3       NaN      1.2000\n",
            "6965705  SUPERMARKET_3_827  SUPERMARKET      PHI_3       NaN      1.2000\n",
            "\n",
            "[212120 rows x 5 columns]\n"
          ]
        }
      ],
      "source": [
        "duplicated_prices = prices[prices.duplicated()]\n",
        "print(\"Duplicados en Prices:\", duplicated_prices)"
      ]
    },
    {
      "cell_type": "code",
      "execution_count": 21,
      "metadata": {
        "colab": {
          "base_uri": "https://localhost:8080/"
        },
        "id": "0Im2A0IJCHQU",
        "outputId": "5d008b5b-5baf-4b7d-9591-865d621c0455"
      },
      "outputs": [
        {
          "name": "stdout",
          "output_type": "stream",
          "text": [
            "Duplicados en Calendar: Empty DataFrame\n",
            "Columns: [date, weekday, weekday_int, d, event]\n",
            "Index: []\n"
          ]
        }
      ],
      "source": [
        "duplicated_calendar = calendar[calendar.duplicated()]\n",
        "print(\"Duplicados en Calendar:\", duplicated_calendar)"
      ]
    },
    {
      "cell_type": "markdown",
      "metadata": {
        "id": "N8AbbrekEwvN"
      },
      "source": [
        "Conclusión:\n",
        "1. las bases de datos calendar y sales dieron un resultado \"Empty DataFrame\", Significa que no hay filas duplicadas en este conjunto de datos.\n",
        "2. prices indica la presencia de 212.120 filas duplicadas, esto no significa que el resultado sea incorrecto, ya que son los precios de venta de cada producto y estos pueden repetirse en las tres regiones.\n",
        "3. Anteriormente en la base de datos prices pudimos observar que la columna yearweek posee nulls o Nan hay que entender la gravedad de este resultado.\n",
        "\n",
        "**Como equipo debemos generar preguntas al TUTOR**\n",
        "\n",
        "Validar la información con el negocio:\n",
        "¿cual es su politica de precios?\n",
        "¿por que hay null en la base de datos calendar?"
      ]
    },
    {
      "cell_type": "markdown",
      "metadata": {},
      "source": [
        "2. Transformación de base de datos Calendar yearweek"
      ]
    },
    {
      "cell_type": "code",
      "execution_count": 33,
      "metadata": {},
      "outputs": [],
      "source": [
        "#se convierte la columna \"date\" a formato fecha\n",
        "calendar['date'] = pd.to_datetime(calendar['date'])"
      ]
    },
    {
      "cell_type": "code",
      "execution_count": 34,
      "metadata": {},
      "outputs": [
        {
          "data": {
            "text/html": [
              "<div>\n",
              "<style scoped>\n",
              "    .dataframe tbody tr th:only-of-type {\n",
              "        vertical-align: middle;\n",
              "    }\n",
              "\n",
              "    .dataframe tbody tr th {\n",
              "        vertical-align: top;\n",
              "    }\n",
              "\n",
              "    .dataframe thead th {\n",
              "        text-align: right;\n",
              "    }\n",
              "</style>\n",
              "<table border=\"1\" class=\"dataframe\">\n",
              "  <thead>\n",
              "    <tr style=\"text-align: right;\">\n",
              "      <th></th>\n",
              "      <th>date</th>\n",
              "      <th>weekday</th>\n",
              "      <th>weekday_int</th>\n",
              "      <th>d</th>\n",
              "      <th>event</th>\n",
              "      <th>yearweek</th>\n",
              "    </tr>\n",
              "  </thead>\n",
              "  <tbody>\n",
              "    <tr>\n",
              "      <th>0</th>\n",
              "      <td>2011-01-29</td>\n",
              "      <td>Saturday</td>\n",
              "      <td>1</td>\n",
              "      <td>d_1</td>\n",
              "      <td>NaN</td>\n",
              "      <td>201104</td>\n",
              "    </tr>\n",
              "    <tr>\n",
              "      <th>1</th>\n",
              "      <td>2011-01-30</td>\n",
              "      <td>Sunday</td>\n",
              "      <td>2</td>\n",
              "      <td>d_2</td>\n",
              "      <td>NaN</td>\n",
              "      <td>201105</td>\n",
              "    </tr>\n",
              "    <tr>\n",
              "      <th>2</th>\n",
              "      <td>2011-01-31</td>\n",
              "      <td>Monday</td>\n",
              "      <td>3</td>\n",
              "      <td>d_3</td>\n",
              "      <td>NaN</td>\n",
              "      <td>201105</td>\n",
              "    </tr>\n",
              "    <tr>\n",
              "      <th>3</th>\n",
              "      <td>2011-02-01</td>\n",
              "      <td>Tuesday</td>\n",
              "      <td>4</td>\n",
              "      <td>d_4</td>\n",
              "      <td>NaN</td>\n",
              "      <td>201105</td>\n",
              "    </tr>\n",
              "    <tr>\n",
              "      <th>4</th>\n",
              "      <td>2011-02-02</td>\n",
              "      <td>Wednesday</td>\n",
              "      <td>5</td>\n",
              "      <td>d_5</td>\n",
              "      <td>NaN</td>\n",
              "      <td>201105</td>\n",
              "    </tr>\n",
              "    <tr>\n",
              "      <th>...</th>\n",
              "      <td>...</td>\n",
              "      <td>...</td>\n",
              "      <td>...</td>\n",
              "      <td>...</td>\n",
              "      <td>...</td>\n",
              "      <td>...</td>\n",
              "    </tr>\n",
              "    <tr>\n",
              "      <th>1908</th>\n",
              "      <td>2016-04-20</td>\n",
              "      <td>Wednesday</td>\n",
              "      <td>5</td>\n",
              "      <td>d_1909</td>\n",
              "      <td>NaN</td>\n",
              "      <td>201616</td>\n",
              "    </tr>\n",
              "    <tr>\n",
              "      <th>1909</th>\n",
              "      <td>2016-04-21</td>\n",
              "      <td>Thursday</td>\n",
              "      <td>6</td>\n",
              "      <td>d_1910</td>\n",
              "      <td>NaN</td>\n",
              "      <td>201616</td>\n",
              "    </tr>\n",
              "    <tr>\n",
              "      <th>1910</th>\n",
              "      <td>2016-04-22</td>\n",
              "      <td>Friday</td>\n",
              "      <td>7</td>\n",
              "      <td>d_1911</td>\n",
              "      <td>NaN</td>\n",
              "      <td>201616</td>\n",
              "    </tr>\n",
              "    <tr>\n",
              "      <th>1911</th>\n",
              "      <td>2016-04-23</td>\n",
              "      <td>Saturday</td>\n",
              "      <td>1</td>\n",
              "      <td>d_1912</td>\n",
              "      <td>NaN</td>\n",
              "      <td>201616</td>\n",
              "    </tr>\n",
              "    <tr>\n",
              "      <th>1912</th>\n",
              "      <td>2016-04-24</td>\n",
              "      <td>Sunday</td>\n",
              "      <td>2</td>\n",
              "      <td>d_1913</td>\n",
              "      <td>NaN</td>\n",
              "      <td>201617</td>\n",
              "    </tr>\n",
              "  </tbody>\n",
              "</table>\n",
              "<p>1913 rows × 6 columns</p>\n",
              "</div>"
            ],
            "text/plain": [
              "           date    weekday  weekday_int       d event yearweek\n",
              "0    2011-01-29   Saturday            1     d_1   NaN   201104\n",
              "1    2011-01-30     Sunday            2     d_2   NaN   201105\n",
              "2    2011-01-31     Monday            3     d_3   NaN   201105\n",
              "3    2011-02-01    Tuesday            4     d_4   NaN   201105\n",
              "4    2011-02-02  Wednesday            5     d_5   NaN   201105\n",
              "...         ...        ...          ...     ...   ...      ...\n",
              "1908 2016-04-20  Wednesday            5  d_1909   NaN   201616\n",
              "1909 2016-04-21   Thursday            6  d_1910   NaN   201616\n",
              "1910 2016-04-22     Friday            7  d_1911   NaN   201616\n",
              "1911 2016-04-23   Saturday            1  d_1912   NaN   201616\n",
              "1912 2016-04-24     Sunday            2  d_1913   NaN   201617\n",
              "\n",
              "[1913 rows x 6 columns]"
            ]
          },
          "execution_count": 34,
          "metadata": {},
          "output_type": "execute_result"
        }
      ],
      "source": [
        "#se creara la columna \"yearweek\"\n",
        "# con \"strftime\" '%Y' se extrae el año y '%U' se extrae el numero de la semana\n",
        "\n",
        "calendar['yearweek'] = calendar['date'].dt.strftime('%Y%U')\n",
        "calendar"
      ]
    },
    {
      "cell_type": "code",
      "execution_count": 35,
      "metadata": {},
      "outputs": [],
      "source": [
        "#base de datos nueva y trasnformada, se procede a descargar y ver la en Power BI\n",
        "calendar.to_csv(r'C:\\Users\\npere\\OneDrive\\Desktop\\Master Data Science\\capstone-project\\data_dsmarket\\Bases de datos modificadas\\calendar.csv', index=False)"
      ]
    },
    {
      "cell_type": "markdown",
      "metadata": {},
      "source": [
        "3. trasnformación de la base de datos sales"
      ]
    },
    {
      "cell_type": "code",
      "execution_count": 26,
      "metadata": {
        "colab": {
          "base_uri": "https://localhost:8080/"
        },
        "id": "Va0LTP_idSWR",
        "outputId": "b6d976a6-2072-4e31-9fb9-515fbe461106"
      },
      "outputs": [
        {
          "name": "stdout",
          "output_type": "stream",
          "text": [
            "                       id              item    category store_code    region  \\\n",
            "0  ACCESORIES_1_001_NYC_1  ACCESORIES_1_001  ACCESORIES      NYC_1  New York   \n",
            "1  ACCESORIES_1_002_NYC_1  ACCESORIES_1_002  ACCESORIES      NYC_1  New York   \n",
            "2  ACCESORIES_1_003_NYC_1  ACCESORIES_1_003  ACCESORIES      NYC_1  New York   \n",
            "3  ACCESORIES_1_004_NYC_1  ACCESORIES_1_004  ACCESORIES      NYC_1  New York   \n",
            "4  ACCESORIES_1_005_NYC_1  ACCESORIES_1_005  ACCESORIES      NYC_1  New York   \n",
            "\n",
            "               store    department    d  sales  \n",
            "0  Greenwich_Village  ACCESORIES_1  d_1      0  \n",
            "1  Greenwich_Village  ACCESORIES_1  d_1      0  \n",
            "2  Greenwich_Village  ACCESORIES_1  d_1      0  \n",
            "3  Greenwich_Village  ACCESORIES_1  d_1      0  \n",
            "4  Greenwich_Village  ACCESORIES_1  d_1      0  \n"
          ]
        }
      ],
      "source": [
        "#trasnformación de la base de datos, se agregaran dos columnas d y sales\n",
        "sales_melted = sales.melt(id_vars=['id', 'item', 'category', 'store_code', 'region', 'store', 'department'],\n",
        "                          var_name='d',\n",
        "                          value_name='sales')\n",
        "print(sales_melted.head())"
      ]
    },
    {
      "cell_type": "code",
      "execution_count": 27,
      "metadata": {},
      "outputs": [
        {
          "data": {
            "text/html": [
              "<div>\n",
              "<style scoped>\n",
              "    .dataframe tbody tr th:only-of-type {\n",
              "        vertical-align: middle;\n",
              "    }\n",
              "\n",
              "    .dataframe tbody tr th {\n",
              "        vertical-align: top;\n",
              "    }\n",
              "\n",
              "    .dataframe thead th {\n",
              "        text-align: right;\n",
              "    }\n",
              "</style>\n",
              "<table border=\"1\" class=\"dataframe\">\n",
              "  <thead>\n",
              "    <tr style=\"text-align: right;\">\n",
              "      <th></th>\n",
              "      <th>id</th>\n",
              "      <th>item</th>\n",
              "      <th>category</th>\n",
              "      <th>store_code</th>\n",
              "      <th>region</th>\n",
              "      <th>store</th>\n",
              "      <th>department</th>\n",
              "      <th>d</th>\n",
              "      <th>sales</th>\n",
              "      <th>yearweek</th>\n",
              "    </tr>\n",
              "  </thead>\n",
              "  <tbody>\n",
              "    <tr>\n",
              "      <th>0</th>\n",
              "      <td>ACCESORIES_1_001_NYC_1</td>\n",
              "      <td>ACCESORIES_1_001</td>\n",
              "      <td>ACCESORIES</td>\n",
              "      <td>NYC_1</td>\n",
              "      <td>New York</td>\n",
              "      <td>Greenwich_Village</td>\n",
              "      <td>ACCESORIES_1</td>\n",
              "      <td>d_1</td>\n",
              "      <td>0</td>\n",
              "      <td>201104</td>\n",
              "    </tr>\n",
              "    <tr>\n",
              "      <th>1</th>\n",
              "      <td>ACCESORIES_1_002_NYC_1</td>\n",
              "      <td>ACCESORIES_1_002</td>\n",
              "      <td>ACCESORIES</td>\n",
              "      <td>NYC_1</td>\n",
              "      <td>New York</td>\n",
              "      <td>Greenwich_Village</td>\n",
              "      <td>ACCESORIES_1</td>\n",
              "      <td>d_1</td>\n",
              "      <td>0</td>\n",
              "      <td>201104</td>\n",
              "    </tr>\n",
              "    <tr>\n",
              "      <th>2</th>\n",
              "      <td>ACCESORIES_1_003_NYC_1</td>\n",
              "      <td>ACCESORIES_1_003</td>\n",
              "      <td>ACCESORIES</td>\n",
              "      <td>NYC_1</td>\n",
              "      <td>New York</td>\n",
              "      <td>Greenwich_Village</td>\n",
              "      <td>ACCESORIES_1</td>\n",
              "      <td>d_1</td>\n",
              "      <td>0</td>\n",
              "      <td>201104</td>\n",
              "    </tr>\n",
              "    <tr>\n",
              "      <th>3</th>\n",
              "      <td>ACCESORIES_1_004_NYC_1</td>\n",
              "      <td>ACCESORIES_1_004</td>\n",
              "      <td>ACCESORIES</td>\n",
              "      <td>NYC_1</td>\n",
              "      <td>New York</td>\n",
              "      <td>Greenwich_Village</td>\n",
              "      <td>ACCESORIES_1</td>\n",
              "      <td>d_1</td>\n",
              "      <td>0</td>\n",
              "      <td>201104</td>\n",
              "    </tr>\n",
              "    <tr>\n",
              "      <th>4</th>\n",
              "      <td>ACCESORIES_1_005_NYC_1</td>\n",
              "      <td>ACCESORIES_1_005</td>\n",
              "      <td>ACCESORIES</td>\n",
              "      <td>NYC_1</td>\n",
              "      <td>New York</td>\n",
              "      <td>Greenwich_Village</td>\n",
              "      <td>ACCESORIES_1</td>\n",
              "      <td>d_1</td>\n",
              "      <td>0</td>\n",
              "      <td>201104</td>\n",
              "    </tr>\n",
              "    <tr>\n",
              "      <th>...</th>\n",
              "      <td>...</td>\n",
              "      <td>...</td>\n",
              "      <td>...</td>\n",
              "      <td>...</td>\n",
              "      <td>...</td>\n",
              "      <td>...</td>\n",
              "      <td>...</td>\n",
              "      <td>...</td>\n",
              "      <td>...</td>\n",
              "      <td>...</td>\n",
              "    </tr>\n",
              "    <tr>\n",
              "      <th>58327365</th>\n",
              "      <td>SUPERMARKET_3_823_PHI_3</td>\n",
              "      <td>SUPERMARKET_3_823</td>\n",
              "      <td>SUPERMARKET</td>\n",
              "      <td>PHI_3</td>\n",
              "      <td>Philadelphia</td>\n",
              "      <td>Queen_Village</td>\n",
              "      <td>SUPERMARKET_3</td>\n",
              "      <td>d_1913</td>\n",
              "      <td>1</td>\n",
              "      <td>201617</td>\n",
              "    </tr>\n",
              "    <tr>\n",
              "      <th>58327366</th>\n",
              "      <td>SUPERMARKET_3_824_PHI_3</td>\n",
              "      <td>SUPERMARKET_3_824</td>\n",
              "      <td>SUPERMARKET</td>\n",
              "      <td>PHI_3</td>\n",
              "      <td>Philadelphia</td>\n",
              "      <td>Queen_Village</td>\n",
              "      <td>SUPERMARKET_3</td>\n",
              "      <td>d_1913</td>\n",
              "      <td>0</td>\n",
              "      <td>201617</td>\n",
              "    </tr>\n",
              "    <tr>\n",
              "      <th>58327367</th>\n",
              "      <td>SUPERMARKET_3_825_PHI_3</td>\n",
              "      <td>SUPERMARKET_3_825</td>\n",
              "      <td>SUPERMARKET</td>\n",
              "      <td>PHI_3</td>\n",
              "      <td>Philadelphia</td>\n",
              "      <td>Queen_Village</td>\n",
              "      <td>SUPERMARKET_3</td>\n",
              "      <td>d_1913</td>\n",
              "      <td>0</td>\n",
              "      <td>201617</td>\n",
              "    </tr>\n",
              "    <tr>\n",
              "      <th>58327368</th>\n",
              "      <td>SUPERMARKET_3_826_PHI_3</td>\n",
              "      <td>SUPERMARKET_3_826</td>\n",
              "      <td>SUPERMARKET</td>\n",
              "      <td>PHI_3</td>\n",
              "      <td>Philadelphia</td>\n",
              "      <td>Queen_Village</td>\n",
              "      <td>SUPERMARKET_3</td>\n",
              "      <td>d_1913</td>\n",
              "      <td>3</td>\n",
              "      <td>201617</td>\n",
              "    </tr>\n",
              "    <tr>\n",
              "      <th>58327369</th>\n",
              "      <td>SUPERMARKET_3_827_PHI_3</td>\n",
              "      <td>SUPERMARKET_3_827</td>\n",
              "      <td>SUPERMARKET</td>\n",
              "      <td>PHI_3</td>\n",
              "      <td>Philadelphia</td>\n",
              "      <td>Queen_Village</td>\n",
              "      <td>SUPERMARKET_3</td>\n",
              "      <td>d_1913</td>\n",
              "      <td>0</td>\n",
              "      <td>201617</td>\n",
              "    </tr>\n",
              "  </tbody>\n",
              "</table>\n",
              "<p>58327370 rows × 10 columns</p>\n",
              "</div>"
            ],
            "text/plain": [
              "                               id               item     category store_code  \\\n",
              "0          ACCESORIES_1_001_NYC_1   ACCESORIES_1_001   ACCESORIES      NYC_1   \n",
              "1          ACCESORIES_1_002_NYC_1   ACCESORIES_1_002   ACCESORIES      NYC_1   \n",
              "2          ACCESORIES_1_003_NYC_1   ACCESORIES_1_003   ACCESORIES      NYC_1   \n",
              "3          ACCESORIES_1_004_NYC_1   ACCESORIES_1_004   ACCESORIES      NYC_1   \n",
              "4          ACCESORIES_1_005_NYC_1   ACCESORIES_1_005   ACCESORIES      NYC_1   \n",
              "...                           ...                ...          ...        ...   \n",
              "58327365  SUPERMARKET_3_823_PHI_3  SUPERMARKET_3_823  SUPERMARKET      PHI_3   \n",
              "58327366  SUPERMARKET_3_824_PHI_3  SUPERMARKET_3_824  SUPERMARKET      PHI_3   \n",
              "58327367  SUPERMARKET_3_825_PHI_3  SUPERMARKET_3_825  SUPERMARKET      PHI_3   \n",
              "58327368  SUPERMARKET_3_826_PHI_3  SUPERMARKET_3_826  SUPERMARKET      PHI_3   \n",
              "58327369  SUPERMARKET_3_827_PHI_3  SUPERMARKET_3_827  SUPERMARKET      PHI_3   \n",
              "\n",
              "                region              store     department       d  sales  \\\n",
              "0             New York  Greenwich_Village   ACCESORIES_1     d_1      0   \n",
              "1             New York  Greenwich_Village   ACCESORIES_1     d_1      0   \n",
              "2             New York  Greenwich_Village   ACCESORIES_1     d_1      0   \n",
              "3             New York  Greenwich_Village   ACCESORIES_1     d_1      0   \n",
              "4             New York  Greenwich_Village   ACCESORIES_1     d_1      0   \n",
              "...                ...                ...            ...     ...    ...   \n",
              "58327365  Philadelphia      Queen_Village  SUPERMARKET_3  d_1913      1   \n",
              "58327366  Philadelphia      Queen_Village  SUPERMARKET_3  d_1913      0   \n",
              "58327367  Philadelphia      Queen_Village  SUPERMARKET_3  d_1913      0   \n",
              "58327368  Philadelphia      Queen_Village  SUPERMARKET_3  d_1913      3   \n",
              "58327369  Philadelphia      Queen_Village  SUPERMARKET_3  d_1913      0   \n",
              "\n",
              "         yearweek  \n",
              "0          201104  \n",
              "1          201104  \n",
              "2          201104  \n",
              "3          201104  \n",
              "4          201104  \n",
              "...           ...  \n",
              "58327365   201617  \n",
              "58327366   201617  \n",
              "58327367   201617  \n",
              "58327368   201617  \n",
              "58327369   201617  \n",
              "\n",
              "[58327370 rows x 10 columns]"
            ]
          },
          "execution_count": 27,
          "metadata": {},
          "output_type": "execute_result"
        }
      ],
      "source": [
        "#se cruzara la base de datos calendar con sales, utilizando las columnas d para agregar la columna yearweek a la base de datos sales\n",
        "---sales_with_yearweek = sales_melted.merge(calendar[['d', 'yearweek']], on='d', how='left')\n",
        "---sales_with_yearweek"
      ]
    },
    {
      "cell_type": "code",
      "execution_count": 43,
      "metadata": {},
      "outputs": [
        {
          "data": {
            "text/html": [
              "<div>\n",
              "<style scoped>\n",
              "    .dataframe tbody tr th:only-of-type {\n",
              "        vertical-align: middle;\n",
              "    }\n",
              "\n",
              "    .dataframe tbody tr th {\n",
              "        vertical-align: top;\n",
              "    }\n",
              "\n",
              "    .dataframe thead th {\n",
              "        text-align: right;\n",
              "    }\n",
              "</style>\n",
              "<table border=\"1\" class=\"dataframe\">\n",
              "  <thead>\n",
              "    <tr style=\"text-align: right;\">\n",
              "      <th></th>\n",
              "      <th>id</th>\n",
              "      <th>item</th>\n",
              "      <th>category</th>\n",
              "      <th>store_code</th>\n",
              "      <th>region</th>\n",
              "      <th>store</th>\n",
              "      <th>department</th>\n",
              "      <th>d</th>\n",
              "      <th>sales</th>\n",
              "      <th>date</th>\n",
              "    </tr>\n",
              "  </thead>\n",
              "  <tbody>\n",
              "    <tr>\n",
              "      <th>0</th>\n",
              "      <td>ACCESORIES_1_001_NYC_1</td>\n",
              "      <td>ACCESORIES_1_001</td>\n",
              "      <td>ACCESORIES</td>\n",
              "      <td>NYC_1</td>\n",
              "      <td>New York</td>\n",
              "      <td>Greenwich_Village</td>\n",
              "      <td>ACCESORIES_1</td>\n",
              "      <td>d_1</td>\n",
              "      <td>0</td>\n",
              "      <td>2011-01-29</td>\n",
              "    </tr>\n",
              "    <tr>\n",
              "      <th>1</th>\n",
              "      <td>ACCESORIES_1_002_NYC_1</td>\n",
              "      <td>ACCESORIES_1_002</td>\n",
              "      <td>ACCESORIES</td>\n",
              "      <td>NYC_1</td>\n",
              "      <td>New York</td>\n",
              "      <td>Greenwich_Village</td>\n",
              "      <td>ACCESORIES_1</td>\n",
              "      <td>d_1</td>\n",
              "      <td>0</td>\n",
              "      <td>2011-01-29</td>\n",
              "    </tr>\n",
              "    <tr>\n",
              "      <th>2</th>\n",
              "      <td>ACCESORIES_1_003_NYC_1</td>\n",
              "      <td>ACCESORIES_1_003</td>\n",
              "      <td>ACCESORIES</td>\n",
              "      <td>NYC_1</td>\n",
              "      <td>New York</td>\n",
              "      <td>Greenwich_Village</td>\n",
              "      <td>ACCESORIES_1</td>\n",
              "      <td>d_1</td>\n",
              "      <td>0</td>\n",
              "      <td>2011-01-29</td>\n",
              "    </tr>\n",
              "    <tr>\n",
              "      <th>3</th>\n",
              "      <td>ACCESORIES_1_004_NYC_1</td>\n",
              "      <td>ACCESORIES_1_004</td>\n",
              "      <td>ACCESORIES</td>\n",
              "      <td>NYC_1</td>\n",
              "      <td>New York</td>\n",
              "      <td>Greenwich_Village</td>\n",
              "      <td>ACCESORIES_1</td>\n",
              "      <td>d_1</td>\n",
              "      <td>0</td>\n",
              "      <td>2011-01-29</td>\n",
              "    </tr>\n",
              "    <tr>\n",
              "      <th>4</th>\n",
              "      <td>ACCESORIES_1_005_NYC_1</td>\n",
              "      <td>ACCESORIES_1_005</td>\n",
              "      <td>ACCESORIES</td>\n",
              "      <td>NYC_1</td>\n",
              "      <td>New York</td>\n",
              "      <td>Greenwich_Village</td>\n",
              "      <td>ACCESORIES_1</td>\n",
              "      <td>d_1</td>\n",
              "      <td>0</td>\n",
              "      <td>2011-01-29</td>\n",
              "    </tr>\n",
              "    <tr>\n",
              "      <th>...</th>\n",
              "      <td>...</td>\n",
              "      <td>...</td>\n",
              "      <td>...</td>\n",
              "      <td>...</td>\n",
              "      <td>...</td>\n",
              "      <td>...</td>\n",
              "      <td>...</td>\n",
              "      <td>...</td>\n",
              "      <td>...</td>\n",
              "      <td>...</td>\n",
              "    </tr>\n",
              "    <tr>\n",
              "      <th>58327365</th>\n",
              "      <td>SUPERMARKET_3_823_PHI_3</td>\n",
              "      <td>SUPERMARKET_3_823</td>\n",
              "      <td>SUPERMARKET</td>\n",
              "      <td>PHI_3</td>\n",
              "      <td>Philadelphia</td>\n",
              "      <td>Queen_Village</td>\n",
              "      <td>SUPERMARKET_3</td>\n",
              "      <td>d_1913</td>\n",
              "      <td>1</td>\n",
              "      <td>2016-04-24</td>\n",
              "    </tr>\n",
              "    <tr>\n",
              "      <th>58327366</th>\n",
              "      <td>SUPERMARKET_3_824_PHI_3</td>\n",
              "      <td>SUPERMARKET_3_824</td>\n",
              "      <td>SUPERMARKET</td>\n",
              "      <td>PHI_3</td>\n",
              "      <td>Philadelphia</td>\n",
              "      <td>Queen_Village</td>\n",
              "      <td>SUPERMARKET_3</td>\n",
              "      <td>d_1913</td>\n",
              "      <td>0</td>\n",
              "      <td>2016-04-24</td>\n",
              "    </tr>\n",
              "    <tr>\n",
              "      <th>58327367</th>\n",
              "      <td>SUPERMARKET_3_825_PHI_3</td>\n",
              "      <td>SUPERMARKET_3_825</td>\n",
              "      <td>SUPERMARKET</td>\n",
              "      <td>PHI_3</td>\n",
              "      <td>Philadelphia</td>\n",
              "      <td>Queen_Village</td>\n",
              "      <td>SUPERMARKET_3</td>\n",
              "      <td>d_1913</td>\n",
              "      <td>0</td>\n",
              "      <td>2016-04-24</td>\n",
              "    </tr>\n",
              "    <tr>\n",
              "      <th>58327368</th>\n",
              "      <td>SUPERMARKET_3_826_PHI_3</td>\n",
              "      <td>SUPERMARKET_3_826</td>\n",
              "      <td>SUPERMARKET</td>\n",
              "      <td>PHI_3</td>\n",
              "      <td>Philadelphia</td>\n",
              "      <td>Queen_Village</td>\n",
              "      <td>SUPERMARKET_3</td>\n",
              "      <td>d_1913</td>\n",
              "      <td>3</td>\n",
              "      <td>2016-04-24</td>\n",
              "    </tr>\n",
              "    <tr>\n",
              "      <th>58327369</th>\n",
              "      <td>SUPERMARKET_3_827_PHI_3</td>\n",
              "      <td>SUPERMARKET_3_827</td>\n",
              "      <td>SUPERMARKET</td>\n",
              "      <td>PHI_3</td>\n",
              "      <td>Philadelphia</td>\n",
              "      <td>Queen_Village</td>\n",
              "      <td>SUPERMARKET_3</td>\n",
              "      <td>d_1913</td>\n",
              "      <td>0</td>\n",
              "      <td>2016-04-24</td>\n",
              "    </tr>\n",
              "  </tbody>\n",
              "</table>\n",
              "<p>58327370 rows × 10 columns</p>\n",
              "</div>"
            ],
            "text/plain": [
              "                               id               item     category store_code  \\\n",
              "0          ACCESORIES_1_001_NYC_1   ACCESORIES_1_001   ACCESORIES      NYC_1   \n",
              "1          ACCESORIES_1_002_NYC_1   ACCESORIES_1_002   ACCESORIES      NYC_1   \n",
              "2          ACCESORIES_1_003_NYC_1   ACCESORIES_1_003   ACCESORIES      NYC_1   \n",
              "3          ACCESORIES_1_004_NYC_1   ACCESORIES_1_004   ACCESORIES      NYC_1   \n",
              "4          ACCESORIES_1_005_NYC_1   ACCESORIES_1_005   ACCESORIES      NYC_1   \n",
              "...                           ...                ...          ...        ...   \n",
              "58327365  SUPERMARKET_3_823_PHI_3  SUPERMARKET_3_823  SUPERMARKET      PHI_3   \n",
              "58327366  SUPERMARKET_3_824_PHI_3  SUPERMARKET_3_824  SUPERMARKET      PHI_3   \n",
              "58327367  SUPERMARKET_3_825_PHI_3  SUPERMARKET_3_825  SUPERMARKET      PHI_3   \n",
              "58327368  SUPERMARKET_3_826_PHI_3  SUPERMARKET_3_826  SUPERMARKET      PHI_3   \n",
              "58327369  SUPERMARKET_3_827_PHI_3  SUPERMARKET_3_827  SUPERMARKET      PHI_3   \n",
              "\n",
              "                region              store     department       d  sales  \\\n",
              "0             New York  Greenwich_Village   ACCESORIES_1     d_1      0   \n",
              "1             New York  Greenwich_Village   ACCESORIES_1     d_1      0   \n",
              "2             New York  Greenwich_Village   ACCESORIES_1     d_1      0   \n",
              "3             New York  Greenwich_Village   ACCESORIES_1     d_1      0   \n",
              "4             New York  Greenwich_Village   ACCESORIES_1     d_1      0   \n",
              "...                ...                ...            ...     ...    ...   \n",
              "58327365  Philadelphia      Queen_Village  SUPERMARKET_3  d_1913      1   \n",
              "58327366  Philadelphia      Queen_Village  SUPERMARKET_3  d_1913      0   \n",
              "58327367  Philadelphia      Queen_Village  SUPERMARKET_3  d_1913      0   \n",
              "58327368  Philadelphia      Queen_Village  SUPERMARKET_3  d_1913      3   \n",
              "58327369  Philadelphia      Queen_Village  SUPERMARKET_3  d_1913      0   \n",
              "\n",
              "               date  \n",
              "0        2011-01-29  \n",
              "1        2011-01-29  \n",
              "2        2011-01-29  \n",
              "3        2011-01-29  \n",
              "4        2011-01-29  \n",
              "...             ...  \n",
              "58327365 2016-04-24  \n",
              "58327366 2016-04-24  \n",
              "58327367 2016-04-24  \n",
              "58327368 2016-04-24  \n",
              "58327369 2016-04-24  \n",
              "\n",
              "[58327370 rows x 10 columns]"
            ]
          },
          "execution_count": 43,
          "metadata": {},
          "output_type": "execute_result"
        }
      ],
      "source": [
        "#se cruzara la base de datos calendar con sales, utilizando las columnas d para agregar la columna date a la base de datos sales\n",
        "sales_with_date = sales_melted.merge(calendar[['d', 'date']], on='d', how='left')\n",
        "sales_with_date"
      ]
    },
    {
      "cell_type": "code",
      "execution_count": 44,
      "metadata": {},
      "outputs": [
        {
          "data": {
            "text/html": [
              "<div>\n",
              "<style scoped>\n",
              "    .dataframe tbody tr th:only-of-type {\n",
              "        vertical-align: middle;\n",
              "    }\n",
              "\n",
              "    .dataframe tbody tr th {\n",
              "        vertical-align: top;\n",
              "    }\n",
              "\n",
              "    .dataframe thead th {\n",
              "        text-align: right;\n",
              "    }\n",
              "</style>\n",
              "<table border=\"1\" class=\"dataframe\">\n",
              "  <thead>\n",
              "    <tr style=\"text-align: right;\">\n",
              "      <th></th>\n",
              "      <th>id</th>\n",
              "      <th>item</th>\n",
              "      <th>category</th>\n",
              "      <th>store_code</th>\n",
              "      <th>region</th>\n",
              "      <th>store</th>\n",
              "      <th>department</th>\n",
              "      <th>d</th>\n",
              "      <th>sales</th>\n",
              "      <th>date</th>\n",
              "      <th>event</th>\n",
              "    </tr>\n",
              "  </thead>\n",
              "  <tbody>\n",
              "    <tr>\n",
              "      <th>0</th>\n",
              "      <td>ACCESORIES_1_001_NYC_1</td>\n",
              "      <td>ACCESORIES_1_001</td>\n",
              "      <td>ACCESORIES</td>\n",
              "      <td>NYC_1</td>\n",
              "      <td>New York</td>\n",
              "      <td>Greenwich_Village</td>\n",
              "      <td>ACCESORIES_1</td>\n",
              "      <td>d_1</td>\n",
              "      <td>0</td>\n",
              "      <td>2011-01-29</td>\n",
              "      <td>NaN</td>\n",
              "    </tr>\n",
              "    <tr>\n",
              "      <th>1</th>\n",
              "      <td>ACCESORIES_1_002_NYC_1</td>\n",
              "      <td>ACCESORIES_1_002</td>\n",
              "      <td>ACCESORIES</td>\n",
              "      <td>NYC_1</td>\n",
              "      <td>New York</td>\n",
              "      <td>Greenwich_Village</td>\n",
              "      <td>ACCESORIES_1</td>\n",
              "      <td>d_1</td>\n",
              "      <td>0</td>\n",
              "      <td>2011-01-29</td>\n",
              "      <td>NaN</td>\n",
              "    </tr>\n",
              "    <tr>\n",
              "      <th>2</th>\n",
              "      <td>ACCESORIES_1_003_NYC_1</td>\n",
              "      <td>ACCESORIES_1_003</td>\n",
              "      <td>ACCESORIES</td>\n",
              "      <td>NYC_1</td>\n",
              "      <td>New York</td>\n",
              "      <td>Greenwich_Village</td>\n",
              "      <td>ACCESORIES_1</td>\n",
              "      <td>d_1</td>\n",
              "      <td>0</td>\n",
              "      <td>2011-01-29</td>\n",
              "      <td>NaN</td>\n",
              "    </tr>\n",
              "    <tr>\n",
              "      <th>3</th>\n",
              "      <td>ACCESORIES_1_004_NYC_1</td>\n",
              "      <td>ACCESORIES_1_004</td>\n",
              "      <td>ACCESORIES</td>\n",
              "      <td>NYC_1</td>\n",
              "      <td>New York</td>\n",
              "      <td>Greenwich_Village</td>\n",
              "      <td>ACCESORIES_1</td>\n",
              "      <td>d_1</td>\n",
              "      <td>0</td>\n",
              "      <td>2011-01-29</td>\n",
              "      <td>NaN</td>\n",
              "    </tr>\n",
              "    <tr>\n",
              "      <th>4</th>\n",
              "      <td>ACCESORIES_1_005_NYC_1</td>\n",
              "      <td>ACCESORIES_1_005</td>\n",
              "      <td>ACCESORIES</td>\n",
              "      <td>NYC_1</td>\n",
              "      <td>New York</td>\n",
              "      <td>Greenwich_Village</td>\n",
              "      <td>ACCESORIES_1</td>\n",
              "      <td>d_1</td>\n",
              "      <td>0</td>\n",
              "      <td>2011-01-29</td>\n",
              "      <td>NaN</td>\n",
              "    </tr>\n",
              "    <tr>\n",
              "      <th>...</th>\n",
              "      <td>...</td>\n",
              "      <td>...</td>\n",
              "      <td>...</td>\n",
              "      <td>...</td>\n",
              "      <td>...</td>\n",
              "      <td>...</td>\n",
              "      <td>...</td>\n",
              "      <td>...</td>\n",
              "      <td>...</td>\n",
              "      <td>...</td>\n",
              "      <td>...</td>\n",
              "    </tr>\n",
              "    <tr>\n",
              "      <th>58327365</th>\n",
              "      <td>SUPERMARKET_3_823_PHI_3</td>\n",
              "      <td>SUPERMARKET_3_823</td>\n",
              "      <td>SUPERMARKET</td>\n",
              "      <td>PHI_3</td>\n",
              "      <td>Philadelphia</td>\n",
              "      <td>Queen_Village</td>\n",
              "      <td>SUPERMARKET_3</td>\n",
              "      <td>d_1913</td>\n",
              "      <td>1</td>\n",
              "      <td>2016-04-24</td>\n",
              "      <td>NaN</td>\n",
              "    </tr>\n",
              "    <tr>\n",
              "      <th>58327366</th>\n",
              "      <td>SUPERMARKET_3_824_PHI_3</td>\n",
              "      <td>SUPERMARKET_3_824</td>\n",
              "      <td>SUPERMARKET</td>\n",
              "      <td>PHI_3</td>\n",
              "      <td>Philadelphia</td>\n",
              "      <td>Queen_Village</td>\n",
              "      <td>SUPERMARKET_3</td>\n",
              "      <td>d_1913</td>\n",
              "      <td>0</td>\n",
              "      <td>2016-04-24</td>\n",
              "      <td>NaN</td>\n",
              "    </tr>\n",
              "    <tr>\n",
              "      <th>58327367</th>\n",
              "      <td>SUPERMARKET_3_825_PHI_3</td>\n",
              "      <td>SUPERMARKET_3_825</td>\n",
              "      <td>SUPERMARKET</td>\n",
              "      <td>PHI_3</td>\n",
              "      <td>Philadelphia</td>\n",
              "      <td>Queen_Village</td>\n",
              "      <td>SUPERMARKET_3</td>\n",
              "      <td>d_1913</td>\n",
              "      <td>0</td>\n",
              "      <td>2016-04-24</td>\n",
              "      <td>NaN</td>\n",
              "    </tr>\n",
              "    <tr>\n",
              "      <th>58327368</th>\n",
              "      <td>SUPERMARKET_3_826_PHI_3</td>\n",
              "      <td>SUPERMARKET_3_826</td>\n",
              "      <td>SUPERMARKET</td>\n",
              "      <td>PHI_3</td>\n",
              "      <td>Philadelphia</td>\n",
              "      <td>Queen_Village</td>\n",
              "      <td>SUPERMARKET_3</td>\n",
              "      <td>d_1913</td>\n",
              "      <td>3</td>\n",
              "      <td>2016-04-24</td>\n",
              "      <td>NaN</td>\n",
              "    </tr>\n",
              "    <tr>\n",
              "      <th>58327369</th>\n",
              "      <td>SUPERMARKET_3_827_PHI_3</td>\n",
              "      <td>SUPERMARKET_3_827</td>\n",
              "      <td>SUPERMARKET</td>\n",
              "      <td>PHI_3</td>\n",
              "      <td>Philadelphia</td>\n",
              "      <td>Queen_Village</td>\n",
              "      <td>SUPERMARKET_3</td>\n",
              "      <td>d_1913</td>\n",
              "      <td>0</td>\n",
              "      <td>2016-04-24</td>\n",
              "      <td>NaN</td>\n",
              "    </tr>\n",
              "  </tbody>\n",
              "</table>\n",
              "<p>58327370 rows × 11 columns</p>\n",
              "</div>"
            ],
            "text/plain": [
              "                               id               item     category store_code  \\\n",
              "0          ACCESORIES_1_001_NYC_1   ACCESORIES_1_001   ACCESORIES      NYC_1   \n",
              "1          ACCESORIES_1_002_NYC_1   ACCESORIES_1_002   ACCESORIES      NYC_1   \n",
              "2          ACCESORIES_1_003_NYC_1   ACCESORIES_1_003   ACCESORIES      NYC_1   \n",
              "3          ACCESORIES_1_004_NYC_1   ACCESORIES_1_004   ACCESORIES      NYC_1   \n",
              "4          ACCESORIES_1_005_NYC_1   ACCESORIES_1_005   ACCESORIES      NYC_1   \n",
              "...                           ...                ...          ...        ...   \n",
              "58327365  SUPERMARKET_3_823_PHI_3  SUPERMARKET_3_823  SUPERMARKET      PHI_3   \n",
              "58327366  SUPERMARKET_3_824_PHI_3  SUPERMARKET_3_824  SUPERMARKET      PHI_3   \n",
              "58327367  SUPERMARKET_3_825_PHI_3  SUPERMARKET_3_825  SUPERMARKET      PHI_3   \n",
              "58327368  SUPERMARKET_3_826_PHI_3  SUPERMARKET_3_826  SUPERMARKET      PHI_3   \n",
              "58327369  SUPERMARKET_3_827_PHI_3  SUPERMARKET_3_827  SUPERMARKET      PHI_3   \n",
              "\n",
              "                region              store     department       d  sales  \\\n",
              "0             New York  Greenwich_Village   ACCESORIES_1     d_1      0   \n",
              "1             New York  Greenwich_Village   ACCESORIES_1     d_1      0   \n",
              "2             New York  Greenwich_Village   ACCESORIES_1     d_1      0   \n",
              "3             New York  Greenwich_Village   ACCESORIES_1     d_1      0   \n",
              "4             New York  Greenwich_Village   ACCESORIES_1     d_1      0   \n",
              "...                ...                ...            ...     ...    ...   \n",
              "58327365  Philadelphia      Queen_Village  SUPERMARKET_3  d_1913      1   \n",
              "58327366  Philadelphia      Queen_Village  SUPERMARKET_3  d_1913      0   \n",
              "58327367  Philadelphia      Queen_Village  SUPERMARKET_3  d_1913      0   \n",
              "58327368  Philadelphia      Queen_Village  SUPERMARKET_3  d_1913      3   \n",
              "58327369  Philadelphia      Queen_Village  SUPERMARKET_3  d_1913      0   \n",
              "\n",
              "               date event  \n",
              "0        2011-01-29   NaN  \n",
              "1        2011-01-29   NaN  \n",
              "2        2011-01-29   NaN  \n",
              "3        2011-01-29   NaN  \n",
              "4        2011-01-29   NaN  \n",
              "...             ...   ...  \n",
              "58327365 2016-04-24   NaN  \n",
              "58327366 2016-04-24   NaN  \n",
              "58327367 2016-04-24   NaN  \n",
              "58327368 2016-04-24   NaN  \n",
              "58327369 2016-04-24   NaN  \n",
              "\n",
              "[58327370 rows x 11 columns]"
            ]
          },
          "execution_count": 44,
          "metadata": {},
          "output_type": "execute_result"
        }
      ],
      "source": [
        "#se cruzara la base de datos calendar con sales, utilizando las columnas d para agregar la columna event a la base de datos sales\n",
        "sales_with_date_event = sales_with_date.merge(calendar[['d', 'event']], on='d', how='left')\n",
        "sales_with_date_event"
      ]
    },
    {
      "cell_type": "code",
      "execution_count": 46,
      "metadata": {
        "id": "XvWhun_IT-4d"
      },
      "outputs": [
        {
          "data": {
            "text/html": [
              "<div>\n",
              "<style scoped>\n",
              "    .dataframe tbody tr th:only-of-type {\n",
              "        vertical-align: middle;\n",
              "    }\n",
              "\n",
              "    .dataframe tbody tr th {\n",
              "        vertical-align: top;\n",
              "    }\n",
              "\n",
              "    .dataframe thead th {\n",
              "        text-align: right;\n",
              "    }\n",
              "</style>\n",
              "<table border=\"1\" class=\"dataframe\">\n",
              "  <thead>\n",
              "    <tr style=\"text-align: right;\">\n",
              "      <th></th>\n",
              "      <th>id</th>\n",
              "      <th>item</th>\n",
              "      <th>category</th>\n",
              "      <th>store_code</th>\n",
              "      <th>region</th>\n",
              "      <th>store</th>\n",
              "      <th>department</th>\n",
              "      <th>d</th>\n",
              "      <th>sales</th>\n",
              "      <th>date</th>\n",
              "      <th>event</th>\n",
              "    </tr>\n",
              "  </thead>\n",
              "  <tbody>\n",
              "    <tr>\n",
              "      <th>7</th>\n",
              "      <td>ACCESORIES_1_008_NYC_1</td>\n",
              "      <td>ACCESORIES_1_008</td>\n",
              "      <td>ACCESORIES</td>\n",
              "      <td>NYC_1</td>\n",
              "      <td>New York</td>\n",
              "      <td>Greenwich_Village</td>\n",
              "      <td>ACCESORIES_1</td>\n",
              "      <td>d_1</td>\n",
              "      <td>12</td>\n",
              "      <td>2011-01-29</td>\n",
              "      <td>NaN</td>\n",
              "    </tr>\n",
              "    <tr>\n",
              "      <th>8</th>\n",
              "      <td>ACCESORIES_1_009_NYC_1</td>\n",
              "      <td>ACCESORIES_1_009</td>\n",
              "      <td>ACCESORIES</td>\n",
              "      <td>NYC_1</td>\n",
              "      <td>New York</td>\n",
              "      <td>Greenwich_Village</td>\n",
              "      <td>ACCESORIES_1</td>\n",
              "      <td>d_1</td>\n",
              "      <td>2</td>\n",
              "      <td>2011-01-29</td>\n",
              "      <td>NaN</td>\n",
              "    </tr>\n",
              "    <tr>\n",
              "      <th>14</th>\n",
              "      <td>ACCESORIES_1_015_NYC_1</td>\n",
              "      <td>ACCESORIES_1_015</td>\n",
              "      <td>ACCESORIES</td>\n",
              "      <td>NYC_1</td>\n",
              "      <td>New York</td>\n",
              "      <td>Greenwich_Village</td>\n",
              "      <td>ACCESORIES_1</td>\n",
              "      <td>d_1</td>\n",
              "      <td>4</td>\n",
              "      <td>2011-01-29</td>\n",
              "      <td>NaN</td>\n",
              "    </tr>\n",
              "    <tr>\n",
              "      <th>15</th>\n",
              "      <td>ACCESORIES_1_016_NYC_1</td>\n",
              "      <td>ACCESORIES_1_016</td>\n",
              "      <td>ACCESORIES</td>\n",
              "      <td>NYC_1</td>\n",
              "      <td>New York</td>\n",
              "      <td>Greenwich_Village</td>\n",
              "      <td>ACCESORIES_1</td>\n",
              "      <td>d_1</td>\n",
              "      <td>5</td>\n",
              "      <td>2011-01-29</td>\n",
              "      <td>NaN</td>\n",
              "    </tr>\n",
              "    <tr>\n",
              "      <th>21</th>\n",
              "      <td>ACCESORIES_1_022_NYC_1</td>\n",
              "      <td>ACCESORIES_1_022</td>\n",
              "      <td>ACCESORIES</td>\n",
              "      <td>NYC_1</td>\n",
              "      <td>New York</td>\n",
              "      <td>Greenwich_Village</td>\n",
              "      <td>ACCESORIES_1</td>\n",
              "      <td>d_1</td>\n",
              "      <td>2</td>\n",
              "      <td>2011-01-29</td>\n",
              "      <td>NaN</td>\n",
              "    </tr>\n",
              "    <tr>\n",
              "      <th>...</th>\n",
              "      <td>...</td>\n",
              "      <td>...</td>\n",
              "      <td>...</td>\n",
              "      <td>...</td>\n",
              "      <td>...</td>\n",
              "      <td>...</td>\n",
              "      <td>...</td>\n",
              "      <td>...</td>\n",
              "      <td>...</td>\n",
              "      <td>...</td>\n",
              "      <td>...</td>\n",
              "    </tr>\n",
              "    <tr>\n",
              "      <th>58327361</th>\n",
              "      <td>SUPERMARKET_3_819_PHI_3</td>\n",
              "      <td>SUPERMARKET_3_819</td>\n",
              "      <td>SUPERMARKET</td>\n",
              "      <td>PHI_3</td>\n",
              "      <td>Philadelphia</td>\n",
              "      <td>Queen_Village</td>\n",
              "      <td>SUPERMARKET_3</td>\n",
              "      <td>d_1913</td>\n",
              "      <td>2</td>\n",
              "      <td>2016-04-24</td>\n",
              "      <td>NaN</td>\n",
              "    </tr>\n",
              "    <tr>\n",
              "      <th>58327362</th>\n",
              "      <td>SUPERMARKET_3_820_PHI_3</td>\n",
              "      <td>SUPERMARKET_3_820</td>\n",
              "      <td>SUPERMARKET</td>\n",
              "      <td>PHI_3</td>\n",
              "      <td>Philadelphia</td>\n",
              "      <td>Queen_Village</td>\n",
              "      <td>SUPERMARKET_3</td>\n",
              "      <td>d_1913</td>\n",
              "      <td>1</td>\n",
              "      <td>2016-04-24</td>\n",
              "      <td>NaN</td>\n",
              "    </tr>\n",
              "    <tr>\n",
              "      <th>58327364</th>\n",
              "      <td>SUPERMARKET_3_822_PHI_3</td>\n",
              "      <td>SUPERMARKET_3_822</td>\n",
              "      <td>SUPERMARKET</td>\n",
              "      <td>PHI_3</td>\n",
              "      <td>Philadelphia</td>\n",
              "      <td>Queen_Village</td>\n",
              "      <td>SUPERMARKET_3</td>\n",
              "      <td>d_1913</td>\n",
              "      <td>1</td>\n",
              "      <td>2016-04-24</td>\n",
              "      <td>NaN</td>\n",
              "    </tr>\n",
              "    <tr>\n",
              "      <th>58327365</th>\n",
              "      <td>SUPERMARKET_3_823_PHI_3</td>\n",
              "      <td>SUPERMARKET_3_823</td>\n",
              "      <td>SUPERMARKET</td>\n",
              "      <td>PHI_3</td>\n",
              "      <td>Philadelphia</td>\n",
              "      <td>Queen_Village</td>\n",
              "      <td>SUPERMARKET_3</td>\n",
              "      <td>d_1913</td>\n",
              "      <td>1</td>\n",
              "      <td>2016-04-24</td>\n",
              "      <td>NaN</td>\n",
              "    </tr>\n",
              "    <tr>\n",
              "      <th>58327368</th>\n",
              "      <td>SUPERMARKET_3_826_PHI_3</td>\n",
              "      <td>SUPERMARKET_3_826</td>\n",
              "      <td>SUPERMARKET</td>\n",
              "      <td>PHI_3</td>\n",
              "      <td>Philadelphia</td>\n",
              "      <td>Queen_Village</td>\n",
              "      <td>SUPERMARKET_3</td>\n",
              "      <td>d_1913</td>\n",
              "      <td>3</td>\n",
              "      <td>2016-04-24</td>\n",
              "      <td>NaN</td>\n",
              "    </tr>\n",
              "  </tbody>\n",
              "</table>\n",
              "<p>18550276 rows × 11 columns</p>\n",
              "</div>"
            ],
            "text/plain": [
              "                               id               item     category store_code  \\\n",
              "7          ACCESORIES_1_008_NYC_1   ACCESORIES_1_008   ACCESORIES      NYC_1   \n",
              "8          ACCESORIES_1_009_NYC_1   ACCESORIES_1_009   ACCESORIES      NYC_1   \n",
              "14         ACCESORIES_1_015_NYC_1   ACCESORIES_1_015   ACCESORIES      NYC_1   \n",
              "15         ACCESORIES_1_016_NYC_1   ACCESORIES_1_016   ACCESORIES      NYC_1   \n",
              "21         ACCESORIES_1_022_NYC_1   ACCESORIES_1_022   ACCESORIES      NYC_1   \n",
              "...                           ...                ...          ...        ...   \n",
              "58327361  SUPERMARKET_3_819_PHI_3  SUPERMARKET_3_819  SUPERMARKET      PHI_3   \n",
              "58327362  SUPERMARKET_3_820_PHI_3  SUPERMARKET_3_820  SUPERMARKET      PHI_3   \n",
              "58327364  SUPERMARKET_3_822_PHI_3  SUPERMARKET_3_822  SUPERMARKET      PHI_3   \n",
              "58327365  SUPERMARKET_3_823_PHI_3  SUPERMARKET_3_823  SUPERMARKET      PHI_3   \n",
              "58327368  SUPERMARKET_3_826_PHI_3  SUPERMARKET_3_826  SUPERMARKET      PHI_3   \n",
              "\n",
              "                region              store     department       d  sales  \\\n",
              "7             New York  Greenwich_Village   ACCESORIES_1     d_1     12   \n",
              "8             New York  Greenwich_Village   ACCESORIES_1     d_1      2   \n",
              "14            New York  Greenwich_Village   ACCESORIES_1     d_1      4   \n",
              "15            New York  Greenwich_Village   ACCESORIES_1     d_1      5   \n",
              "21            New York  Greenwich_Village   ACCESORIES_1     d_1      2   \n",
              "...                ...                ...            ...     ...    ...   \n",
              "58327361  Philadelphia      Queen_Village  SUPERMARKET_3  d_1913      2   \n",
              "58327362  Philadelphia      Queen_Village  SUPERMARKET_3  d_1913      1   \n",
              "58327364  Philadelphia      Queen_Village  SUPERMARKET_3  d_1913      1   \n",
              "58327365  Philadelphia      Queen_Village  SUPERMARKET_3  d_1913      1   \n",
              "58327368  Philadelphia      Queen_Village  SUPERMARKET_3  d_1913      3   \n",
              "\n",
              "               date event  \n",
              "7        2011-01-29   NaN  \n",
              "8        2011-01-29   NaN  \n",
              "14       2011-01-29   NaN  \n",
              "15       2011-01-29   NaN  \n",
              "21       2011-01-29   NaN  \n",
              "...             ...   ...  \n",
              "58327361 2016-04-24   NaN  \n",
              "58327362 2016-04-24   NaN  \n",
              "58327364 2016-04-24   NaN  \n",
              "58327365 2016-04-24   NaN  \n",
              "58327368 2016-04-24   NaN  \n",
              "\n",
              "[18550276 rows x 11 columns]"
            ]
          },
          "execution_count": 46,
          "metadata": {},
          "output_type": "execute_result"
        }
      ],
      "source": [
        "sales_filtered = sales_with_date_event[sales_with_date_event['sales'] >= 1]\n",
        "sales_filtered "
      ]
    },
    {
      "cell_type": "code",
      "execution_count": 47,
      "metadata": {
        "colab": {
          "base_uri": "https://localhost:8080/"
        },
        "id": "JC9TCI1eUYWA",
        "outputId": "c9715672-1936-49f2-9736-43dfec234382"
      },
      "outputs": [
        {
          "data": {
            "text/plain": [
              "18550276"
            ]
          },
          "execution_count": 47,
          "metadata": {},
          "output_type": "execute_result"
        }
      ],
      "source": [
        "number_of_entries_in_prices = len(sales_filtered)\n",
        "number_of_entries_in_prices"
      ]
    },
    {
      "cell_type": "code",
      "execution_count": 48,
      "metadata": {
        "id": "qWBcHHmve7DH"
      },
      "outputs": [],
      "source": [
        "#base de datos sales nueva y trasnformada, se procede a descargar y ver la en Power BI\n",
        "sales_with_date_event.to_csv(r'C:\\Users\\npere\\OneDrive\\Desktop\\Master Data Science\\capstone-project\\data_dsmarket\\Bases de datos modificadas\\sales_with_date_event.csv', index=False)"
      ]
    },
    {
      "cell_type": "markdown",
      "metadata": {
        "id": "x4hAsbAV6ifC"
      },
      "source": [
        "#5. Cruce entre Region y store_code con las tablas sales y prices para crear una columna region en la base de datos prices"
      ]
    },
    {
      "cell_type": "code",
      "execution_count": 12,
      "metadata": {
        "id": "yECPnEhv5-wv"
      },
      "outputs": [],
      "source": [
        "#se hará un mapeo que identifique las coincidencias entre region y store_code y así generar un diccionario"
      ]
    },
    {
      "cell_type": "code",
      "execution_count": 49,
      "metadata": {
        "id": "f-_cTUWP6tiq"
      },
      "outputs": [],
      "source": [
        "region_mapeo = sales[['store','store_code', 'region']].drop_duplicates()\n"
      ]
    },
    {
      "cell_type": "code",
      "execution_count": 50,
      "metadata": {
        "colab": {
          "base_uri": "https://localhost:8080/",
          "height": 363
        },
        "id": "FfOsgJUi64zS",
        "outputId": "598d0375-fa73-41ff-9548-64cc78adad46"
      },
      "outputs": [
        {
          "data": {
            "text/html": [
              "<div>\n",
              "<style scoped>\n",
              "    .dataframe tbody tr th:only-of-type {\n",
              "        vertical-align: middle;\n",
              "    }\n",
              "\n",
              "    .dataframe tbody tr th {\n",
              "        vertical-align: top;\n",
              "    }\n",
              "\n",
              "    .dataframe thead th {\n",
              "        text-align: right;\n",
              "    }\n",
              "</style>\n",
              "<table border=\"1\" class=\"dataframe\">\n",
              "  <thead>\n",
              "    <tr style=\"text-align: right;\">\n",
              "      <th></th>\n",
              "      <th>store</th>\n",
              "      <th>store_code</th>\n",
              "      <th>region</th>\n",
              "    </tr>\n",
              "  </thead>\n",
              "  <tbody>\n",
              "    <tr>\n",
              "      <th>0</th>\n",
              "      <td>Greenwich_Village</td>\n",
              "      <td>NYC_1</td>\n",
              "      <td>New York</td>\n",
              "    </tr>\n",
              "    <tr>\n",
              "      <th>3049</th>\n",
              "      <td>Harlem</td>\n",
              "      <td>NYC_2</td>\n",
              "      <td>New York</td>\n",
              "    </tr>\n",
              "    <tr>\n",
              "      <th>6098</th>\n",
              "      <td>Tribeca</td>\n",
              "      <td>NYC_3</td>\n",
              "      <td>New York</td>\n",
              "    </tr>\n",
              "    <tr>\n",
              "      <th>9147</th>\n",
              "      <td>Brooklyn</td>\n",
              "      <td>NYC_4</td>\n",
              "      <td>New York</td>\n",
              "    </tr>\n",
              "    <tr>\n",
              "      <th>12196</th>\n",
              "      <td>South_End</td>\n",
              "      <td>BOS_1</td>\n",
              "      <td>Boston</td>\n",
              "    </tr>\n",
              "    <tr>\n",
              "      <th>15245</th>\n",
              "      <td>Roxbury</td>\n",
              "      <td>BOS_2</td>\n",
              "      <td>Boston</td>\n",
              "    </tr>\n",
              "    <tr>\n",
              "      <th>18294</th>\n",
              "      <td>Back_Bay</td>\n",
              "      <td>BOS_3</td>\n",
              "      <td>Boston</td>\n",
              "    </tr>\n",
              "    <tr>\n",
              "      <th>21343</th>\n",
              "      <td>Midtown_Village</td>\n",
              "      <td>PHI_1</td>\n",
              "      <td>Philadelphia</td>\n",
              "    </tr>\n",
              "    <tr>\n",
              "      <th>24392</th>\n",
              "      <td>Yorktown</td>\n",
              "      <td>PHI_2</td>\n",
              "      <td>Philadelphia</td>\n",
              "    </tr>\n",
              "    <tr>\n",
              "      <th>27441</th>\n",
              "      <td>Queen_Village</td>\n",
              "      <td>PHI_3</td>\n",
              "      <td>Philadelphia</td>\n",
              "    </tr>\n",
              "  </tbody>\n",
              "</table>\n",
              "</div>"
            ],
            "text/plain": [
              "                   store store_code        region\n",
              "0      Greenwich_Village      NYC_1      New York\n",
              "3049              Harlem      NYC_2      New York\n",
              "6098             Tribeca      NYC_3      New York\n",
              "9147            Brooklyn      NYC_4      New York\n",
              "12196          South_End      BOS_1        Boston\n",
              "15245            Roxbury      BOS_2        Boston\n",
              "18294           Back_Bay      BOS_3        Boston\n",
              "21343    Midtown_Village      PHI_1  Philadelphia\n",
              "24392           Yorktown      PHI_2  Philadelphia\n",
              "27441      Queen_Village      PHI_3  Philadelphia"
            ]
          },
          "execution_count": 50,
          "metadata": {},
          "output_type": "execute_result"
        }
      ],
      "source": [
        "#conprobar mapeo, se puede ver como si fuese un diccionario\n",
        "region_mapeo"
      ]
    },
    {
      "cell_type": "code",
      "execution_count": 51,
      "metadata": {
        "id": "FwLTVn5e6P5l"
      },
      "outputs": [],
      "source": [
        "# aca se agregados columna en la tabla prices llamada store y region, basandome en el mapeo anterior\n",
        "prices_region = prices.merge(region_mapeo, on='store_code', how='left')"
      ]
    },
    {
      "cell_type": "code",
      "execution_count": 52,
      "metadata": {
        "colab": {
          "base_uri": "https://localhost:8080/",
          "height": 443
        },
        "id": "JiI1KNpk8NCc",
        "outputId": "88cc5b6d-a577-4d82-b750-f58374914cd9"
      },
      "outputs": [
        {
          "data": {
            "text/html": [
              "<div>\n",
              "<style scoped>\n",
              "    .dataframe tbody tr th:only-of-type {\n",
              "        vertical-align: middle;\n",
              "    }\n",
              "\n",
              "    .dataframe tbody tr th {\n",
              "        vertical-align: top;\n",
              "    }\n",
              "\n",
              "    .dataframe thead th {\n",
              "        text-align: right;\n",
              "    }\n",
              "</style>\n",
              "<table border=\"1\" class=\"dataframe\">\n",
              "  <thead>\n",
              "    <tr style=\"text-align: right;\">\n",
              "      <th></th>\n",
              "      <th>item</th>\n",
              "      <th>category</th>\n",
              "      <th>store_code</th>\n",
              "      <th>yearweek</th>\n",
              "      <th>sell_price</th>\n",
              "      <th>store</th>\n",
              "      <th>region</th>\n",
              "    </tr>\n",
              "  </thead>\n",
              "  <tbody>\n",
              "    <tr>\n",
              "      <th>0</th>\n",
              "      <td>ACCESORIES_1_001</td>\n",
              "      <td>ACCESORIES</td>\n",
              "      <td>NYC_1</td>\n",
              "      <td>201328.0</td>\n",
              "      <td>12.7414</td>\n",
              "      <td>Greenwich_Village</td>\n",
              "      <td>New York</td>\n",
              "    </tr>\n",
              "    <tr>\n",
              "      <th>1</th>\n",
              "      <td>ACCESORIES_1_001</td>\n",
              "      <td>ACCESORIES</td>\n",
              "      <td>NYC_1</td>\n",
              "      <td>201329.0</td>\n",
              "      <td>12.7414</td>\n",
              "      <td>Greenwich_Village</td>\n",
              "      <td>New York</td>\n",
              "    </tr>\n",
              "    <tr>\n",
              "      <th>2</th>\n",
              "      <td>ACCESORIES_1_001</td>\n",
              "      <td>ACCESORIES</td>\n",
              "      <td>NYC_1</td>\n",
              "      <td>201330.0</td>\n",
              "      <td>10.9858</td>\n",
              "      <td>Greenwich_Village</td>\n",
              "      <td>New York</td>\n",
              "    </tr>\n",
              "    <tr>\n",
              "      <th>3</th>\n",
              "      <td>ACCESORIES_1_001</td>\n",
              "      <td>ACCESORIES</td>\n",
              "      <td>NYC_1</td>\n",
              "      <td>201331.0</td>\n",
              "      <td>10.9858</td>\n",
              "      <td>Greenwich_Village</td>\n",
              "      <td>New York</td>\n",
              "    </tr>\n",
              "    <tr>\n",
              "      <th>4</th>\n",
              "      <td>ACCESORIES_1_001</td>\n",
              "      <td>ACCESORIES</td>\n",
              "      <td>NYC_1</td>\n",
              "      <td>201332.0</td>\n",
              "      <td>10.9858</td>\n",
              "      <td>Greenwich_Village</td>\n",
              "      <td>New York</td>\n",
              "    </tr>\n",
              "    <tr>\n",
              "      <th>...</th>\n",
              "      <td>...</td>\n",
              "      <td>...</td>\n",
              "      <td>...</td>\n",
              "      <td>...</td>\n",
              "      <td>...</td>\n",
              "      <td>...</td>\n",
              "      <td>...</td>\n",
              "    </tr>\n",
              "    <tr>\n",
              "      <th>6965701</th>\n",
              "      <td>SUPERMARKET_3_827</td>\n",
              "      <td>SUPERMARKET</td>\n",
              "      <td>PHI_3</td>\n",
              "      <td>NaN</td>\n",
              "      <td>1.2000</td>\n",
              "      <td>Queen_Village</td>\n",
              "      <td>Philadelphia</td>\n",
              "    </tr>\n",
              "    <tr>\n",
              "      <th>6965702</th>\n",
              "      <td>SUPERMARKET_3_827</td>\n",
              "      <td>SUPERMARKET</td>\n",
              "      <td>PHI_3</td>\n",
              "      <td>NaN</td>\n",
              "      <td>1.2000</td>\n",
              "      <td>Queen_Village</td>\n",
              "      <td>Philadelphia</td>\n",
              "    </tr>\n",
              "    <tr>\n",
              "      <th>6965703</th>\n",
              "      <td>SUPERMARKET_3_827</td>\n",
              "      <td>SUPERMARKET</td>\n",
              "      <td>PHI_3</td>\n",
              "      <td>NaN</td>\n",
              "      <td>1.2000</td>\n",
              "      <td>Queen_Village</td>\n",
              "      <td>Philadelphia</td>\n",
              "    </tr>\n",
              "    <tr>\n",
              "      <th>6965704</th>\n",
              "      <td>SUPERMARKET_3_827</td>\n",
              "      <td>SUPERMARKET</td>\n",
              "      <td>PHI_3</td>\n",
              "      <td>NaN</td>\n",
              "      <td>1.2000</td>\n",
              "      <td>Queen_Village</td>\n",
              "      <td>Philadelphia</td>\n",
              "    </tr>\n",
              "    <tr>\n",
              "      <th>6965705</th>\n",
              "      <td>SUPERMARKET_3_827</td>\n",
              "      <td>SUPERMARKET</td>\n",
              "      <td>PHI_3</td>\n",
              "      <td>NaN</td>\n",
              "      <td>1.2000</td>\n",
              "      <td>Queen_Village</td>\n",
              "      <td>Philadelphia</td>\n",
              "    </tr>\n",
              "  </tbody>\n",
              "</table>\n",
              "<p>6965706 rows × 7 columns</p>\n",
              "</div>"
            ],
            "text/plain": [
              "                      item     category store_code  yearweek  sell_price  \\\n",
              "0         ACCESORIES_1_001   ACCESORIES      NYC_1  201328.0     12.7414   \n",
              "1         ACCESORIES_1_001   ACCESORIES      NYC_1  201329.0     12.7414   \n",
              "2         ACCESORIES_1_001   ACCESORIES      NYC_1  201330.0     10.9858   \n",
              "3         ACCESORIES_1_001   ACCESORIES      NYC_1  201331.0     10.9858   \n",
              "4         ACCESORIES_1_001   ACCESORIES      NYC_1  201332.0     10.9858   \n",
              "...                    ...          ...        ...       ...         ...   \n",
              "6965701  SUPERMARKET_3_827  SUPERMARKET      PHI_3       NaN      1.2000   \n",
              "6965702  SUPERMARKET_3_827  SUPERMARKET      PHI_3       NaN      1.2000   \n",
              "6965703  SUPERMARKET_3_827  SUPERMARKET      PHI_3       NaN      1.2000   \n",
              "6965704  SUPERMARKET_3_827  SUPERMARKET      PHI_3       NaN      1.2000   \n",
              "6965705  SUPERMARKET_3_827  SUPERMARKET      PHI_3       NaN      1.2000   \n",
              "\n",
              "                     store        region  \n",
              "0        Greenwich_Village      New York  \n",
              "1        Greenwich_Village      New York  \n",
              "2        Greenwich_Village      New York  \n",
              "3        Greenwich_Village      New York  \n",
              "4        Greenwich_Village      New York  \n",
              "...                    ...           ...  \n",
              "6965701      Queen_Village  Philadelphia  \n",
              "6965702      Queen_Village  Philadelphia  \n",
              "6965703      Queen_Village  Philadelphia  \n",
              "6965704      Queen_Village  Philadelphia  \n",
              "6965705      Queen_Village  Philadelphia  \n",
              "\n",
              "[6965706 rows x 7 columns]"
            ]
          },
          "execution_count": 52,
          "metadata": {},
          "output_type": "execute_result"
        }
      ],
      "source": [
        "#conprobar nueva columna, se puede ver como se creo la columna region\n",
        "prices_region"
      ]
    },
    {
      "cell_type": "code",
      "execution_count": 53,
      "metadata": {},
      "outputs": [
        {
          "data": {
            "text/html": [
              "<div>\n",
              "<style scoped>\n",
              "    .dataframe tbody tr th:only-of-type {\n",
              "        vertical-align: middle;\n",
              "    }\n",
              "\n",
              "    .dataframe tbody tr th {\n",
              "        vertical-align: top;\n",
              "    }\n",
              "\n",
              "    .dataframe thead th {\n",
              "        text-align: right;\n",
              "    }\n",
              "</style>\n",
              "<table border=\"1\" class=\"dataframe\">\n",
              "  <thead>\n",
              "    <tr style=\"text-align: right;\">\n",
              "      <th></th>\n",
              "      <th>item</th>\n",
              "      <th>category</th>\n",
              "      <th>store_code</th>\n",
              "      <th>yearweek</th>\n",
              "      <th>sell_price</th>\n",
              "      <th>store</th>\n",
              "      <th>region</th>\n",
              "      <th>id</th>\n",
              "    </tr>\n",
              "  </thead>\n",
              "  <tbody>\n",
              "    <tr>\n",
              "      <th>0</th>\n",
              "      <td>ACCESORIES_1_001</td>\n",
              "      <td>ACCESORIES</td>\n",
              "      <td>NYC_1</td>\n",
              "      <td>201328.0</td>\n",
              "      <td>12.7414</td>\n",
              "      <td>Greenwich_Village</td>\n",
              "      <td>New York</td>\n",
              "      <td>ACCESORIES_1_001_NYC_1</td>\n",
              "    </tr>\n",
              "    <tr>\n",
              "      <th>1</th>\n",
              "      <td>ACCESORIES_1_001</td>\n",
              "      <td>ACCESORIES</td>\n",
              "      <td>NYC_1</td>\n",
              "      <td>201329.0</td>\n",
              "      <td>12.7414</td>\n",
              "      <td>Greenwich_Village</td>\n",
              "      <td>New York</td>\n",
              "      <td>ACCESORIES_1_001_NYC_1</td>\n",
              "    </tr>\n",
              "    <tr>\n",
              "      <th>2</th>\n",
              "      <td>ACCESORIES_1_001</td>\n",
              "      <td>ACCESORIES</td>\n",
              "      <td>NYC_1</td>\n",
              "      <td>201330.0</td>\n",
              "      <td>10.9858</td>\n",
              "      <td>Greenwich_Village</td>\n",
              "      <td>New York</td>\n",
              "      <td>ACCESORIES_1_001_NYC_1</td>\n",
              "    </tr>\n",
              "    <tr>\n",
              "      <th>3</th>\n",
              "      <td>ACCESORIES_1_001</td>\n",
              "      <td>ACCESORIES</td>\n",
              "      <td>NYC_1</td>\n",
              "      <td>201331.0</td>\n",
              "      <td>10.9858</td>\n",
              "      <td>Greenwich_Village</td>\n",
              "      <td>New York</td>\n",
              "      <td>ACCESORIES_1_001_NYC_1</td>\n",
              "    </tr>\n",
              "    <tr>\n",
              "      <th>4</th>\n",
              "      <td>ACCESORIES_1_001</td>\n",
              "      <td>ACCESORIES</td>\n",
              "      <td>NYC_1</td>\n",
              "      <td>201332.0</td>\n",
              "      <td>10.9858</td>\n",
              "      <td>Greenwich_Village</td>\n",
              "      <td>New York</td>\n",
              "      <td>ACCESORIES_1_001_NYC_1</td>\n",
              "    </tr>\n",
              "    <tr>\n",
              "      <th>...</th>\n",
              "      <td>...</td>\n",
              "      <td>...</td>\n",
              "      <td>...</td>\n",
              "      <td>...</td>\n",
              "      <td>...</td>\n",
              "      <td>...</td>\n",
              "      <td>...</td>\n",
              "      <td>...</td>\n",
              "    </tr>\n",
              "    <tr>\n",
              "      <th>6965701</th>\n",
              "      <td>SUPERMARKET_3_827</td>\n",
              "      <td>SUPERMARKET</td>\n",
              "      <td>PHI_3</td>\n",
              "      <td>NaN</td>\n",
              "      <td>1.2000</td>\n",
              "      <td>Queen_Village</td>\n",
              "      <td>Philadelphia</td>\n",
              "      <td>SUPERMARKET_3_827_PHI_3</td>\n",
              "    </tr>\n",
              "    <tr>\n",
              "      <th>6965702</th>\n",
              "      <td>SUPERMARKET_3_827</td>\n",
              "      <td>SUPERMARKET</td>\n",
              "      <td>PHI_3</td>\n",
              "      <td>NaN</td>\n",
              "      <td>1.2000</td>\n",
              "      <td>Queen_Village</td>\n",
              "      <td>Philadelphia</td>\n",
              "      <td>SUPERMARKET_3_827_PHI_3</td>\n",
              "    </tr>\n",
              "    <tr>\n",
              "      <th>6965703</th>\n",
              "      <td>SUPERMARKET_3_827</td>\n",
              "      <td>SUPERMARKET</td>\n",
              "      <td>PHI_3</td>\n",
              "      <td>NaN</td>\n",
              "      <td>1.2000</td>\n",
              "      <td>Queen_Village</td>\n",
              "      <td>Philadelphia</td>\n",
              "      <td>SUPERMARKET_3_827_PHI_3</td>\n",
              "    </tr>\n",
              "    <tr>\n",
              "      <th>6965704</th>\n",
              "      <td>SUPERMARKET_3_827</td>\n",
              "      <td>SUPERMARKET</td>\n",
              "      <td>PHI_3</td>\n",
              "      <td>NaN</td>\n",
              "      <td>1.2000</td>\n",
              "      <td>Queen_Village</td>\n",
              "      <td>Philadelphia</td>\n",
              "      <td>SUPERMARKET_3_827_PHI_3</td>\n",
              "    </tr>\n",
              "    <tr>\n",
              "      <th>6965705</th>\n",
              "      <td>SUPERMARKET_3_827</td>\n",
              "      <td>SUPERMARKET</td>\n",
              "      <td>PHI_3</td>\n",
              "      <td>NaN</td>\n",
              "      <td>1.2000</td>\n",
              "      <td>Queen_Village</td>\n",
              "      <td>Philadelphia</td>\n",
              "      <td>SUPERMARKET_3_827_PHI_3</td>\n",
              "    </tr>\n",
              "  </tbody>\n",
              "</table>\n",
              "<p>6965706 rows × 8 columns</p>\n",
              "</div>"
            ],
            "text/plain": [
              "                      item     category store_code  yearweek  sell_price  \\\n",
              "0         ACCESORIES_1_001   ACCESORIES      NYC_1  201328.0     12.7414   \n",
              "1         ACCESORIES_1_001   ACCESORIES      NYC_1  201329.0     12.7414   \n",
              "2         ACCESORIES_1_001   ACCESORIES      NYC_1  201330.0     10.9858   \n",
              "3         ACCESORIES_1_001   ACCESORIES      NYC_1  201331.0     10.9858   \n",
              "4         ACCESORIES_1_001   ACCESORIES      NYC_1  201332.0     10.9858   \n",
              "...                    ...          ...        ...       ...         ...   \n",
              "6965701  SUPERMARKET_3_827  SUPERMARKET      PHI_3       NaN      1.2000   \n",
              "6965702  SUPERMARKET_3_827  SUPERMARKET      PHI_3       NaN      1.2000   \n",
              "6965703  SUPERMARKET_3_827  SUPERMARKET      PHI_3       NaN      1.2000   \n",
              "6965704  SUPERMARKET_3_827  SUPERMARKET      PHI_3       NaN      1.2000   \n",
              "6965705  SUPERMARKET_3_827  SUPERMARKET      PHI_3       NaN      1.2000   \n",
              "\n",
              "                     store        region                       id  \n",
              "0        Greenwich_Village      New York   ACCESORIES_1_001_NYC_1  \n",
              "1        Greenwich_Village      New York   ACCESORIES_1_001_NYC_1  \n",
              "2        Greenwich_Village      New York   ACCESORIES_1_001_NYC_1  \n",
              "3        Greenwich_Village      New York   ACCESORIES_1_001_NYC_1  \n",
              "4        Greenwich_Village      New York   ACCESORIES_1_001_NYC_1  \n",
              "...                    ...           ...                      ...  \n",
              "6965701      Queen_Village  Philadelphia  SUPERMARKET_3_827_PHI_3  \n",
              "6965702      Queen_Village  Philadelphia  SUPERMARKET_3_827_PHI_3  \n",
              "6965703      Queen_Village  Philadelphia  SUPERMARKET_3_827_PHI_3  \n",
              "6965704      Queen_Village  Philadelphia  SUPERMARKET_3_827_PHI_3  \n",
              "6965705      Queen_Village  Philadelphia  SUPERMARKET_3_827_PHI_3  \n",
              "\n",
              "[6965706 rows x 8 columns]"
            ]
          },
          "execution_count": 53,
          "metadata": {},
          "output_type": "execute_result"
        }
      ],
      "source": [
        "#se crea la nueva columna ID en la base de datos prices, se hace un concatenar ente item y store_code, se llego a esta conclusion observando\n",
        "#el mismo patron en la base de datos sales\n",
        "prices_region['id'] = prices_region['item'] + \"_\" + prices_region['store_code']\n",
        "prices_region"
      ]
    },
    {
      "cell_type": "code",
      "execution_count": 42,
      "metadata": {
        "id": "7fMkrm-Tg92v"
      },
      "outputs": [],
      "source": [
        "#base de datos nueva y trasnformada, se procede a descargar y ver la en Power BI\n",
        "prices_region.to_csv(r'C:\\Users\\npere\\OneDrive\\Desktop\\Master Data Science\\capstone-project\\data_dsmarket\\Bases de datos modificadas\\prices_region.csv', index=False)"
      ]
    }
  ],
  "metadata": {
    "colab": {
      "provenance": [],
      "toc_visible": true
    },
    "kernelspec": {
      "display_name": "Python 3",
      "name": "python3"
    },
    "language_info": {
      "codemirror_mode": {
        "name": "ipython",
        "version": 3
      },
      "file_extension": ".py",
      "mimetype": "text/x-python",
      "name": "python",
      "nbconvert_exporter": "python",
      "pygments_lexer": "ipython3",
      "version": "3.12.1"
    }
  },
  "nbformat": 4,
  "nbformat_minor": 0
}
